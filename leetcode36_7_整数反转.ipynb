{
  "nbformat": 4,
  "nbformat_minor": 0,
  "metadata": {
    "colab": {
      "provenance": [],
      "authorship_tag": "ABX9TyOPog5cj/w43l1eikMs7d0U",
      "include_colab_link": true
    },
    "kernelspec": {
      "name": "python3",
      "display_name": "Python 3"
    },
    "language_info": {
      "name": "python"
    }
  },
  "cells": [
    {
      "cell_type": "markdown",
      "metadata": {
        "id": "view-in-github",
        "colab_type": "text"
      },
      "source": [
        "<a href=\"https://colab.research.google.com/github/anjunjin/DevinerEntier/blob/master/leetcode36_7_%E6%95%B4%E6%95%B0%E5%8F%8D%E8%BD%AC.ipynb\" target=\"_parent\"><img src=\"https://colab.research.google.com/assets/colab-badge.svg\" alt=\"Open In Colab\"/></a>"
      ]
    },
    {
      "cell_type": "markdown",
      "source": [
        "# 整数反转\n",
        "\n",
        "给你一个 32 位的有符号整数 x ，返回将 x 中的数字部分反转后的结果。\n",
        "\n",
        "如果反转后整数超过 32 位的有符号整数的范围 [−2^31,  2^31 − 1] ，就返回 0。\n",
        "\n",
        "假设环境不允许存储 64 位整数（有符号或无符号）。"
      ],
      "metadata": {
        "id": "r6Du6hA5THVl"
      }
    },
    {
      "cell_type": "markdown",
      "source": [
        "# 算法思路：\n",
        "\n",
        "为对当前数取对 10 的余数，再一项项填入res尾部，即可完成 int 翻转。\n",
        "\n",
        "\n",
        "边界情况处理： int 取值范围为 [-2^{31}, 2^{31} - 1]，如果翻转数字溢出，则立即返回 0。\n",
        "\n",
        "Python： 存储数字理论上是无限长度，因此每次计算完后判断 res 与 of 的大小关系即可；\n",
        "\n",
        "Java： 数字计算会溢出，因此要判断 res 和 of / 10 的大小关系（即确定再添 1 位是否会溢出）。\n",
        "\n",
        "Python的坑： 由于Python的 // 操作是向下取整，导致正负数取余 % 操作结果不一致，因此需要将原数字转为正数操作。"
      ],
      "metadata": {
        "id": "ezUXSh8iVsRS"
      }
    },
    {
      "cell_type": "markdown",
      "source": [
        "# % ：取模运算符\n",
        "\n",
        "返回除法运算的余数\n",
        "\n"
      ],
      "metadata": {
        "id": "MrmCD5JgV_wK"
      }
    },
    {
      "cell_type": "code",
      "source": [
        "123 % 10"
      ],
      "metadata": {
        "colab": {
          "base_uri": "https://localhost:8080/"
        },
        "id": "iARdCNfKVtIU",
        "outputId": "7356c700-6885-422c-93cf-daf7853dc6bd"
      },
      "execution_count": 1,
      "outputs": [
        {
          "output_type": "execute_result",
          "data": {
            "text/plain": [
              "3"
            ]
          },
          "metadata": {},
          "execution_count": 1
        }
      ]
    },
    {
      "cell_type": "code",
      "source": [
        "120 % 10"
      ],
      "metadata": {
        "colab": {
          "base_uri": "https://localhost:8080/"
        },
        "id": "1z7vW1owV1pz",
        "outputId": "1308560a-4696-4c6a-ebf2-3cdf70682a0e"
      },
      "execution_count": 2,
      "outputs": [
        {
          "output_type": "execute_result",
          "data": {
            "text/plain": [
              "0"
            ]
          },
          "metadata": {},
          "execution_count": 2
        }
      ]
    },
    {
      "cell_type": "markdown",
      "source": [
        "# y // 10 ：\n",
        "\n",
        "复合赋值运算符，等同于 y = y // 10 表示将 y 除以 10 的结果赋值给 y"
      ],
      "metadata": {
        "id": "p-YMt04JW4Ca"
      }
    },
    {
      "cell_type": "code",
      "source": [
        "y = 120\n",
        "y //= 10\n",
        "y"
      ],
      "metadata": {
        "colab": {
          "base_uri": "https://localhost:8080/"
        },
        "id": "RuIgprbgWhu5",
        "outputId": "7835944f-253d-4b58-afe1-2b3f6d992fe1"
      },
      "execution_count": 3,
      "outputs": [
        {
          "output_type": "execute_result",
          "data": {
            "text/plain": [
              "12"
            ]
          },
          "metadata": {},
          "execution_count": 3
        }
      ]
    },
    {
      "cell_type": "markdown",
      "source": [
        "# 1 << 31 ：\n",
        "\n",
        "<< ： 左移操作符，将一个数的所有二进制位向左移动指定的位数，并在右侧用 0 填充\n",
        "\n",
        "(1 << 31) ： 10000000000000000000000000000000，即十进制的 2,147,483,648\n",
        "\n"
      ],
      "metadata": {
        "id": "rS2l3lbvXl1g"
      }
    },
    {
      "cell_type": "markdown",
      "source": [
        "# Solution"
      ],
      "metadata": {
        "id": "XlbqhTKJXXtg"
      }
    },
    {
      "cell_type": "code",
      "execution_count": 4,
      "metadata": {
        "id": "_P9faJUISbbL"
      },
      "outputs": [],
      "source": [
        "class Solution:\n",
        "  def reverse(self, x: int) -> int:\n",
        "    # 将输入整数取绝对值\n",
        "    y = abs(x)\n",
        "    print(f\"y : {y} = abs({x})\")\n",
        "\n",
        "    # 初始翻转后的结果 res 为 0\n",
        "    res = 0\n",
        "    # y, res = abs(x), 0\n",
        "    print(f\"res : {res}\")\n",
        "\n",
        "    # 溢出 : overflow (of)\n",
        "    # 根据输入整数的正负性，确定溢出边界\n",
        "    # 整数 ：2 ^ 31 - 1\n",
        "    # 负数 ：-2 ^ 31\n",
        "    ofv = (1 << 31) - 1 if x > 0 else 1 << 31\n",
        "\n",
        "    if x > 0: print(f\"x : {x} > 0, ofv : {ofv}\")\n",
        "    else: print(f\"x : {x} <= 0, ofv : {ofv}\")\n",
        "\n",
        "\n",
        "    # 当取绝对值后的整数不为 0 时， 执行循环\n",
        "    while y != 0:\n",
        "      print(f\"y : {y} != 0, 开始循环\")\n",
        "\n",
        "      # 将 res 左移一位， 并加上 y 的各位数字\n",
        "      print(f\"res = {res} * 10 + {y} % 10\")\n",
        "      res = res * 10 + y % 10\n",
        "      print(f\"res = {res}\")\n",
        "\n",
        "      if res > ofv: print(f\"res : {res} > ofv : {ofv}, 超出边界\")\n",
        "      # 检查是否超出边界，如果超出则返回 0\n",
        "      if res > ofv: return 0\n",
        "\n",
        "      # 将 y 的个位数去掉\n",
        "      y //= 10\n",
        "      # y = y // 10\n",
        "      print(f\"y //= 10, y = {y}\")\n",
        "\n",
        "    # 根据输入整数的正负性，返回反转后的结果 res\n",
        "    return res if x > 0 else -res"
      ]
    },
    {
      "cell_type": "markdown",
      "source": [
        "# Test"
      ],
      "metadata": {
        "id": "Vw1UphiDTelL"
      }
    },
    {
      "cell_type": "code",
      "source": [
        "x = 123\n",
        "\n",
        "solution = Solution()\n",
        "result = solution.reverse(x)\n",
        "\n",
        "result"
      ],
      "metadata": {
        "colab": {
          "base_uri": "https://localhost:8080/"
        },
        "id": "qcFEYxTaTgk6",
        "outputId": "aad13ae3-896d-4ba9-e190-8c5d6bb258c2"
      },
      "execution_count": 5,
      "outputs": [
        {
          "output_type": "stream",
          "name": "stdout",
          "text": [
            "y : 123 = abs(123)\n",
            "res : 0\n",
            "x : 123 > 0, ofv : 2147483647\n",
            "y : 123 != 0, 开始循环\n",
            "res = 0 * 10 + 123 % 10\n",
            "res = 3\n",
            "y //= 10, y = 12\n",
            "y : 12 != 0, 开始循环\n",
            "res = 3 * 10 + 12 % 10\n",
            "res = 32\n",
            "y //= 10, y = 1\n",
            "y : 1 != 0, 开始循环\n",
            "res = 32 * 10 + 1 % 10\n",
            "res = 321\n",
            "y //= 10, y = 0\n"
          ]
        },
        {
          "output_type": "execute_result",
          "data": {
            "text/plain": [
              "321"
            ]
          },
          "metadata": {},
          "execution_count": 5
        }
      ]
    },
    {
      "cell_type": "code",
      "source": [
        "x = -123\n",
        "\n",
        "solution = Solution()\n",
        "result = solution.reverse(x)\n",
        "\n",
        "result"
      ],
      "metadata": {
        "colab": {
          "base_uri": "https://localhost:8080/"
        },
        "id": "EcrXTnorTiJ7",
        "outputId": "5b6e8cb5-de16-45de-9b96-3471ef6b0688"
      },
      "execution_count": 6,
      "outputs": [
        {
          "output_type": "stream",
          "name": "stdout",
          "text": [
            "y : 123 = abs(-123)\n",
            "res : 0\n",
            "x : -123 <= 0, ofv : 2147483648\n",
            "y : 123 != 0, 开始循环\n",
            "res = 0 * 10 + 123 % 10\n",
            "res = 3\n",
            "y //= 10, y = 12\n",
            "y : 12 != 0, 开始循环\n",
            "res = 3 * 10 + 12 % 10\n",
            "res = 32\n",
            "y //= 10, y = 1\n",
            "y : 1 != 0, 开始循环\n",
            "res = 32 * 10 + 1 % 10\n",
            "res = 321\n",
            "y //= 10, y = 0\n"
          ]
        },
        {
          "output_type": "execute_result",
          "data": {
            "text/plain": [
              "-321"
            ]
          },
          "metadata": {},
          "execution_count": 6
        }
      ]
    },
    {
      "cell_type": "code",
      "source": [
        "x = 120\n",
        "\n",
        "solution = Solution()\n",
        "result = solution.reverse(x)\n",
        "\n",
        "result"
      ],
      "metadata": {
        "colab": {
          "base_uri": "https://localhost:8080/"
        },
        "id": "LH71txL4Tjlr",
        "outputId": "a61ab541-ab7c-4234-b9b0-e34e1f557dc4"
      },
      "execution_count": 7,
      "outputs": [
        {
          "output_type": "stream",
          "name": "stdout",
          "text": [
            "y : 120 = abs(120)\n",
            "res : 0\n",
            "x : 120 > 0, ofv : 2147483647\n",
            "y : 120 != 0, 开始循环\n",
            "res = 0 * 10 + 120 % 10\n",
            "res = 0\n",
            "y //= 10, y = 12\n",
            "y : 12 != 0, 开始循环\n",
            "res = 0 * 10 + 12 % 10\n",
            "res = 2\n",
            "y //= 10, y = 1\n",
            "y : 1 != 0, 开始循环\n",
            "res = 2 * 10 + 1 % 10\n",
            "res = 21\n",
            "y //= 10, y = 0\n"
          ]
        },
        {
          "output_type": "execute_result",
          "data": {
            "text/plain": [
              "21"
            ]
          },
          "metadata": {},
          "execution_count": 7
        }
      ]
    },
    {
      "cell_type": "code",
      "source": [
        "x = 0\n",
        "\n",
        "solution = Solution()\n",
        "result = solution.reverse(x)\n",
        "\n",
        "result"
      ],
      "metadata": {
        "colab": {
          "base_uri": "https://localhost:8080/"
        },
        "id": "R2Cj4avDTlEL",
        "outputId": "150b4a68-0f0a-4349-86fc-7a8bd0c64123"
      },
      "execution_count": 8,
      "outputs": [
        {
          "output_type": "stream",
          "name": "stdout",
          "text": [
            "y : 0 = abs(0)\n",
            "res : 0\n",
            "x : 0 <= 0, ofv : 2147483648\n"
          ]
        },
        {
          "output_type": "execute_result",
          "data": {
            "text/plain": [
              "0"
            ]
          },
          "metadata": {},
          "execution_count": 8
        }
      ]
    }
  ]
}