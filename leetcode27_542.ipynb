{
  "nbformat": 4,
  "nbformat_minor": 0,
  "metadata": {
    "colab": {
      "provenance": [],
      "authorship_tag": "ABX9TyNQW2cw12sAsgXknwXQhjnb",
      "include_colab_link": true
    },
    "kernelspec": {
      "name": "python3",
      "display_name": "Python 3"
    },
    "language_info": {
      "name": "python"
    }
  },
  "cells": [
    {
      "cell_type": "markdown",
      "metadata": {
        "id": "view-in-github",
        "colab_type": "text"
      },
      "source": [
        "<a href=\"https://colab.research.google.com/github/anjunjin/DevinerEntier/blob/master/leetcode27_542.ipynb\" target=\"_parent\"><img src=\"https://colab.research.google.com/assets/colab-badge.svg\" alt=\"Open In Colab\"/></a>"
      ]
    },
    {
      "cell_type": "markdown",
      "source": [
        "# 01 矩阵\n",
        "\n",
        "给定一个由 0 和 1 组成的矩阵 mat ，请输出一个大小相同的矩阵，其中每一个格子是 mat 中对应位置元素到最近的 0 的距离。\n",
        "\n",
        "两个相邻元素间的距离为 1 。\n"
      ],
      "metadata": {
        "id": "6MIXXESGkqP6"
      }
    },
    {
      "cell_type": "code",
      "source": [
        "from typing import List"
      ],
      "metadata": {
        "id": "vvg5F3Q8pBhe"
      },
      "execution_count": 1,
      "outputs": []
    },
    {
      "cell_type": "code",
      "source": [
        "import collections"
      ],
      "metadata": {
        "id": "hebS3_pntg4H"
      },
      "execution_count": 2,
      "outputs": []
    },
    {
      "cell_type": "markdown",
      "source": [
        "# 广度优先搜索\n",
        "\n",
        "思路\n",
        "\n",
        "对于矩阵中的每一个元素，如果它的值为 0，那么离它最近的 0 就是它自己。\n",
        "\n",
        "如果它的值为 1，那么我们就需要找出离它最近的 0，并且返回这个距离值。\n",
        "\n",
        "那么我们如何对于矩阵中的每一个 1，都快速地找到离它最近的 0 呢？\n",
        "\n",
        "我们不妨从一个简化版本的问题开始考虑起。\n",
        "\n",
        "假设这个矩阵中恰好只有一个 0，我们应该怎么做？\n",
        "\n",
        "由于矩阵中只有一个 0，那么对于每一个 1，离它最近的 0 就是那个唯一的 0。如何求出这个距离呢？我们可以想到两种做法：\n",
        "\n",
        "1. 如果 0 在矩阵中的位置是 (i0,j0)，1 在矩阵中的位置是 (i1,j1)，那么我们可以直接算出 0 和 1 之间的距离。\n",
        "\n",
        "因为我们从 1 到 0 需要在水平方向走 ∣i0−i1∣步，竖直方向走 ∣j0−j1∣步，那么它们之间的距离就为 ∣i0−i1∣+∣j0−j1∣；\n",
        "\n",
        "\n",
        "2. 我们可以从 0 的位置开始进行 广度优先搜索。\n",
        "\n",
        "广度优先搜索可以找到从起点到其余所有点的 最短距离，因此如果我们从 0 开始搜索，每次搜索到一个 1，就可以得到 0 到这个 1 的最短距离，也就离这个 1 最近的 0 的距离了（因为矩阵中只有一个 0）。\n",
        "\n",
        "也就是说，在广度优先搜索的每一步中，如果我们从矩阵中的位置 x 搜索到了位置 y，并且 y 还没有被搜索过，那么位置 y 离 0 的距离就等于位置 x 离 0 的距离加上 1。\n",
        "\n",
        "对于上面的两种做法，第一种看上去简洁有效，只需要对每一个位置计算就行；\n",
        "\n",
        "\n",
        "\n",
        "第二种需要实现广度优先搜索，会复杂一些。\n",
        "\n",
        "但是，别忘了我们的题目中会有不止一个 0，这样一来，如果我们要使用第一种做法，就必须对于每个 1 计算一次它到所有的 0 的距离，再从中取一个最小值，时间复杂度会非常高，无法通过本地。\n",
        "\n",
        "而对于第二种做法，我们可以很有效地处理有多个 0 的情况。\n",
        "\n",
        "事实上，第一种做法也是可以处理多个 0 的情况的，但没有那么直观。\n",
        "\n",
        "感兴趣的读者可以在理解完方法一（即本方法）之后阅读方法二，那里介绍了第一种做法是如何扩展的。\n",
        "\n",
        "处理的方法很简单：我们在进行广度优先搜索的时候会使用到队列，在只有一个 0 的时候，我们在搜索前会把这个 0 的位置加入队列，才能开始进行搜索；\n",
        "\n",
        "如果有多个 0，我们只需要把这些 0 的位置都加入队列就行了。\n",
        "\n",
        "[广度优先搜索 leetcode](https://leetcode.cn/problems/01-matrix/solutions/202012/01ju-zhen-by-leetcode-solution/)\n",
        "\n"
      ],
      "metadata": {
        "id": "kEVlJ_AmnAqE"
      }
    },
    {
      "cell_type": "markdown",
      "source": [
        "[套路大解密：搞懂题目考察什么，剩下的任务就是套模板！](https://leetcode.cn/problems/01-matrix/solutions/203364/tao-lu-da-jie-mi-gao-dong-ti-mu-kao-cha-shi-yao-2/)\n",
        "\n",
        "[【🐼熊猫刷题Python3】BFS模板题，易懂！](https://leetcode.cn/problems/01-matrix/solutions/202979/xiong-mao-shua-ti-python3-bfsmo-ban-ti-yi-dong-by-/)\n",
        "\n",
        "\n",
        "剩下的任务就是套模板！\n",
        "\n",
        "BFS 使用队列，把每个还没有搜索到的点依次放入队列，然后再弹出队列的头部元素当做当前遍历点。\n",
        "\n",
        "BFS 总共有两个模板：\n",
        "\n",
        "如果不需要确定当前遍历到了哪一层，BFS 模板如下\n",
        "\n"
      ],
      "metadata": {
        "id": "fxhGPpfRplAM"
      }
    },
    {
      "cell_type": "code",
      "source": [
        "# while queue 不空：\n",
        "#     cur = queue.pop()\n",
        "#     for 节点 in cur的所有相邻节点：\n",
        "#         if 该节点有效且未访问过：\n",
        "#             queue.push(该节点)"
      ],
      "metadata": {
        "id": "JxCP0TSUp9k5"
      },
      "execution_count": 3,
      "outputs": []
    },
    {
      "cell_type": "markdown",
      "source": [
        "如果要确定当前遍历到了哪一层，BFS 模板如下。\n",
        "\n",
        "这里增加了 level 表示当前遍历到二叉树中的哪一层了，也可以理解为在一个图中，现在已经走了多少步了。\n",
        "\n",
        "size 表示在当前遍历层有多少个元素，也就是队列中的元素数，我们把这些元素一次性遍历完，即把当前层的所有元素都向外走了一步。"
      ],
      "metadata": {
        "id": "74qGPsQBqFAk"
      }
    },
    {
      "cell_type": "code",
      "source": [
        "# level = 0\n",
        "# while queue 不空：\n",
        "#     size = queue.size()\n",
        "#     while (size --) {\n",
        "#         cur = queue.pop()\n",
        "#         for 节点 in cur的所有相邻节点：\n",
        "#             if 该节点有效且未被访问过：\n",
        "#                 queue.push(该节点)\n",
        "#     }\n",
        "#     level ++;"
      ],
      "metadata": {
        "id": "UbOrTF_JqERH"
      },
      "execution_count": 4,
      "outputs": []
    },
    {
      "cell_type": "code",
      "source": [
        "# ----- m : nb de ligne\n",
        "# -----\n",
        "# -----\n",
        "# -----\n",
        "# -----\n",
        "# n : nb de colonne"
      ],
      "metadata": {
        "id": "oq4eycBermXo"
      },
      "execution_count": 5,
      "outputs": []
    },
    {
      "cell_type": "code",
      "source": [
        "#for zero in zeros_pos: print(zero) # 逐行打印\n",
        "# print(f\"\\nzeros_pos : \")\n",
        "# for i in range(m):\n",
        "#   for j in range(n):\n",
        "#     print(zeros_pos[i * 3 + j], end=\" \")\n",
        "#   print() # 每行结束时打印换行符"
      ],
      "metadata": {
        "id": "0iysy6BU5Y7y"
      },
      "execution_count": 6,
      "outputs": []
    },
    {
      "cell_type": "code",
      "execution_count": 7,
      "metadata": {
        "id": "VQ9XBVXmkivD"
      },
      "outputs": [],
      "source": [
        "# 更新矩阵中每个位置到最近的 0 的距离\n",
        "def updateMatrix(matrix: List[List[int]]) -> List[List[int]]:\n",
        "  print(\"Initial : \")\n",
        "\n",
        "  # 获取矩阵的行数 m 和列数 n\n",
        "  # len(matrix)：获取二维矩阵 matrix 的行数，即矩阵的高度\n",
        "  # len(matrix[0])：获取二维矩阵 matrix 第一行（索引为0）的元素个数，即矩阵的宽度\n",
        "  m, n = len(matrix), len(matrix[0])\n",
        "  print(f\"NB line : {m}, NB column : {n}\")\n",
        "\n",
        "  # 初始化一个二维列表 dist，用于存储每个位置到最近的 0 的距离。\n",
        "  # 初始时，所有位置的距离都为 0\n",
        "  # [[0] * n for _ in range(m)]：这是一个列表推导式，用于创建一个二维列表\n",
        "  # for _ in range(m)：遍历范围为 range(m)，即遍历 m 次\n",
        "  # [0] * n：创建一个长度为 n 的列表，每个元素初始化为 0\n",
        "  # 因此，外层循环会创建 m 行，每一行都是一个长度为 n 的列表，初始值都为 0\n",
        "  # 得到了一个大小为 m × n 的二维列表 dist，用于存储每个位置到最近的 0 的距离\n",
        "  dist = [[0] * n for _ in range(m)]\n",
        "  #print(f\"dist : {dist}\")\n",
        "  print(f\"\\ndist : \")\n",
        "  for i in range(m): print(dist[i])\n",
        "\n",
        "  # 使用 列表推导式 构建一个包含所有 0 的位置坐标的列表 zeroes_pos。\n",
        "  # 这个列表存储了矩阵中所有值为 0 的位置的行列坐标。\n",
        "  # 列表推导式，用于生成元组 (i, j)，其中 i 表示行索引，j 表示列索引\n",
        "  # for i in range(m) for j in range(n)：嵌套的两个循环遍历矩阵中的所有元素，从左上角到右下角\n",
        "  # if matrix[i][j] == 0：使用条件判断语句来过滤出值为 0 的元素坐标\n",
        "  # 当遍历到矩阵中值为 0 的元素时，将其坐标 (i, j) 添加到列表 zeroes_pos 中\n",
        "  zeros_pos = [(i, j) for i in range(m) for j in range(n) if matrix[i][j] == 0]\n",
        "  print(f\"\\nzeros_pos : {zeros_pos}\") # 在一行中\n",
        "\n",
        "\n",
        "  # 利用 collections 模块中的 deque 类创建一个双端队列 queue，并将所有的 0 的位置坐标添加到队列中\n",
        "  # 为了将所有值为 0 的元素坐标作为起点，准备进行广度优先搜索\n",
        "  # 将 zeroes_pos 中的元素作为双端队列 queue 的初始元素，这样队列中的元素就是起点，准备进行广度优先搜索\n",
        "  # 通过创建双端队列并将起点添加进去，我们可以在广度优先搜索过程中不断从队列中取出元素，\n",
        "  # 并将其周围的元素加入队列，实现搜索过程。\n",
        "  queue = collections.deque(zeros_pos)\n",
        "  print(f\"\\nqueue : {queue}\")\n",
        "\n",
        "  # 使用一个集合 seen 记录已经访问过的位置\n",
        "  seen = set(zeros_pos)\n",
        "  print(f\"\\nseen : {seen}\")\n",
        "\n",
        "  # while queue 不空：\n",
        "  #     cur = queue.pop()\n",
        "  #     for 节点 in cur的所有相邻节点：\n",
        "  #         if 该节点有效且未访问过：\n",
        "  #             queue.push(该节点)\n",
        "\n",
        "  # 开始广度优先搜索（BFS）\n",
        "  while queue:\n",
        "    # 从队列中弹出一个位置 (i, j)，表示当前位置的坐标\n",
        "    i, j = queue.popleft()\n",
        "\n",
        "    # 遍历当前位置 (i, j) 的四个相邻位置 (ni, nj)，分别为上下左右四个方向\n",
        "    for ni, nj in [(i - 1, j), (i + 1, j), (i, j - 1), (i, j + 1)]:\n",
        "\n",
        "      # 如果相邻位置 (ni, nj) 合法且未被访问过，\n",
        "      # 0 <= ni < m  !!!!! not <= m\n",
        "      # 0 <= nj < n  !!!!! not <= n\n",
        "      #if 0 <= ni < m and 0 <= nj < n and (ni, nj) not in seen:\n",
        "      if ((0 <= ni < m) and (0 <= nj < n) and ((ni, nj) not in seen)):\n",
        "\n",
        "        # 则更新该位置到最近的 0 的距离为当前位置到 0 的距离加 1\n",
        "        dist[ni][nj] = dist[i][j] + 1\n",
        "\n",
        "        # 并将其加入队列 queue 和集合 seen 中\n",
        "        queue.append((ni, nj))\n",
        "        seen.add((ni, nj))\n",
        "\n",
        "        print(f\"\\ndist : \")\n",
        "        for i in range(m): print(dist[i])\n",
        "\n",
        "        print(f\"\\n(ni, nj) add : ({ni, nj})\")\n",
        "        print(f\"\\nqueue : {queue}\")\n",
        "        print(f\"\\nseen : {seen}\")\n",
        "\n",
        "\n",
        "  # 当队列为空时，表示已经遍历完所有位置，此时的 dist 即为更新后的距离矩阵，返回即可。\n",
        "  return dist\n",
        "\n",
        "# 利用了广度优先搜索的思想，从矩阵中的所有 0 出发，依次向四周扩展，更新每个位置到最近的 0 的距离。\n",
        "# 最终得到了更新后的距离矩阵。"
      ]
    },
    {
      "cell_type": "markdown",
      "source": [
        "# Test\n",
        "\n"
      ],
      "metadata": {
        "id": "LPceWFzXo80T"
      }
    },
    {
      "cell_type": "code",
      "source": [
        "mat = [[0,0,0],[0,1,0],[0,0,0]]\n",
        "\n",
        "mat_update = updateMatrix(mat)\n",
        "\n",
        "print(mat_update)\n",
        "\n",
        "for i in range(len(mat_update)): print(mat_update[i])"
      ],
      "metadata": {
        "colab": {
          "base_uri": "https://localhost:8080/"
        },
        "id": "Xnj-8W03sSvP",
        "outputId": "2b6e524a-876f-4f7b-95ba-a0e6e13af980"
      },
      "execution_count": 13,
      "outputs": [
        {
          "output_type": "stream",
          "name": "stdout",
          "text": [
            "Initial : \n",
            "NB line : 3, NB column : 3\n",
            "\n",
            "dist : \n",
            "[0, 0, 0]\n",
            "[0, 0, 0]\n",
            "[0, 0, 0]\n",
            "\n",
            "zeros_pos : [(0, 0), (0, 1), (0, 2), (1, 0), (1, 2), (2, 0), (2, 1), (2, 2)]\n",
            "\n",
            "queue : deque([(0, 0), (0, 1), (0, 2), (1, 0), (1, 2), (2, 0), (2, 1), (2, 2)])\n",
            "\n",
            "seen : {(0, 1), (1, 2), (2, 1), (0, 0), (2, 0), (0, 2), (2, 2), (1, 0)}\n",
            "\n",
            "dist : \n",
            "[0, 0, 0]\n",
            "[0, 1, 0]\n",
            "[0, 0, 0]\n",
            "\n",
            "(ni, nj) add : ((1, 1))\n",
            "\n",
            "queue : deque([(0, 2), (1, 0), (1, 2), (2, 0), (2, 1), (2, 2), (1, 1)])\n",
            "\n",
            "seen : {(0, 1), (1, 2), (2, 1), (0, 0), (1, 1), (2, 0), (0, 2), (2, 2), (1, 0)}\n",
            "[[0, 0, 0], [0, 1, 0], [0, 0, 0]]\n",
            "[0, 0, 0]\n",
            "[0, 1, 0]\n",
            "[0, 0, 0]\n"
          ]
        }
      ]
    },
    {
      "cell_type": "code",
      "source": [
        "mat = [[0,0,0],[0,1,0],[1,1,1]]\n",
        "\n",
        "mat_update = updateMatrix(mat)\n",
        "\n",
        "print(mat_update)\n",
        "\n",
        "for i in range(len(mat_update)): print(mat_update[i])"
      ],
      "metadata": {
        "colab": {
          "base_uri": "https://localhost:8080/"
        },
        "id": "dB6wFFHCsVuK",
        "outputId": "92aebe9a-02d0-4de6-f684-f44d72125ea3"
      },
      "execution_count": 14,
      "outputs": [
        {
          "output_type": "stream",
          "name": "stdout",
          "text": [
            "Initial : \n",
            "NB line : 3, NB column : 3\n",
            "\n",
            "dist : \n",
            "[0, 0, 0]\n",
            "[0, 0, 0]\n",
            "[0, 0, 0]\n",
            "\n",
            "zeros_pos : [(0, 0), (0, 1), (0, 2), (1, 0), (1, 2)]\n",
            "\n",
            "queue : deque([(0, 0), (0, 1), (0, 2), (1, 0), (1, 2)])\n",
            "\n",
            "seen : {(0, 1), (1, 2), (0, 0), (0, 2), (1, 0)}\n",
            "\n",
            "dist : \n",
            "[0, 0, 0]\n",
            "[0, 1, 0]\n",
            "[0, 0, 0]\n",
            "\n",
            "(ni, nj) add : ((1, 1))\n",
            "\n",
            "queue : deque([(0, 2), (1, 0), (1, 2), (1, 1)])\n",
            "\n",
            "seen : {(0, 1), (1, 2), (0, 0), (1, 1), (0, 2), (1, 0)}\n",
            "\n",
            "dist : \n",
            "[0, 0, 0]\n",
            "[0, 1, 0]\n",
            "[1, 0, 0]\n",
            "\n",
            "(ni, nj) add : ((2, 0))\n",
            "\n",
            "queue : deque([(1, 2), (1, 1), (2, 0)])\n",
            "\n",
            "seen : {(0, 1), (1, 2), (0, 0), (1, 1), (2, 0), (0, 2), (1, 0)}\n",
            "\n",
            "dist : \n",
            "[0, 0, 0]\n",
            "[0, 1, 0]\n",
            "[1, 0, 1]\n",
            "\n",
            "(ni, nj) add : ((2, 2))\n",
            "\n",
            "queue : deque([(1, 1), (2, 0), (2, 2)])\n",
            "\n",
            "seen : {(0, 1), (1, 2), (0, 0), (1, 1), (2, 0), (0, 2), (2, 2), (1, 0)}\n",
            "\n",
            "dist : \n",
            "[0, 0, 0]\n",
            "[0, 1, 0]\n",
            "[1, 2, 1]\n",
            "\n",
            "(ni, nj) add : ((2, 1))\n",
            "\n",
            "queue : deque([(2, 0), (2, 2), (2, 1)])\n",
            "\n",
            "seen : {(0, 1), (1, 2), (2, 1), (0, 0), (1, 1), (2, 0), (0, 2), (2, 2), (1, 0)}\n",
            "[[0, 0, 0], [0, 1, 0], [1, 2, 1]]\n",
            "[0, 0, 0]\n",
            "[0, 1, 0]\n",
            "[1, 2, 1]\n"
          ]
        }
      ]
    }
  ]
}