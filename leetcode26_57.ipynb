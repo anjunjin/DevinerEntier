{
  "nbformat": 4,
  "nbformat_minor": 0,
  "metadata": {
    "colab": {
      "provenance": [],
      "authorship_tag": "ABX9TyMQKD0RftdG/gvy3uXRtxH9",
      "include_colab_link": true
    },
    "kernelspec": {
      "name": "python3",
      "display_name": "Python 3"
    },
    "language_info": {
      "name": "python"
    }
  },
  "cells": [
    {
      "cell_type": "markdown",
      "metadata": {
        "id": "view-in-github",
        "colab_type": "text"
      },
      "source": [
        "<a href=\"https://colab.research.google.com/github/anjunjin/DevinerEntier/blob/master/leetcode26_57.ipynb\" target=\"_parent\"><img src=\"https://colab.research.google.com/assets/colab-badge.svg\" alt=\"Open In Colab\"/></a>"
      ]
    },
    {
      "cell_type": "markdown",
      "source": [
        "# 插入区间\n",
        "\n",
        "给你一个 无重叠的 ，按照区间起始端点排序的区间列表。\n",
        "\n",
        "在列表中插入一个新的区间，你需要确保列表中的区间仍然有序且不重叠（如果有必要的话，可以合并区间）。\n",
        "\n"
      ],
      "metadata": {
        "id": "7U8R2RnjP_Aj"
      }
    },
    {
      "cell_type": "markdown",
      "source": [
        "对于区间 S1=[l1,r1] 和 S2=[l2,r2]，\n",
        "\n",
        "如果它们之间没有重叠（没有交集），说明要么 S1 在 S2的左侧，此时有 r1<l2；\n",
        "\n",
        "要么 S1 在 S2 的右侧，此时有 l1>r2。\n",
        "\n",
        "如果 r1<l2 和 l1>r2 二者均不满足，说明 S1 和 S2 必定有交集，它们的交集即为\n",
        "\n",
        "[max⁡(l1,l2),min⁡(r1,r2)]\n",
        "\n",
        "并集即为\n",
        "\n",
        "[min⁡(l1,l2),max⁡(r1,r2)]\n",
        "\n",
        "[插入区间 leetcode](https://leetcode.cn/problems/insert-interval/solutions/472151/cha-ru-qu-jian-by-leetcode-solution/)"
      ],
      "metadata": {
        "id": "c1nXxUJyQ9jH"
      }
    },
    {
      "cell_type": "code",
      "source": [
        "from typing import List"
      ],
      "metadata": {
        "id": "inh-6wdnUwYR"
      },
      "execution_count": 1,
      "outputs": []
    },
    {
      "cell_type": "markdown",
      "source": [
        "# 模拟\n",
        "\n",
        "思路与算法\n",
        "\n",
        "在给定的区间集合 X 互不重叠的前提下，当我们需要插入一个新的区间 S=[left,right]时，我们只需要：\n",
        "\n",
        "找出所有与区间 S 重叠的区间集合 X′；\n",
        "\n",
        "将 X′中的所有区间连带上区间 S 合并成一个大区间；\n",
        "\n",
        "最终的答案即为不与 X′重叠的区间以及合并后的大区间。\n",
        "\n",
        "这样做的正确性在于，给定的区间集合中任意两个区间都是没有交集的，因此所有需要合并的区间，就是所有与区间 S 重叠的区间。\n",
        "\n",
        "并且，在给定的区间集合已经按照左端点排序的前提下，所有与区间 S 重叠的区间在数组 intervals 中下标范围是连续的，因此我们可以对所有的区间进行一次遍历，就可以找到这个连续的下标范围。\n",
        "\n",
        "\n",
        "当我们遍历到区间 [li,ri] 时：\n",
        "\n",
        "如果 ri<left，说明 [li,ri] 与 S 不重叠并且在其左侧，我们可以直接将 [li,ri] 加入答案；\n",
        "\n",
        "如果 li>right，说明 [li,ri] 与 S 不重叠并且在其右侧，我们可以直接将 [li,ri] 加入答案；\n",
        "\n",
        "如果上面两种情况均不满足，说明 [li,ri] 与 S 重叠，我们无需将 [li,ri] 加入答案。此时，我们需要将 S 与 [li,ri] 合并，即将 S 更新为其与 [li,ri] 的并集。\n",
        "\n",
        "那么我们应当在什么时候将区间 S 加入答案呢？\n",
        "\n",
        "由于我们需要保证答案也是按照左端点排序的，因此当我们遇到第一个 满足 li>right 的区间时，说明以后遍历到的区间不会与 S 重叠，并且它们左端点一定会大于 S 的左端点。\n",
        "\n",
        "此时我们就可以将 S 加入答案。\n",
        "\n",
        "特别地，如果不存在这样的区间，我们需要在遍历结束后，将 S 加入答案。\n",
        "\n"
      ],
      "metadata": {
        "id": "PEZuKxMuS8kT"
      }
    },
    {
      "cell_type": "markdown",
      "source": [
        "复杂度分析\n",
        "\n",
        "时间复杂度：O(n)，其中 n 是数组 intervals 的长度，即给定的区间个数。\n",
        "\n",
        "空间复杂度：O(1)。除了存储返回答案的空间以外，我们只需要额外的常数空间即可。"
      ],
      "metadata": {
        "id": "Mb2IK5CmUkN6"
      }
    },
    {
      "cell_type": "code",
      "execution_count": 2,
      "metadata": {
        "id": "D0aHIhrkGC1Y"
      },
      "outputs": [],
      "source": [
        "def insert(interval: List[List[int]], newInterval: List[int]) -> List[List[int]]:\n",
        "  print(\"Initial : \")\n",
        "\n",
        "  # 从参数中获取新的区间的左右边界 left 和 right\n",
        "  left, right = newInterval\n",
        "  print(f\"newInterval : [{left}, {right}]\")\n",
        "\n",
        "  # 初始化一个布尔变量 placed，用于标记新的区间是否已经插入到合适的位置\n",
        "  placed = False\n",
        "  print(f\"placed : {placed}\")\n",
        "\n",
        "  # 初始化一个空列表 ans，用于存储最终的合并后的区间列表\n",
        "  ans = list()\n",
        "  print(f\"ans : {ans}\\n\")\n",
        "\n",
        "  # for 循环遍历给定的区间列表 intervals，对于每个区间 [li, ri]，执行以下操作\n",
        "  for li, ri in intervals:\n",
        "    print(f\"intervals : [{li}, {ri}], newInterval : [{left}, {right}]\")\n",
        "\n",
        "    # 如果当前区间的左边界 li 大于新区间的右边界 right，说明当前区间在新区间的右侧且无交集，\n",
        "    # 可以直接将新区间插入到当前位置，并将 placed 标记为 True\n",
        "    if li > right: # 在插入区间的右侧且无交集\n",
        "      if not placed:\n",
        "        ans.append([left, right])\n",
        "        placed = True\n",
        "\n",
        "        print(f\"{li} > {right} : insert [{left}, {right}], placed : {placed}\")\n",
        "      ans.append([li, ri])\n",
        "      print(f\"ans : {ans}\\n\")\n",
        "\n",
        "\n",
        "    # 如果当前区间的右边界 ri 小于新区间的左边界 left，说明当前区间在新区间的左侧且无交集，\n",
        "    # 直接将当前区间加入到结果列表 ans 中。\n",
        "    elif ri < left: # 在插入区间的左侧且无交集\n",
        "      print(f\"{ri} < {left} : insert [{li}, {ri}], placed : {placed}\")\n",
        "\n",
        "      ans.append([li, ri])\n",
        "\n",
        "      print(f\"ans : {ans}\\n\")\n",
        "\n",
        "    # 如果当前区间与新区间有交集，则更新新区间的左右边界，使其能够包含当前区间\n",
        "    else: # 与插入区间有交集，计算它们的并集\n",
        "      print(f\"left = min({left}, {li}) = {min(left, li)}\")\n",
        "      left = min(left, li)\n",
        "\n",
        "      print(f\"right = max({right}, {ri}) = {max(right, ri)}\\n\")\n",
        "      right = max(right, ri)\n",
        "\n",
        "\n",
        "  # 如果在遍历完所有区间后，新区间还未插入到合适的位置，说明新区间应该插入到区间列表的末尾\n",
        "  if not placed:\n",
        "    ans.append([left, right])\n",
        "\n",
        "  # 返回最终合并后的区间列表 ans\n",
        "  return ans"
      ]
    },
    {
      "cell_type": "markdown",
      "source": [
        "# Test\n"
      ],
      "metadata": {
        "id": "hhplq3zQQLhp"
      }
    },
    {
      "cell_type": "code",
      "source": [
        "intervals = [[1,3],[6,9]]\n",
        "newInterval = [2,5]\n",
        "\n",
        "insert(intervals, newInterval)"
      ],
      "metadata": {
        "colab": {
          "base_uri": "https://localhost:8080/"
        },
        "id": "bWPZgRzLQPuv",
        "outputId": "5dde4551-59e2-4a25-bd6e-58eee05aea17"
      },
      "execution_count": 3,
      "outputs": [
        {
          "output_type": "stream",
          "name": "stdout",
          "text": [
            "Initial : \n",
            "newInterval : [2, 5]\n",
            "placed : False\n",
            "ans : []\n",
            "\n",
            "intervals : [1, 3], newInterval : [2, 5]\n",
            "left = min(2, 1) = 1\n",
            "right = max(5, 3) = 5\n",
            "\n",
            "intervals : [6, 9], newInterval : [1, 5]\n",
            "6 > 5 : insert [1, 5], placed : True\n",
            "ans : [[1, 5], [6, 9]]\n",
            "\n"
          ]
        },
        {
          "output_type": "execute_result",
          "data": {
            "text/plain": [
              "[[1, 5], [6, 9]]"
            ]
          },
          "metadata": {},
          "execution_count": 3
        }
      ]
    },
    {
      "cell_type": "code",
      "source": [
        "intervals = [[1,2],[3,5],[6,7],[8,10],[12,16]]\n",
        "newInterval = [4,8]\n",
        "\n",
        "insert(intervals, newInterval)"
      ],
      "metadata": {
        "colab": {
          "base_uri": "https://localhost:8080/"
        },
        "id": "lP4hdRQSQRLO",
        "outputId": "e8d1143e-f40f-4e51-f7bc-726fbe7940b0"
      },
      "execution_count": 4,
      "outputs": [
        {
          "output_type": "stream",
          "name": "stdout",
          "text": [
            "Initial : \n",
            "newInterval : [4, 8]\n",
            "placed : False\n",
            "ans : []\n",
            "\n",
            "intervals : [1, 2], newInterval : [4, 8]\n",
            "2 < 4 : insert [1, 2], placed : False\n",
            "ans : [[1, 2]]\n",
            "\n",
            "intervals : [3, 5], newInterval : [4, 8]\n",
            "left = min(4, 3) = 3\n",
            "right = max(8, 5) = 8\n",
            "\n",
            "intervals : [6, 7], newInterval : [3, 8]\n",
            "left = min(3, 6) = 3\n",
            "right = max(8, 7) = 8\n",
            "\n",
            "intervals : [8, 10], newInterval : [3, 8]\n",
            "left = min(3, 8) = 3\n",
            "right = max(8, 10) = 10\n",
            "\n",
            "intervals : [12, 16], newInterval : [3, 10]\n",
            "12 > 10 : insert [3, 10], placed : True\n",
            "ans : [[1, 2], [3, 10], [12, 16]]\n",
            "\n"
          ]
        },
        {
          "output_type": "execute_result",
          "data": {
            "text/plain": [
              "[[1, 2], [3, 10], [12, 16]]"
            ]
          },
          "metadata": {},
          "execution_count": 4
        }
      ]
    },
    {
      "cell_type": "code",
      "source": [
        "intervals = []\n",
        "newInterval = [5,7]\n",
        "\n",
        "insert(intervals, newInterval)"
      ],
      "metadata": {
        "colab": {
          "base_uri": "https://localhost:8080/"
        },
        "id": "SGzk7g3AQSqU",
        "outputId": "74886489-1e10-46c3-ba28-5cd752fa80ba"
      },
      "execution_count": 5,
      "outputs": [
        {
          "output_type": "stream",
          "name": "stdout",
          "text": [
            "Initial : \n",
            "newInterval : [5, 7]\n",
            "placed : False\n",
            "ans : []\n",
            "\n"
          ]
        },
        {
          "output_type": "execute_result",
          "data": {
            "text/plain": [
              "[[5, 7]]"
            ]
          },
          "metadata": {},
          "execution_count": 5
        }
      ]
    },
    {
      "cell_type": "code",
      "source": [
        "intervals = [[1,5]]\n",
        "newInterval = [2,3]\n",
        "\n",
        "insert(intervals, newInterval)"
      ],
      "metadata": {
        "colab": {
          "base_uri": "https://localhost:8080/"
        },
        "id": "3QrxZoJJQT-_",
        "outputId": "09370f3d-b010-4e7c-8c99-2ba121f487d1"
      },
      "execution_count": 6,
      "outputs": [
        {
          "output_type": "stream",
          "name": "stdout",
          "text": [
            "Initial : \n",
            "newInterval : [2, 3]\n",
            "placed : False\n",
            "ans : []\n",
            "\n",
            "intervals : [1, 5], newInterval : [2, 3]\n",
            "left = min(2, 1) = 1\n",
            "right = max(3, 5) = 5\n",
            "\n"
          ]
        },
        {
          "output_type": "execute_result",
          "data": {
            "text/plain": [
              "[[1, 5]]"
            ]
          },
          "metadata": {},
          "execution_count": 6
        }
      ]
    },
    {
      "cell_type": "code",
      "source": [
        "intervals = [[1,5]]\n",
        "newInterval = [2,7]\n",
        "\n",
        "insert(intervals, newInterval)"
      ],
      "metadata": {
        "colab": {
          "base_uri": "https://localhost:8080/"
        },
        "id": "4EOoxlGKQVXz",
        "outputId": "5b533b36-3eaf-4f40-c857-9ea02f9e7eab"
      },
      "execution_count": 7,
      "outputs": [
        {
          "output_type": "stream",
          "name": "stdout",
          "text": [
            "Initial : \n",
            "newInterval : [2, 7]\n",
            "placed : False\n",
            "ans : []\n",
            "\n",
            "intervals : [1, 5], newInterval : [2, 7]\n",
            "left = min(2, 1) = 1\n",
            "right = max(7, 5) = 7\n",
            "\n"
          ]
        },
        {
          "output_type": "execute_result",
          "data": {
            "text/plain": [
              "[[1, 7]]"
            ]
          },
          "metadata": {},
          "execution_count": 7
        }
      ]
    }
  ]
}