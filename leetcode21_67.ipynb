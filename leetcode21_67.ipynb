{
  "nbformat": 4,
  "nbformat_minor": 0,
  "metadata": {
    "colab": {
      "provenance": [],
      "authorship_tag": "ABX9TyM299Boq/MgtggQXAy3Ih3c",
      "include_colab_link": true
    },
    "kernelspec": {
      "name": "python3",
      "display_name": "Python 3"
    },
    "language_info": {
      "name": "python"
    }
  },
  "cells": [
    {
      "cell_type": "markdown",
      "metadata": {
        "id": "view-in-github",
        "colab_type": "text"
      },
      "source": [
        "<a href=\"https://colab.research.google.com/github/anjunjin/DevinerEntier/blob/master/leetcode21_67.ipynb\" target=\"_parent\"><img src=\"https://colab.research.google.com/assets/colab-badge.svg\" alt=\"Open In Colab\"/></a>"
      ]
    },
    {
      "cell_type": "markdown",
      "source": [
        "# 二进制求和\n",
        "\n",
        "给你两个二进制字符串 a 和 b ，以二进制字符串的形式返回它们的和。\n",
        "\n"
      ],
      "metadata": {
        "id": "KJazGcPVGD82"
      }
    },
    {
      "cell_type": "markdown",
      "source": [
        "# 内置函数\n",
        "\n",
        "先将 a 和 b 转化成十进制数，求和后再转化为二进制数。\n",
        "\n",
        "如果 a 的位数是 n，b 的位数为 m，这个算法的渐进时间复杂度为 O(n+m)。\n",
        "\n",
        "但是这里非常简单的实现基于 Python 和 Java 本身的高精度功能，在其他的语言中可能并不适用，并且在 Java 中：\n",
        "\n",
        "如果字符串超过 33 位，不能转化为 Integer\n",
        "\n",
        "如果字符串超过 65 位，不能转化为 Long\n",
        "\n",
        "如果字符串超过 500000001 位，不能转化为 BigInteger\n",
        "\n",
        "因此，为了适用于长度较大的字符串计算，我们应该使用更加健壮的算法。\n",
        "\n"
      ],
      "metadata": {
        "id": "7grnAVXcHkla"
      }
    },
    {
      "cell_type": "code",
      "execution_count": 1,
      "metadata": {
        "id": "9Mdvf5AZsV3e"
      },
      "outputs": [],
      "source": [
        "def addBinary(a: str, b: str) -> str:\n",
        "  # int(a, 2) 和 int(b, 2)：将二进制字符串 a 和 b 分别转换为对应的十进制整数。\n",
        "  # 参数 2 表示解释字符串为二进制数字。\n",
        "  # int(a, 2) + int(b, 2)：将两个二进制字符串转换为对应的十进制整数，并进行相加操作\n",
        "  # '{0:b}'.format(...)：将相加后的十进制整数格式化为二进制字符串。\n",
        "  # {0:b} 指定了格式化字符串的格式，其中的 0 表示使用第一个参数的格式，而 :b 表示格式化为二进制表示。\n",
        "  # 返回相加后的二进制字符串\n",
        "  return '{0:b}'.format(int(a,2) + int(b,2))"
      ]
    },
    {
      "cell_type": "code",
      "source": [
        "a=\"111\"\n",
        "print(\"int(a,2) : \",int(a,2))\n",
        "print(\"int(a,10) : \",int(a,10))"
      ],
      "metadata": {
        "colab": {
          "base_uri": "https://localhost:8080/"
        },
        "id": "o6wx2ZUEJuCL",
        "outputId": "8ab3d4da-31b1-4451-cb43-5d8114de236b"
      },
      "execution_count": 2,
      "outputs": [
        {
          "output_type": "stream",
          "name": "stdout",
          "text": [
            "int(a,2) :  7\n",
            "int(a,10) :  111\n"
          ]
        }
      ]
    },
    {
      "cell_type": "code",
      "source": [
        "# '{0:b}' 是一个字符串，用作格式说明符，表示二进制格式，\n",
        "# .format(7) 将这个格式应用到整数 7 上，将其转换为二进制表示。\n",
        "'{0:b}'.format(7)"
      ],
      "metadata": {
        "colab": {
          "base_uri": "https://localhost:8080/",
          "height": 35
        },
        "id": "Cu-7DpbqKTeL",
        "outputId": "e31642b1-0f3a-407e-efc5-3c6e61c047ba"
      },
      "execution_count": 3,
      "outputs": [
        {
          "output_type": "execute_result",
          "data": {
            "text/plain": [
              "'111'"
            ],
            "application/vnd.google.colaboratory.intrinsic+json": {
              "type": "string"
            }
          },
          "metadata": {},
          "execution_count": 3
        }
      ]
    },
    {
      "cell_type": "markdown",
      "source": [
        "# Test"
      ],
      "metadata": {
        "id": "V4GRkrLSJfZ2"
      }
    },
    {
      "cell_type": "code",
      "source": [
        "a = \"11\"\n",
        "b = \"1\"\n",
        "\n",
        "addBinary(a,b)"
      ],
      "metadata": {
        "colab": {
          "base_uri": "https://localhost:8080/",
          "height": 35
        },
        "id": "eyzgoxY0Je-i",
        "outputId": "316811f2-717f-4be4-987d-8363f60bee4d"
      },
      "execution_count": 4,
      "outputs": [
        {
          "output_type": "execute_result",
          "data": {
            "text/plain": [
              "'100'"
            ],
            "application/vnd.google.colaboratory.intrinsic+json": {
              "type": "string"
            }
          },
          "metadata": {},
          "execution_count": 4
        }
      ]
    },
    {
      "cell_type": "code",
      "source": [
        "a = \"1010\"\n",
        "b = \"1011\"\n",
        "\n",
        "addBinary(a,b)"
      ],
      "metadata": {
        "colab": {
          "base_uri": "https://localhost:8080/",
          "height": 35
        },
        "id": "65lsekqrJjZc",
        "outputId": "732253c3-72a9-4bd6-a939-405e1284fd4c"
      },
      "execution_count": 5,
      "outputs": [
        {
          "output_type": "execute_result",
          "data": {
            "text/plain": [
              "'10101'"
            ],
            "application/vnd.google.colaboratory.intrinsic+json": {
              "type": "string"
            }
          },
          "metadata": {},
          "execution_count": 5
        }
      ]
    },
    {
      "cell_type": "markdown",
      "source": [
        "# 内置函数"
      ],
      "metadata": {
        "id": "NwsWg6a7OVvr"
      }
    },
    {
      "cell_type": "code",
      "source": [
        "def addBinary1(a: str, b: str) -> str:\n",
        "  # int(a, 2) 和 int(b, 2)：将二进制字符串 a 和 b 分别转换为对应的十进制整数。\n",
        "  # 参数 2 表示解释字符串为二进制数字。\n",
        "  # int(a, 2) + int(b, 2)：将两个二进制字符串转换为对应的十进制整数，并进行相加操作\n",
        "  # bin(...): 将相加后的十进制整数转换为二进制字符串。\n",
        "  # 函数 bin() 返回一个字符串，表示整数的二进制表示。\n",
        "  # 这个字符串的格式以 '0b' 开头，后面跟着二进制表示的数字。\n",
        "  # [2:]: 这是一个切片操作，用于去除二进制字符串的前缀 '0b'。\n",
        "  # 因为 bin() 返回的二进制字符串的前缀是 '0b'，我们通过切片操作去除前缀部分，返回纯粹的二进制表示。\n",
        "  return bin(int(a,2) + int(b,2))[2:]"
      ],
      "metadata": {
        "id": "9avpdGrCOTbb"
      },
      "execution_count": 6,
      "outputs": []
    },
    {
      "cell_type": "code",
      "source": [
        "a=\"111\"\n",
        "print(\"int(a,2) : \",int(a,2))\n",
        "print(\"bin(int(a,2)) : \", bin(int(a,2)))\n",
        "print(\"bin(int(a,2))[2:] : \", bin(int(a,2))[2:])"
      ],
      "metadata": {
        "colab": {
          "base_uri": "https://localhost:8080/"
        },
        "id": "ByQk0CYTOyRY",
        "outputId": "0b852624-0e56-41f9-f6e4-249db075d223"
      },
      "execution_count": 7,
      "outputs": [
        {
          "output_type": "stream",
          "name": "stdout",
          "text": [
            "int(a,2) :  7\n",
            "bin(int(a,2)) :  0b111\n",
            "bin(int(a,2))[2:] :  111\n"
          ]
        }
      ]
    },
    {
      "cell_type": "markdown",
      "source": [
        "# Test 1"
      ],
      "metadata": {
        "id": "DnAuFKy1PXgk"
      }
    },
    {
      "cell_type": "code",
      "source": [
        "a = \"11\"\n",
        "b = \"1\"\n",
        "\n",
        "addBinary1(a,b)"
      ],
      "metadata": {
        "colab": {
          "base_uri": "https://localhost:8080/",
          "height": 35
        },
        "outputId": "834df29b-2ea5-45a2-eb9f-c5c206add6a7",
        "id": "4HfK5a7lPXg2"
      },
      "execution_count": 8,
      "outputs": [
        {
          "output_type": "execute_result",
          "data": {
            "text/plain": [
              "'100'"
            ],
            "application/vnd.google.colaboratory.intrinsic+json": {
              "type": "string"
            }
          },
          "metadata": {},
          "execution_count": 8
        }
      ]
    },
    {
      "cell_type": "code",
      "source": [
        "a = \"1010\"\n",
        "b = \"1011\"\n",
        "\n",
        "addBinary1(a,b)"
      ],
      "metadata": {
        "colab": {
          "base_uri": "https://localhost:8080/",
          "height": 35
        },
        "outputId": "520e59ff-4a46-40ed-ca2a-d6b0cd3bc88b",
        "id": "9L2pe3KQPXg3"
      },
      "execution_count": 9,
      "outputs": [
        {
          "output_type": "execute_result",
          "data": {
            "text/plain": [
              "'10101'"
            ],
            "application/vnd.google.colaboratory.intrinsic+json": {
              "type": "string"
            }
          },
          "metadata": {},
          "execution_count": 9
        }
      ]
    },
    {
      "cell_type": "markdown",
      "source": [
        "# 位运算??????\n",
        "\n",
        "如果不了解位运算，可以先了解位运算并尝试练习以下题目：\n",
        "\n",
        "只出现一次的数字 II\n",
        "\n",
        "只出现一次的数字 III\n",
        "\n",
        "数组中两个数的最大异或值\n",
        "\n",
        "重复的DNA序列\n",
        "\n",
        "最大单词长度乘积\n",
        "\n",
        "我们可以设计这样的算法来计算：\n",
        "\n",
        "[位运算leetcode](https://leetcode.cn/problems/add-binary/solutions/299667/er-jin-zhi-qiu-he-by-leetcode-solution/)\n",
        "\n",
        "思路和算法\n",
        "\n",
        "如果不允许使用加减乘除，则可以使用位运算替代上述运算中的一些加减乘除的操作。\n",
        "\n",
        "\n",
        "\n",
        "把 a 和 b 转换成整型数字 x 和 y，在接下来的过程中，x 保存结果，y 保存进位。\n",
        "\n",
        "当进位不为 0 时\n",
        "\n",
        "计算当前 x 和 y 的无进位相加结果：answer = x ^ y\n",
        "\n",
        "计算当前 x 和 y 的进位：carry = (x & y) << 1\n",
        "\n",
        "完成本次循环，更新 x = answer，y = carry\n",
        "\n",
        "返回 x 的二进制形式\n",
        "\n",
        "为什么这个方法是可行的呢？\n",
        "\n",
        "在第一轮计算中，answer 的最后一位是 x 和 y 相加之后的结果，carry 的倒数第二位是 x 和 y 最后一位相加的进位。\n",
        "\n",
        "接着每一轮中，由于 carry 是由 x 和 y 按位与并且左移得到的，那么最后会补零，所以在下面计算的过程中后面的数位不受影响，而每一轮都可以得到一个低 i 位的答案和它向低 i+1 位的进位，也就模拟了加法的过程。"
      ],
      "metadata": {
        "id": "87CoLI7PMMTh"
      }
    },
    {
      "cell_type": "code",
      "source": [
        "def addBinary2(a:str, b:str) -> str:\n",
        "  # 将二进制字符串 a 和 b 分别转换为对应的十进制整数，分别赋值给变量 x 和 y\n",
        "  x, y = int(a,2), int(b,2)\n",
        "\n",
        "  # while y : 当 y 不为零时执行循环体内的操作\n",
        "  while y:\n",
        "    # 使用异或操作 ^ 计算 x 和 y 的无进位加法结果，保存在 answer 中\n",
        "    answer = x ^ y\n",
        "\n",
        "    # 使用按位与操作 & 和左移操作 << 计算 x 和 y 的进位，保存在 carry 中\n",
        "    carry = (x & y) << 1\n",
        "\n",
        "    # 更新 x 和 y 的值，将无进位加法结果赋给 x，将进位赋给 y\n",
        "    x, y = answer, carry\n",
        "\n",
        "  # 将 x 转换为二进制字符串，并返回其二进制表示（去除前缀 '0b'）\n",
        "  return bin(x)[2:]"
      ],
      "metadata": {
        "id": "5FWVRk4IOEH8"
      },
      "execution_count": 10,
      "outputs": []
    },
    {
      "cell_type": "markdown",
      "source": [
        "# Test 2"
      ],
      "metadata": {
        "id": "_OvyBBlcQ2Y3"
      }
    },
    {
      "cell_type": "code",
      "source": [
        "a = \"11\"\n",
        "b = \"1\"\n",
        "\n",
        "addBinary2(a,b)"
      ],
      "metadata": {
        "colab": {
          "base_uri": "https://localhost:8080/",
          "height": 35
        },
        "outputId": "f058d92c-ceef-4f0a-af6d-8ba43843354e",
        "id": "kSF3IwrNQ2ZG"
      },
      "execution_count": 11,
      "outputs": [
        {
          "output_type": "execute_result",
          "data": {
            "text/plain": [
              "'100'"
            ],
            "application/vnd.google.colaboratory.intrinsic+json": {
              "type": "string"
            }
          },
          "metadata": {},
          "execution_count": 11
        }
      ]
    },
    {
      "cell_type": "code",
      "source": [
        "a = \"1010\"\n",
        "b = \"1011\"\n",
        "\n",
        "addBinary2(a,b)"
      ],
      "metadata": {
        "colab": {
          "base_uri": "https://localhost:8080/",
          "height": 35
        },
        "outputId": "5d3b9762-8a18-4cd4-d6c7-999ec113181a",
        "id": "97Xi9URvQ2ZH"
      },
      "execution_count": 12,
      "outputs": [
        {
          "output_type": "execute_result",
          "data": {
            "text/plain": [
              "'10101'"
            ],
            "application/vnd.google.colaboratory.intrinsic+json": {
              "type": "string"
            }
          },
          "metadata": {},
          "execution_count": 12
        }
      ]
    }
  ]
}