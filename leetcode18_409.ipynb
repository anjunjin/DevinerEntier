{
  "nbformat": 4,
  "nbformat_minor": 0,
  "metadata": {
    "colab": {
      "provenance": [],
      "authorship_tag": "ABX9TyOGaxJFlWbEjR2jKhB2607p",
      "include_colab_link": true
    },
    "kernelspec": {
      "name": "python3",
      "display_name": "Python 3"
    },
    "language_info": {
      "name": "python"
    }
  },
  "cells": [
    {
      "cell_type": "markdown",
      "metadata": {
        "id": "view-in-github",
        "colab_type": "text"
      },
      "source": [
        "<a href=\"https://colab.research.google.com/github/anjunjin/DevinerEntier/blob/master/leetcode18_409.ipynb\" target=\"_parent\"><img src=\"https://colab.research.google.com/assets/colab-badge.svg\" alt=\"Open In Colab\"/></a>"
      ]
    },
    {
      "cell_type": "markdown",
      "source": [
        "# 最长的回文串\n",
        "\n",
        "给定一个包含大写字母和小写字母的字符串 s ，返回 通过这些字母构造成的 最长的回文串 。\n",
        "\n",
        "在构造过程中，请注意 区分大小写 。比如 \"Aa\" 不能当做一个回文字符串。\n",
        "\n",
        "\n",
        "\n",
        "「回文串」是指倒序后和自身完全相同的字符串，即具有关于中心轴对称的性质。\n",
        "\n",
        "当回文串长度为偶数时，则所有字符都出现了偶数次；\n",
        "\n",
        "当回文串长度为奇数时，则位于中心的字符出现了奇数次，其余所有字符出现偶数次；"
      ],
      "metadata": {
        "id": "yINFoVsKr_Uv"
      }
    },
    {
      "cell_type": "markdown",
      "source": [
        "[最长的回文串 leetcode](https://leetcode.cn/problems/longest-palindrome/solutions/156931/zui-chang-hui-wen-chuan-by-leetcode-solution/)\n",
        "\n",
        "[最长回文串（哈希表，清晰图解）](https://leetcode.cn/problems/longest-palindrome/solutions/1693273/409-zui-chang-hui-wen-chuan-by-jyd-ne80/)\n",
        "\n",
        "[构造最长回文串](https://leetcode.cn/problems/longest-palindrome/solutions/2120312/gou-zao-zui-chang-hui-wen-chuan-by-liu-w-ixq7/)"
      ],
      "metadata": {
        "id": "3PDJIzDVd-L5"
      }
    },
    {
      "cell_type": "markdown",
      "source": [
        "# 贪心\n",
        "\n",
        "回文串是一个正着读和反着读都一样的字符串。\n",
        "\n",
        "以回文中心为分界线，对于回文串中左侧的字符 ch，在右侧对称的位置也会出现同样的字符。\n",
        "\n",
        "例如在字符串 \"abba\" 中，回文中心是 \"ab|ba\" 中竖线的位置，而在字符串 \"abcba\" 中，回文中心是 \"ab(c)ba\" 中的字符 \"c\" 本身。\n",
        "\n",
        "我们可以发现，在一个回文串中，只有最多一个字符出现了奇数次，其余的字符都出现偶数次。\n",
        "\n",
        "那么我们如何通过给定的字符构造一个回文串呢？\n",
        "\n",
        "我们可以将每个字符使用偶数次，使得它们根据回文中心对称。\n",
        "\n",
        "在这之后，如果有剩余的字符，我们可以再取出一个，作为回文中心。\n",
        "\n",
        "算法\n",
        "\n",
        "对于每个字符 ch，假设它出现了 v 次，我们可以使用该字符 v / 2 * 2 次，在回文串的左侧和右侧分别放置 v / 2 个字符 ch，其中 / 为整数除法。\n",
        "\n",
        "例如若 \"a\" 出现了 5 次，那么我们可以使用 \"a\" 的次数为 4，回文串的左右两侧分别放置 2 个 \"a\"。\n",
        "\n",
        "如果有任何一个字符 ch 的出现次数 v 为奇数（即 v % 2 == 1），那么可以将这个字符作为回文中心，注意只能最多有一个字符作为回文中心。\n",
        "\n",
        "在代码中，我们用 ans 存储回文串的长度，由于在遍历字符时，ans 每次会增加 v / 2 * 2，因此 ans 一直为偶数。\n",
        "\n",
        "但在发现了第一个出现次数为奇数的字符后，我们将 ans 增加 1，这样 ans 变为奇数，在后面发现其它出现奇数次的字符时，我们就不改变 ans 的值了。\n",
        "\n",
        "\n"
      ],
      "metadata": {
        "id": "w4r_ZJ7WZS8f"
      }
    },
    {
      "cell_type": "markdown",
      "source": [
        "复杂度分析\n",
        "\n",
        "时间复杂度：O(N)，其中 N 为字符串 s 的长度。我们需要遍历每个字符一次。\n",
        "\n",
        "空间复杂度：O(S)，其中 S 为字符集大小。\n",
        "\n",
        "在 Java 代码中，我们使用了一个长度为 128 的数组，存储每个字符出现的次数，这是因为字符的 ASCII 值的范围为 [0, 128)。\n",
        "\n",
        "而由于题目中保证了给定的字符串 s 只包含大小写字母，因此我们也可以使用哈希映射（HashMap）来存储每个字符出现的次数，例如 Python 和 C++ 的代码。\n",
        "\n",
        "如果使用哈希映射，最多只会存储 52 个（即小写字母与大写字母的数量之和）键值对。\n",
        "\n"
      ],
      "metadata": {
        "id": "rNfrnr4-dUvA"
      }
    },
    {
      "cell_type": "code",
      "source": [
        "# collections.Counter(ransomNote) : 创建了一个 Counter 对象，用于统计 ransomNote 中每个字符出现的次数\n",
        "# collections.Counter(magazine) : 创建了一个 Counter 对象，用于统计 magazine 中每个字符出现的次数\n",
        "# not collections.Counter(ransomNote) - collections.Counter(magazine) :\n",
        "# 执行了两个 Counter 对象的减法操作\n",
        "# Counter 对象之间的减法操作会删除相同的键并减去对应的值，\n",
        "# 如果结果 Counter 对象为空（即没有剩余的字符需要构造），则返回 True，否则返回 False\n",
        "# not 操作符将结果取反，确保当可以构造时返回 True，不能构造时返回 False\n",
        "#return collections.Counter(ransomNote) - collections.Counter(magazine)"
      ],
      "metadata": {
        "id": "BjaEXu1Bah4o"
      },
      "execution_count": 3,
      "outputs": []
    },
    {
      "cell_type": "code",
      "source": [
        "import collections"
      ],
      "metadata": {
        "id": "9p4KOjKZalFc"
      },
      "execution_count": 4,
      "outputs": []
    },
    {
      "cell_type": "code",
      "execution_count": 24,
      "metadata": {
        "id": "kUIRD0M5r5ro"
      },
      "outputs": [],
      "source": [
        "def longestPalindrome(s: str) -> int:\n",
        "  # 初始化 ans 为 0, 用 ans 存储回文串的长度\n",
        "  ans = 0\n",
        "  # count 为 s 中字符的计数器\n",
        "  count = collections.Counter(s)\n",
        "\n",
        "  # counter result\n",
        "  print(f\"count : {count}\")\n",
        "\n",
        "  # 遍历 count 中的每个值 v，对于每个值\n",
        "  for v in count.values():\n",
        "\n",
        "    # 通过 v // 2 * 2 计算当前字符可以构成的回文串的数量。\n",
        "    # 例如，如果某个字符出现了 5 次，那么可以构成的回文串数量为 5 // 2 * 2 = 4。\n",
        "    # // 是整数除法运算符，它返回的是整数部分的结果，而不包含小数部分。\n",
        "    # 与之相对，/ 是普通的除法运算符，返回浮点数结果\n",
        "    ans += v // 2 * 2\n",
        "\n",
        "    # 如果 ans 是偶数且 v 是奇数，意味着当前字符的数量是奇数且可以用来构成回文串的中心，因此将 ans 增加 1\n",
        "    if ans % 2 == 0 and v % 2 == 1 : ans += 1\n",
        "\n",
        "  # 返回 ans，即构成最长回文串的字符数量\n",
        "  return ans"
      ]
    },
    {
      "cell_type": "markdown",
      "source": [
        "# Test"
      ],
      "metadata": {
        "id": "AwcduhUgb4rr"
      }
    },
    {
      "cell_type": "code",
      "source": [
        "s = \"abccccdd\"\n",
        "longestPalindrome(s)"
      ],
      "metadata": {
        "colab": {
          "base_uri": "https://localhost:8080/"
        },
        "id": "FZc9uyZ3b6ZX",
        "outputId": "cd2e61d3-f801-412d-ec90-d5ee9899ce94"
      },
      "execution_count": 25,
      "outputs": [
        {
          "output_type": "stream",
          "name": "stdout",
          "text": [
            "count : Counter({'c': 4, 'd': 2, 'a': 1, 'b': 1})\n"
          ]
        },
        {
          "output_type": "execute_result",
          "data": {
            "text/plain": [
              "7"
            ]
          },
          "metadata": {},
          "execution_count": 25
        }
      ]
    },
    {
      "cell_type": "code",
      "source": [
        "s = \"a\"\n",
        "longestPalindrome(s)"
      ],
      "metadata": {
        "colab": {
          "base_uri": "https://localhost:8080/"
        },
        "id": "PPeUrrpgcEj2",
        "outputId": "ed2be3f7-978f-4c53-9285-864ea2771843"
      },
      "execution_count": 26,
      "outputs": [
        {
          "output_type": "stream",
          "name": "stdout",
          "text": [
            "count : Counter({'a': 1})\n"
          ]
        },
        {
          "output_type": "execute_result",
          "data": {
            "text/plain": [
              "1"
            ]
          },
          "metadata": {},
          "execution_count": 26
        }
      ]
    },
    {
      "cell_type": "code",
      "source": [
        "s = \"aaaaaccc\"\n",
        "longestPalindrome(s)"
      ],
      "metadata": {
        "colab": {
          "base_uri": "https://localhost:8080/"
        },
        "id": "mjIYOGUEcGAk",
        "outputId": "a685e914-ddfb-45d5-debd-3d2ecb3c2c30"
      },
      "execution_count": 27,
      "outputs": [
        {
          "output_type": "stream",
          "name": "stdout",
          "text": [
            "count : Counter({'a': 5, 'c': 3})\n"
          ]
        },
        {
          "output_type": "execute_result",
          "data": {
            "text/plain": [
              "7"
            ]
          },
          "metadata": {},
          "execution_count": 27
        }
      ]
    }
  ]
}