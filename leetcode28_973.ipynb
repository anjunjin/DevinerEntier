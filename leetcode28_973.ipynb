{
  "nbformat": 4,
  "nbformat_minor": 0,
  "metadata": {
    "colab": {
      "provenance": [],
      "authorship_tag": "ABX9TyMQVRuJxKsqedAyAKt2OCQv",
      "include_colab_link": true
    },
    "kernelspec": {
      "name": "python3",
      "display_name": "Python 3"
    },
    "language_info": {
      "name": "python"
    }
  },
  "cells": [
    {
      "cell_type": "markdown",
      "metadata": {
        "id": "view-in-github",
        "colab_type": "text"
      },
      "source": [
        "<a href=\"https://colab.research.google.com/github/anjunjin/DevinerEntier/blob/master/leetcode28_973.ipynb\" target=\"_parent\"><img src=\"https://colab.research.google.com/assets/colab-badge.svg\" alt=\"Open In Colab\"/></a>"
      ]
    },
    {
      "cell_type": "markdown",
      "source": [
        "# 最接近原点的 K 个点\n",
        "\n",
        "给定一个数组 points ，其中 points[i] = [xi, yi] 表示 X-Y 平面上的一个点，并且是一个整数 k ，返回离原点 (0,0) 最近的 k 个点。\n",
        "\n",
        "这里，平面上两点之间的距离是 欧几里德距离（ √(x1 - x2)2 + (y1 - y2)2 ）。\n",
        "\n",
        "你可以按 任何顺序 返回答案。除了点坐标的顺序之外，答案 确保 是 唯一 的。"
      ],
      "metadata": {
        "id": "MrDQPOABcMiv"
      }
    },
    {
      "cell_type": "markdown",
      "source": [
        "当我们计算出每个点到原点的欧几里得距离的平方后，本题和「剑指 Offer 40. 最小的k个数」是完全一样的题。\n",
        "\n",
        "为什么是欧几里得距离的「平方」？\n",
        "\n",
        "这是因为欧几里得距离并不一定是个整数，在进行计算和比较时可能会引进误差；\n",
        "\n",
        "但它的平方一定是个整数，这样我们就无需考虑误差了。\n"
      ],
      "metadata": {
        "id": "dqBhu4TRcrnO"
      }
    },
    {
      "cell_type": "code",
      "source": [
        "from typing import List"
      ],
      "metadata": {
        "id": "cL6CGCjEc_C9"
      },
      "execution_count": 1,
      "outputs": []
    },
    {
      "cell_type": "markdown",
      "source": [
        "# 排序\n",
        "\n",
        "思路和算法\n",
        "\n",
        "将每个点到原点的欧几里得距离的平方从小到大排序后，取出前 kkk 个即可。\n",
        "\n",
        "\n",
        "复杂度分析\n",
        "\n",
        "时间复杂度：O(nlog⁡n)，其中 n 是数组 points 的长度。\n",
        "\n",
        "算法的时间复杂度即排序的时间复杂度。\n",
        "\n",
        "空间复杂度：O(log⁡n)，排序所需额外的空间复杂度为 O(log⁡n)。\n",
        "\n",
        "\n",
        "\n",
        "[最接近原点的 K 个点leetcode](https://leetcode.cn/problems/k-closest-points-to-origin/solutions/477916/zui-jie-jin-yuan-dian-de-k-ge-dian-by-leetcode-sol/)"
      ],
      "metadata": {
        "id": "AN6fXF1Gc3yi"
      }
    },
    {
      "cell_type": "code",
      "execution_count": 2,
      "metadata": {
        "id": "1PXI5bajbk0v"
      },
      "outputs": [],
      "source": [
        "def KClosest(points: List[List[int]], k: int) -> List[List[int]]:\n",
        "  # 使用 sort() 方法对点集 points 进行排序，\n",
        "  # 排序的关键字是点到原点的距离的平方，即 (x[0] ** 2 + x[1] ** 2)。\n",
        "  points.sort(key=lambda x: (x[0] ** 2 + x[1] ** 2))\n",
        "\n",
        "  # 根据排序的结果，前 k 个点即为距离原点最近的 k 个点，因此直接返回 points[:k] 即可\n",
        "  return points[:k]"
      ]
    },
    {
      "cell_type": "markdown",
      "source": [
        "# Test"
      ],
      "metadata": {
        "id": "aaNcY-Tgd9mj"
      }
    },
    {
      "cell_type": "code",
      "source": [
        "points = [[1,3],[-2,2]]\n",
        "k = 1\n",
        "\n",
        "KClosest(points, k)"
      ],
      "metadata": {
        "colab": {
          "base_uri": "https://localhost:8080/"
        },
        "id": "PMr87Nmqd_aw",
        "outputId": "4951ed6a-7f06-458b-a060-86059c603f66"
      },
      "execution_count": 3,
      "outputs": [
        {
          "output_type": "execute_result",
          "data": {
            "text/plain": [
              "[[-2, 2]]"
            ]
          },
          "metadata": {},
          "execution_count": 3
        }
      ]
    },
    {
      "cell_type": "code",
      "source": [
        "points = [[3,3],[5,-1],[-2,4]]\n",
        "k = 2\n",
        "\n",
        "KClosest(points, k)"
      ],
      "metadata": {
        "colab": {
          "base_uri": "https://localhost:8080/"
        },
        "id": "iCIr0E-5eBnQ",
        "outputId": "171922db-2c0d-43ca-d9bc-b014d196fcb4"
      },
      "execution_count": 4,
      "outputs": [
        {
          "output_type": "execute_result",
          "data": {
            "text/plain": [
              "[[3, 3], [-2, 4]]"
            ]
          },
          "metadata": {},
          "execution_count": 4
        }
      ]
    },
    {
      "cell_type": "markdown",
      "source": [
        "# 堆\n",
        "\n",
        "思路和算法\n",
        "\n",
        "我们可以使用一个大根堆实时维护前 k 个最小的距离平方。\n",
        "\n",
        "首先我们将前 k 个点的编号（为了方便最后直接得到答案）以及对应的距离平方放入大根堆中，随后从第 k+1 个点开始遍历：如果当前点的距离平方比堆顶的点的距离平方要小，就把堆顶的点弹出，再插入当前的点。\n",
        "\n",
        "当遍历完成后，所有在大根堆中的点就是前 k 个距离最小的点。\n",
        "\n",
        "不同的语言提供的堆的默认情况不一定相同。\n",
        "\n",
        "在 C++ 语言中，堆（即优先队列）为大根堆，但在 Python 语言中，堆为小根堆，因此我们需要在小根堆中存储（以及比较）距离平方的相反数。\n",
        "\n",
        "\n",
        "复杂度分析\n",
        "\n",
        "时间复杂度：O(nlog⁡k)，其中 n 是数组 points 的长度。\n",
        "\n",
        "由于大根堆维护的是前 k 个距离最小的点，因此弹出和插入操作的单次时间复杂度均为 O(log⁡k)。\n",
        "\n",
        "在最坏情况下，数组里 n 个点都会插入，因此时间复杂度为 O(nlog⁡k)。\n",
        "\n",
        "空间复杂度：O(k)，因为大根堆中最多有 k 个点。"
      ],
      "metadata": {
        "id": "aYNfsk4ueJoI"
      }
    },
    {
      "cell_type": "markdown",
      "source": [
        "????????????????????????????\n",
        "\n",
        "**heapq.heapify(q)**\n",
        "\n",
        "**heapq.heappushpop(q, (dist, i))**"
      ],
      "metadata": {
        "id": "zNvtkGUxwp5T"
      }
    },
    {
      "cell_type": "code",
      "source": [
        "import heapq"
      ],
      "metadata": {
        "id": "HB8P454skKxK"
      },
      "execution_count": 5,
      "outputs": []
    },
    {
      "cell_type": "code",
      "source": [
        "def KClosest1(points: List[List[int]], k:int) -> List[List[int]]:\n",
        "  #\n",
        "  print(\"Initial : \")\n",
        "  print(f\"points : {points}, len(points) : {len(points)}, \\nk : {k}, points[:k] : {points[:k]}\")\n",
        "\n",
        "\n",
        "\n",
        "  # 使用列表推导式构建了一个列表 q，其中包含了前 k 个点到原点的距离的相反数以及它们在原始列表 points 中的索引。\n",
        "  # enumerate(points[:k])：enumerate 函数，用于遍历 points[:k] 列表的元素，并返回它们的索引和对应的值。\n",
        "  # points[:k] 表示取 points 列表的前 k 个元素。\n",
        "  # for i, (x, y) in enumerate(points[:k])：循环，遍历前 k 个点的索引 i 和对应的坐标 (x, y)。\n",
        "  # (-x ** 2 - y ** 2, i)：元组，包含了点到原点的距离的相反数和点在原始列表 points 中的索引。\n",
        "  # 距离的计算采用欧几里得距离的平方，并取负值。\n",
        "  # 因此，q 列表中的每个元素都是一个二元组 (-distance_to_origin, index)，表示一个点到原点的距离的相反数和它在原始列表中的索引。\n",
        "  q = [(-x ** 2 - y ** 2, i) for i, (x, y) in enumerate(points[:k])]\n",
        "  print(f\"q(-distance_to_origin, index) : {q}\")\n",
        "\n",
        "  # heapq.heapify(q) 是将列表 q 转换为最小堆的操作。\n",
        "  # 在 Python 中，heapq.heapify() 函数用于将一个列表转换为最小堆。\n",
        "  # 最小堆是一种数据结构，其中父节点的值小于或等于其子节点的值。\n",
        "  # heapq.heapify(q) 函数会就地（in-place）改变列表 q，使其满足最小堆的性质。\n",
        "  # q 是一个包含元组的列表，每个元组的第一个元素是点到原点的距离的相反数，第二个元素是点在原始列表中的索引。\n",
        "  # 通过 heapq.heapify(q)，我们将列表 q 转换为了一个最小堆，以便后续的操作能够高效地找到最小的元素。\n",
        "  heapq.heapify(q)\n",
        "  print(f\"q(-distance_to_origin, index) heapq.heapify(q): {q}\")\n",
        "\n",
        "  # 将剩余的点加入到最小堆 q 中，并同时弹出堆顶的元素，以保持堆的大小为 k, 同时保证堆顶元素是距离原点最小的点\n",
        "  # 获取点的总数\n",
        "  n = len(points)\n",
        "\n",
        "  # 遍历从 k 开始直到 n-1 的索引\n",
        "  for i in range(k, n):\n",
        "    # 获取第 i 个点的横纵坐标\n",
        "    x, y = points[i]\n",
        "    # dist : distance\n",
        "    dist = -x ** 2 - y ** 2\n",
        "    print(f\"\\npoint[{i}] : ({x, y}), dist : {dist}\")\n",
        "\n",
        "    # 将新的点 (dist, i) 推入堆 q 中，并弹出堆顶的元素。\n",
        "    # 保持堆的大小为 k，并确保堆顶始终是最小的元素\n",
        "    heapq.heappushpop(q, (dist, i))\n",
        "    print(f\"\\nq(-distance_to_origin, index) heapq.heappushpop(q, (dist, i)): {q}\")\n",
        "\n",
        "  # 通过迭代堆 q 中的元素，获取每个元素对应的点的坐标，并将这些坐标存储在列表 ans 中，最后返回 ans\n",
        "  # ans = [points[identity] for (_, identity) in q]：列表推导式，\n",
        "  # 用于从堆 q 中获取每个元素对应的点的坐标。\n",
        "  # 元素是二元组 (dist, identity)，其中 dist 是点到原点的距离的相反数，\n",
        "  # identity 是点在原始列表 points 中的索引。\n",
        "  # 通过迭代堆 q，我们可以获取到每个点的索引 identity，然后通过 points[identity] 获取到对应的点的坐标，\n",
        "  # 并将其添加到列表 ans 中\n",
        "  ans = [points[identify] for (_, identify) in q]\n",
        "  print(f\"\\nans : {ans}\\n\")\n",
        "\n",
        "  # 获取到距离原点最近的 k 个点的坐标，并将它们存储在列表 ans 中返回\n",
        "  return ans\n"
      ],
      "metadata": {
        "id": "5x0vBIrLfoZy"
      },
      "execution_count": 6,
      "outputs": []
    },
    {
      "cell_type": "markdown",
      "source": [
        "# Test 1"
      ],
      "metadata": {
        "id": "S1gKwEvGl5bn"
      }
    },
    {
      "cell_type": "code",
      "source": [
        "points = [[1,3],[-2,2]]\n",
        "k = 1\n",
        "\n",
        "KClosest1(points, k)"
      ],
      "metadata": {
        "colab": {
          "base_uri": "https://localhost:8080/"
        },
        "id": "FTzVWZXSl5bs",
        "outputId": "a641d09d-cdbb-470a-bd5e-f6bd1bad7c8e"
      },
      "execution_count": 7,
      "outputs": [
        {
          "output_type": "stream",
          "name": "stdout",
          "text": [
            "Initial : \n",
            "points : [[1, 3], [-2, 2]], len(points) : 2, \n",
            "k : 1, points[:k] : [[1, 3]]\n",
            "q(-distance_to_origin, index) : [(-10, 0)]\n",
            "q(-distance_to_origin, index) heapq.heapify(q): [(-10, 0)]\n",
            "\n",
            "point[1] : ((-2, 2)), dist : -8\n",
            "\n",
            "q(-distance_to_origin, index) heapq.heappushpop(q, (dist, i)): [(-8, 1)]\n",
            "\n",
            "ans : [[-2, 2]]\n",
            "\n"
          ]
        },
        {
          "output_type": "execute_result",
          "data": {
            "text/plain": [
              "[[-2, 2]]"
            ]
          },
          "metadata": {},
          "execution_count": 7
        }
      ]
    },
    {
      "cell_type": "code",
      "source": [
        "points = [[3,3],[5,-1],[-2,4]]\n",
        "k = 2\n",
        "\n",
        "KClosest1(points, k)"
      ],
      "metadata": {
        "colab": {
          "base_uri": "https://localhost:8080/"
        },
        "id": "n9cF-YRTl5bt",
        "outputId": "acbb6f41-b136-4cca-829b-0fd5cacf365b"
      },
      "execution_count": 8,
      "outputs": [
        {
          "output_type": "stream",
          "name": "stdout",
          "text": [
            "Initial : \n",
            "points : [[3, 3], [5, -1], [-2, 4]], len(points) : 3, \n",
            "k : 2, points[:k] : [[3, 3], [5, -1]]\n",
            "q(-distance_to_origin, index) : [(-18, 0), (-26, 1)]\n",
            "q(-distance_to_origin, index) heapq.heapify(q): [(-26, 1), (-18, 0)]\n",
            "\n",
            "point[2] : ((-2, 4)), dist : -20\n",
            "\n",
            "q(-distance_to_origin, index) heapq.heappushpop(q, (dist, i)): [(-20, 2), (-18, 0)]\n",
            "\n",
            "ans : [[-2, 4], [3, 3]]\n",
            "\n"
          ]
        },
        {
          "output_type": "execute_result",
          "data": {
            "text/plain": [
              "[[-2, 4], [3, 3]]"
            ]
          },
          "metadata": {},
          "execution_count": 8
        }
      ]
    },
    {
      "cell_type": "code",
      "source": [
        "points = [[3,3],[5,-1],[-2,4], [1, 1]]\n",
        "k = 2\n",
        "\n",
        "KClosest1(points, k)"
      ],
      "metadata": {
        "colab": {
          "base_uri": "https://localhost:8080/"
        },
        "id": "nKJHtY4awZBB",
        "outputId": "5991b62d-ff57-4898-bf1d-9100aae2e862"
      },
      "execution_count": 9,
      "outputs": [
        {
          "output_type": "stream",
          "name": "stdout",
          "text": [
            "Initial : \n",
            "points : [[3, 3], [5, -1], [-2, 4], [1, 1]], len(points) : 4, \n",
            "k : 2, points[:k] : [[3, 3], [5, -1]]\n",
            "q(-distance_to_origin, index) : [(-18, 0), (-26, 1)]\n",
            "q(-distance_to_origin, index) heapq.heapify(q): [(-26, 1), (-18, 0)]\n",
            "\n",
            "point[2] : ((-2, 4)), dist : -20\n",
            "\n",
            "q(-distance_to_origin, index) heapq.heappushpop(q, (dist, i)): [(-20, 2), (-18, 0)]\n",
            "\n",
            "point[3] : ((1, 1)), dist : -2\n",
            "\n",
            "q(-distance_to_origin, index) heapq.heappushpop(q, (dist, i)): [(-18, 0), (-2, 3)]\n",
            "\n",
            "ans : [[3, 3], [1, 1]]\n",
            "\n"
          ]
        },
        {
          "output_type": "execute_result",
          "data": {
            "text/plain": [
              "[[3, 3], [1, 1]]"
            ]
          },
          "metadata": {},
          "execution_count": 9
        }
      ]
    },
    {
      "cell_type": "markdown",
      "source": [
        "# 快速排序  ???? !!!!"
      ],
      "metadata": {
        "id": "PF1ZD-Yj203R"
      }
    },
    {
      "cell_type": "markdown",
      "source": [
        "# 快速选择（快速排序的思想）??????????????\n",
        "\n",
        "思路和算法\n",
        "\n",
        "我们也可以借鉴快速排序的思想。\n",
        "\n",
        "快速排序中的划分操作每次执行完后，都能将数组分成两个部分，其中小于等于分界值 pivot 的元素都会被放到左侧部分，而大于 pivot 的元素都都会被放到右侧部分。\n",
        "\n",
        "与快速排序不同的是，在本题中我们可以根据 k 与 pivot 下标的位置关系，只处理划分结果的某一部分（而不是像快速排序一样需要处理两个部分）。\n",
        "\n",
        "我们定义函数 random_select(left, right, k) 表示划分数组 points 的 [left,right] 区间，并且需要找到其中第 k 个距离最小的点。\n",
        "\n",
        "在一次划分操作完成后，设 pivot 的下标为 i，即区间 [left,i−1] 中的点的距离都小于等于 pivot，而区间 [i+1,right] 的点的距离都大于 pivot。此时会有三种情况：\n",
        "\n",
        "如果 k = i − left + 1，那么说明 pivot 就是第 k 个距离最小的点，我们可以结束整个过程；\n",
        "\n",
        "如果 k < i − left + 1，那么说明第 k 个距离最小的点在 pivot 左侧，因此递归调用 random_select(left, i - 1, k)；\n",
        "\n",
        "如果 k > i − left + 1，那么说明第 k 个距离最小的点在 pivot 右侧，因此递归调用 random_select(i + 1, right, k - (i - left + 1))。\n",
        "\n",
        "在整个过程结束之后，第 k 个距离最小的点恰好就在数组 points 中的第 k 个位置，并且其左侧的所有点的距离都小于它。\n",
        "\n",
        "此时，我们就找到了前 k 个距离最小的点。"
      ],
      "metadata": {
        "id": "FMe5lRkhh0At"
      }
    },
    {
      "cell_type": "markdown",
      "source": [
        "复杂度分析\n",
        "\n",
        "时间复杂度：期望为 O(n)，其中 n 是数组 points 的长度。\n",
        "\n",
        "由于证明过程很繁琐，所以不在这里展开讲。\n",
        "\n",
        "具体证明可以参考《算法导论》第 9 章第 2 小节。\n",
        "\n",
        "最坏情况下，时间复杂度为 O(n^2)。\n",
        "\n",
        "具体地，每次的划分点都是最大值或最小值，一共需要划分 n−1 次，而一次划分需要线性的时间复杂度，所以最坏情况下时间复杂度为 O(n^2)。\n",
        "\n",
        "空间复杂度：期望为 O(log⁡n)，即为递归调用的期望深度。\n",
        "\n",
        "最坏情况下，空间复杂度为 O(n)，此时需要划分 n−1 次，对应递归的深度为 n−1 层，所以最坏情况下时间复杂度为 O(n)。\n",
        "\n",
        "然而注意到代码中的递归都是「尾递归」，因此如果编译器支持尾递归优化，那么空间复杂度总为 O(1)。\n",
        "\n",
        "即使不支持尾递归优化，我们也可以很方便地将上面的代码改成循环迭代的写法。"
      ],
      "metadata": {
        "id": "Q8bxTFW6suAh"
      }
    },
    {
      "cell_type": "code",
      "source": [
        "import random"
      ],
      "metadata": {
        "id": "iEeLF6q9yGgs"
      },
      "execution_count": 10,
      "outputs": []
    },
    {
      "cell_type": "code",
      "source": [
        "def KClosest2(points: List[List[int]], k: int) -> List[List[int]]:\n",
        "  def random_select(left: int, right: int, k: int):\n",
        "    # random.randint(left, right) 用于生成一个介于 left 和 right 之间（包括两端）的随机整数作为枢纽元素的索引 pivot_id。\n",
        "    # 目的是为了在快速选择算法中随机选择枢纽元素，以降低算法在最坏情况下的时间复杂度。\n",
        "    # 通过随机选择枢纽元素，可以尽量避免出现极端情况，从而保证算法的性能。\n",
        "    pivot_id = random.randint(left, right)\n",
        "\n",
        "    # 计算了选定的枢纽元素 pivot 的平方距离，这个距离是该点到原点的距离的平方。\n",
        "    # 假设 points[pivot_id] 是一个二维坐标点，其坐标为 (x, y)。\n",
        "    # 那么 points[pivot_id][0] 是该点的 x 坐标，points[pivot_id][1] 是该点的 y 坐标。\n",
        "    # 所以，points[pivot_id][0] ** 2 计算了 x 坐标的平方，points[pivot_id][1] ** 2 计算了 y 坐标的平方。\n",
        "    # 通过这两个平方值的和，即 points[pivot_id][0] ** 2 + points[pivot_id][1] ** 2，得到了枢纽元素 pivot 到原点的距离的平方。\n",
        "    pivot = points[pivot_id][0] ** 2 + points[pivot_id][1] ** 2\n",
        "\n",
        "    # 将 points[pivot_id] 和 points[right] 两个位置上的元素进行了交换。\n",
        "    # 在交换完成后，points[pivot_id] 中原来存储的值被赋给了 points[right]，\n",
        "    # 而 points[right] 中原来存储的值被赋给了 points[pivot_id]\n",
        "    # 这样的交换操作对于快速选择算法（QuickSelect）是必需的，\n",
        "    # 它可以将选定的枢纽元素移动到合适的位置，以便后续的排序或查找操作\n",
        "    points[right], points[pivot_id] = points[pivot_id], points[right]\n",
        "\n",
        "    # 初始化了变量 i 的值为 left - 1。\n",
        "    # 在快速选择算法中，i 的作用是标记小于等于枢纽元素的区域的右边界。\n",
        "    # 初始时，我们假设没有元素小于枢纽元素，因此将 i 初始化为 left - 1，也就是枢纽元素所在位置的左侧。\n",
        "    # 在后续的遍历过程中，当我们发现有元素小于等于枢纽元素时，我们会将 i 的值递增，\n",
        "    # 表示我们找到了一个新的小于等于枢纽元素的元素，并将其与 i 所指向的位置交换，\n",
        "    # 以确保小于等于枢纽元素的元素都在 i 的左侧。\n",
        "    # 这样的操作会将列表分割为两部分：左侧是小于等于枢纽元素的元素，右侧是大于枢纽元素的元素。\n",
        "    i  = left - 1\n",
        "\n",
        "    # 用于将小于等于枢纽元素的点放在枢纽元素的左侧，大于枢纽元素的点放在右侧\n",
        "    # 遍历区间 [left, right) 中的每个元素，其中 left 是左边界，right 是右边界\n",
        "    for j in range(left, right):\n",
        "      # 对于当前遍历到的点 points[j]，如果它的距离原点的平方小于等于枢纽元素 pivot 的平方距离，\n",
        "      # 则执行以下操作：\n",
        "      if points[j][0] ** 2 + points[j][1] ** 2 <= pivot:\n",
        "        # 将 i 的值增加 1，表示我们找到了一个新的小于等于枢纽元素的点\n",
        "        i += 1\n",
        "        # 将当前点 points[j] 与 points[i] 进行交换，确保小于等于枢纽元素的点都被移到了 i 的左侧\n",
        "        points[i],points[j] = points[j], points[i]\n",
        "    i += 1\n",
        "\n",
        "\n",
        "    # 将确定的枢纽元素放在正确的位置上，即将 points[i] 和 points[right] 进行交换。\n",
        "    # 这样，points[i] 左侧的元素都小于等于枢纽元素，右侧的元素都大于枢纽元素\n",
        "    points[i], points[right] = points[right], points[i]\n",
        "\n",
        "\n",
        "    # 检查要找的第 k 小的元素的位置：\n",
        "    # 如果 k 小于等于当前位置 i 左侧的元素个数（即 i - left + 1），\n",
        "    # 则说明第 k 小的元素在左侧，因此递归调用 random_select 函数，\n",
        "    # 从左侧区间 [left, i-1] 中寻找第 k 小的元素\n",
        "    if k < i - left + 1:\n",
        "      random_select(left, i-1, k)\n",
        "    # 如果 k 大于 i - left + 1，则说明第 k 小的元素在右侧，\n",
        "    # 因此递归调用 random_select 函数，\n",
        "    # 从右侧区间 [i+1, right] 中寻找第 k - (i - left + 1) 小的元素\n",
        "    elif k > i - left + 1:\n",
        "      random_select(i+1, right, k - (i - left + 1))\n",
        "\n",
        "    # 通过不断地递归调用 random_select 函数，直到找到第 k 小的元素为止，最后返回前 k 小的元素即可\n",
        "\n",
        "\n",
        "\n",
        "  # 调用 random_select 函数来找到列表中前 k 小的元素，并将它们返回\n",
        "  # 获取列表 points 的长度，并将其存储在变量 n\n",
        "  n = len(points)\n",
        "  #调用 random_select 函数，传入左边界 0 和右边界 n-1，以及要找到的第 k 小的元素的数量\n",
        "  # random_select 函数会对列表进行递归分区，直到找到第 k 小的元素为止\n",
        "  random_select(0, n-1, k)\n",
        "\n",
        "  # 返回前 k 小的元素，即 points[:k]\n",
        "  # 在列表中找到前 k 小的元素，并将它们以列表的形式返回\n",
        "  return points[:k]"
      ],
      "metadata": {
        "id": "mux0Pks8qzdO"
      },
      "execution_count": 11,
      "outputs": []
    },
    {
      "cell_type": "markdown",
      "source": [
        "# Test 2"
      ],
      "metadata": {
        "id": "vJGB8R2wq2OX"
      }
    },
    {
      "cell_type": "code",
      "source": [
        "points = [[1,3],[-2,2]]\n",
        "k = 1\n",
        "\n",
        "KClosest2(points, k)"
      ],
      "metadata": {
        "colab": {
          "base_uri": "https://localhost:8080/"
        },
        "outputId": "c8992469-c840-41e3-e05a-8ec5c3f86f11",
        "id": "4CRG-8o2q2OY"
      },
      "execution_count": 12,
      "outputs": [
        {
          "output_type": "execute_result",
          "data": {
            "text/plain": [
              "[[-2, 2]]"
            ]
          },
          "metadata": {},
          "execution_count": 12
        }
      ]
    },
    {
      "cell_type": "code",
      "source": [
        "points = [[3,3],[5,-1],[-2,4]]\n",
        "k = 2\n",
        "\n",
        "KClosest2(points, k)"
      ],
      "metadata": {
        "colab": {
          "base_uri": "https://localhost:8080/"
        },
        "outputId": "cf161997-3a37-4c1b-ede1-14f55ea4fd15",
        "id": "TeSkRN7Mq2OZ"
      },
      "execution_count": 13,
      "outputs": [
        {
          "output_type": "execute_result",
          "data": {
            "text/plain": [
              "[[3, 3], [-2, 4]]"
            ]
          },
          "metadata": {},
          "execution_count": 13
        }
      ]
    },
    {
      "cell_type": "code",
      "source": [
        "class Solution:\n",
        "    def kClosest(self, points: List[List[int]], k: int) -> List[List[int]]:\n",
        "        def random_select(left: int, right: int, k: int): # 子函数（快速选择）：选择[left,right]最小的k个\n",
        "            pivot_id = (left + right)//2#random.randint(left, right) # 一定要随机，不然最坏O(n^2)超时 返回闭区间[left,right]之间的整数\n",
        "            pivot = points[pivot_id][0] ** 2 + points[pivot_id][1] ** 2 # 欧几里得距离\n",
        "            points[right], points[pivot_id] = points[pivot_id], points[right] # 交换双指针 把pivot放到最后\n",
        "            i = left - 1 # 循环不变量 i指向已经确定的小于等于pivot的最后一个下标\n",
        "            for j in range(left, right): # 左闭右开 right放着pivot，不用比较\n",
        "                # 循环不变量 : [left,i]都是小于等于pivot的,[i+1,j]之间都是大于pivot的,\n",
        "                # 在j++ 从left到right-1 右移的过程中，遇到小于等于pivot的，就会交换i+1,j,\n",
        "                # 这样[left,i]都是小于等于pivot的,然后[i+1,j]都是大于pivot的\n",
        "                if points[j][0] ** 2 + points[j][1] ** 2 <= pivot: # 欧几里德距离\n",
        "                    i += 1\n",
        "                    points[i], points[j] = points[j], points[i] # 把所有小于pivot的points[j]放到pivot[i+1]左边\n",
        "            i += 1 # i是分界线，i+1之后的points[i]就是大于pivot的\n",
        "            points[i], points[right] = points[right], points[i] # 交换双指针 把pivot放回中间\n",
        "            # 循环 + 交换pivot 之后 ： [left, i] 都小于等于 pivot, [i+1, right] 都大于 pivot\n",
        "            if k < i - left + 1: # 左边的是最小的 i-left+1 个\n",
        "                random_select(left, i - 1, k)\n",
        "            elif k > i - left + 1: # 左边最小的这些 不足k个, 在右边找右边最小的k - (i-left+1)个\n",
        "                random_select(i + 1, right, k - (i - left + 1))\n",
        "            # else k == i-left+1: 找到目标，不再快速选择\n",
        "\n",
        "        n = len(points)\n",
        "        random_select(0, n - 1, k) # 快速选择\n",
        "        return points[:k] # 前k个就是最小的k个"
      ],
      "metadata": {
        "id": "Wy0lCXVu1yIJ"
      },
      "execution_count": 14,
      "outputs": []
    }
  ]
}