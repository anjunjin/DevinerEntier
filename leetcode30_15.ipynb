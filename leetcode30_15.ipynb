{
  "nbformat": 4,
  "nbformat_minor": 0,
  "metadata": {
    "colab": {
      "provenance": [],
      "authorship_tag": "ABX9TyNpLybih8aucrNjFwpQTTaK",
      "include_colab_link": true
    },
    "kernelspec": {
      "name": "python3",
      "display_name": "Python 3"
    },
    "language_info": {
      "name": "python"
    }
  },
  "cells": [
    {
      "cell_type": "markdown",
      "metadata": {
        "id": "view-in-github",
        "colab_type": "text"
      },
      "source": [
        "<a href=\"https://colab.research.google.com/github/anjunjin/DevinerEntier/blob/master/leetcode30_15.ipynb\" target=\"_parent\"><img src=\"https://colab.research.google.com/assets/colab-badge.svg\" alt=\"Open In Colab\"/></a>"
      ]
    },
    {
      "cell_type": "markdown",
      "source": [
        "# 三数之和\n",
        "\n",
        "给你一个整数数组 nums ，判断是否存在三元组 [nums[i], nums[j], nums[k]] 满足 i != j、i != k 且 j != k ，同时还满足 nums[i] + nums[j] + nums[k] == 0 。请\n",
        "\n",
        "你返回所有和为 0 且不重复的三元组。\n",
        "\n",
        "注意：答案中不可以包含重复的三元组。\n",
        "\n"
      ],
      "metadata": {
        "id": "FGuv1Ii692VK"
      }
    },
    {
      "cell_type": "markdown",
      "source": [
        "[三数之和leetcode](https://leetcode.cn/problems/3sum/solutions/284681/san-shu-zhi-he-by-leetcode-solution/)\n",
        "\n",
        "[排序 + 双指针，逐行解释](https://leetcode.cn/problems/3sum/solutions/39722/pai-xu-shuang-zhi-zhen-zhu-xing-jie-shi-python3-by/)\n",
        "\n",
        "[三数之和（排序+双指针，易懂图解）](https://leetcode.cn/problems/3sum/solutions/11525/3sumpai-xu-shuang-zhi-zhen-yi-dong-by-jyd/)"
      ],
      "metadata": {
        "id": "4vY_qC6R-Zbn"
      }
    },
    {
      "cell_type": "code",
      "source": [
        "from typing import List"
      ],
      "metadata": {
        "id": "OX7P82fsF0Da"
      },
      "execution_count": 1,
      "outputs": []
    },
    {
      "cell_type": "markdown",
      "source": [
        "解题思路：\n",
        "\n",
        "[排序 + 双指针，逐行解释](https://leetcode.cn/problems/3sum/solutions/39722/pai-xu-shuang-zhi-zhen-zhu-xing-jie-shi-python3-by/)\n",
        "\n",
        "\n",
        "暴力法搜索为 O(N^3) 时间复杂度，可通过双指针动态消去无效解来优化效率。\n",
        "\n",
        "算法流程：\n",
        "\n",
        "先将 nums 排序，时间复杂度为 O(NlogN)。\n",
        "\n",
        "固定 3 个指针中最左（最小）元素的指针 k，双指针 i，j 分设在数组索引 (k,len(nums)) 两端。\n",
        "\n",
        "双指针 i , j 交替向中间移动，记录对于每个固定指针 k 的所有满足 nums[k] + nums[i] + nums[j] == 0 的 i,j 组合：\n",
        "\n",
        "当 nums[k] > 0 时直接break跳出：\n",
        "\n",
        "因为 nums[j] >= nums[i] >= nums[k] > 0，即 3 个元素都大于 0 ，在此固定指针 k 之后不可能再找到结果了。\n",
        "\n",
        "当 k > 0且nums[k] == nums[k - 1]时即跳过此元素nums[k]：因为已经将 nums[k - 1] 的所有组合加入到结果中，本次双指针搜索只会得到重复组合。\n",
        "\n",
        "\n",
        "i，j 分设在数组索引 (k,len(nums)) 两端，当i < j时循环计算s = nums[k] + nums[i] + nums[j]，并按照以下规则执行双指针移动：\n",
        "\n",
        "当s < 0时，i += 1并跳过所有重复的nums[i]；\n",
        "\n",
        "当s > 0时，j -= 1并跳过所有重复的nums[j]；\n",
        "\n",
        "当s == 0时，记录组合[k, i, j]至res，执行i += 1和j -= 1并跳过所有重复的nums[i]和nums[j]，防止记录到重复组合。\n",
        "\n",
        "\n",
        "复杂度分析：\n",
        "\n",
        "时间复杂度 O(N^2)：其中固定指针k循环复杂度 O(N)，双指针 i，j 复杂度 O(N)。\n",
        "\n",
        "空间复杂度 O(1)：指针使用常数大小的额外空间。"
      ],
      "metadata": {
        "id": "f6Fo1pxj_gEt"
      }
    },
    {
      "cell_type": "code",
      "execution_count": 2,
      "metadata": {
        "id": "sxE-4Wx09dQl"
      },
      "outputs": [],
      "source": [
        "# nums.sort()\n",
        "# for first = 0 .. n-1\n",
        "#     if first == 0 or nums[first] != nums[first-1] then\n",
        "#         // 第三重循环对应的指针\n",
        "#         third = n-1\n",
        "#         for second = first+1 .. n-1\n",
        "#             if second == first+1 or nums[second] != nums[second-1] then\n",
        "#                 // 向左移动指针，直到 a+b+c 不大于 0\n",
        "#                 while nums[first]+nums[second]+nums[third] > 0\n",
        "#                     third = third-1\n",
        "#                 // 判断是否有 a+b+c==0\n",
        "#                 check(first, second, third)\n"
      ]
    },
    {
      "cell_type": "code",
      "source": [
        "def threeSum(nums: List[int]) -> List[List[int]]:\n",
        "#def threeSum(nums: [int]) -> [[int]]:\n",
        "  # nums.sort(): 对数组进行排序，为后续双指针操作做准备\n",
        "  nums.sort() # 排序，nums变成递增数组\n",
        "\n",
        "  # 初始化结果列表 res 为空列表，以及索引 k\n",
        "  res, k = [], 0\n",
        "\n",
        "  # 遍历数组 nums 的前 len(nums) - 2 个元素，因为后面至少需要两个元素组成三元组\n",
        "  # k < nums.length - 2是为了保证后面还能存在两个数字\n",
        "  for k in range(len(nums) - 2):\n",
        "\n",
        "    # 如果当前遍历到的数 nums[k] 大于 0，\n",
        "    # 因为数组已经排序，后面的数都会大于 0，不可能存在三数之和为 0，\n",
        "    # 直接跳出循环\n",
        "\n",
        "    # 如果最小的数大于0则不可能三个数的和为0, 直接退出\n",
        "    # 若nums[k]大于0，则后面的数字也是大于零（排序后是递增的）\n",
        "    if nums[k] > 0: break # 1. because of j > i > k.\n",
        "\n",
        "    # 如果 k > 0 且当前数 nums[k] 等于前一个数 nums[k - 1]，\n",
        "    # 说明当前数与前一个数相同，会导致重复计算，跳过当前循环，\n",
        "    # 继续下一个数的计算\n",
        "    # nums[k]值重复了，去重\n",
        "\n",
        "    # 如果和上一个数相同，则有重复解。\n",
        "    # 即当a = d时，a + b + c = d + b + c = 0, 寻找下一个不同的数（简称：去重）\n",
        "    # i > 0是因为可能i = 0时去重出现异常\n",
        "    if k > 0 and nums[k] == nums[k - 1]: continue # 2. skip the same `nums[k]`.\n",
        "\n",
        "    # 使用双指针 i 和 j 来寻找满足条件的三元组，\n",
        "    # 其中 i 从 k + 1 开始，j 从数组最后一个元素开始\n",
        "    # 定义左右指针\n",
        "    # 取另外两个数，判断三数之和是否为0\n",
        "    i, j = k + 1, len(nums) - 1\n",
        "\n",
        "    # 当 i 小于 j 时，执行双指针操作：\n",
        "    while i < j: # 3. double pointer\n",
        "      # 计算当前三个数的和 s = nums[k] + nums[i] + nums[j]\n",
        "      s = nums[k] + nums[i] + nums[j]\n",
        "\n",
        "      # 如果 s < 0，说明和偏小，将 i 右移一位，同时跳过重复元素\n",
        "      # 如果三数之和小于0，则说明中间数nums[j]太小了，j向右移，同时去重\n",
        "      if s < 0:\n",
        "        i += 1\n",
        "\n",
        "        while i < j and nums[i] == nums[i - 1]: i += 1 # 左指针前进并去重\n",
        "\n",
        "      # 如果 s > 0，说明和偏大，将 j 左移一位，同时跳过重复元素\n",
        "      # s : sum 如果三数之和大于0，则说明最大数nums[k]太大了，k向左移，同时去重\n",
        "      elif s > 0:\n",
        "        j -= 1\n",
        "        while i < j and nums[j] == nums[j + 1]: j -= 1 # 右指针后退并去重\n",
        "\n",
        "      # 如果 s == 0，找到一组解，加入到结果列表中，同时移动 i 和 j，跳过重复元素\n",
        "      # 如果三数之和等于0, 则把三数添加到答案\n",
        "      else:\n",
        "\n",
        "        res.append([nums[k], nums[i], nums[j]])\n",
        "\n",
        "        i += 1\n",
        "        j -= 1\n",
        "\n",
        "        # nums[j]增大, nums[k]减小, 依旧可能满足三数之和为0，继续遍历去重\n",
        "        while i < j and nums[i] == nums[i - 1]: i += 1  # 左指针前进并去重\n",
        "        while i < j and nums[j] == nums[j + 1]: j -= 1  # 右指针后退并去重\n",
        "\n",
        "\n",
        "  # 返回结果列表 res，即为所有满足条件的不重复三元组\n",
        "  return res"
      ],
      "metadata": {
        "id": "ET2d1szdAthz"
      },
      "execution_count": 3,
      "outputs": []
    },
    {
      "cell_type": "markdown",
      "source": [
        "# Test"
      ],
      "metadata": {
        "id": "MOcKl2NzFbBA"
      }
    },
    {
      "cell_type": "code",
      "source": [
        "nums = [-1,0,1,2,-1,-4]\n",
        "\n",
        "threeSum(nums)"
      ],
      "metadata": {
        "colab": {
          "base_uri": "https://localhost:8080/"
        },
        "id": "6yPTzV3Y997-",
        "outputId": "464dc96a-6aef-4034-e8cc-45c9cb2a2c00"
      },
      "execution_count": 4,
      "outputs": [
        {
          "output_type": "execute_result",
          "data": {
            "text/plain": [
              "[[-1, -1, 2], [-1, 0, 1]]"
            ]
          },
          "metadata": {},
          "execution_count": 4
        }
      ]
    },
    {
      "cell_type": "code",
      "source": [
        "nums = [0,1,1]\n",
        "\n",
        "threeSum(nums)"
      ],
      "metadata": {
        "colab": {
          "base_uri": "https://localhost:8080/"
        },
        "id": "NyhG5Yoo9_aw",
        "outputId": "5ead1f54-e408-4bea-cd37-ef89b3a4e2cc"
      },
      "execution_count": 5,
      "outputs": [
        {
          "output_type": "execute_result",
          "data": {
            "text/plain": [
              "[]"
            ]
          },
          "metadata": {},
          "execution_count": 5
        }
      ]
    },
    {
      "cell_type": "code",
      "source": [
        "nums = [0,0,0]\n",
        "\n",
        "threeSum(nums)"
      ],
      "metadata": {
        "colab": {
          "base_uri": "https://localhost:8080/"
        },
        "id": "w1zBinxF-BbK",
        "outputId": "5b23a21f-9198-437e-f18e-9422ffaf643f"
      },
      "execution_count": 6,
      "outputs": [
        {
          "output_type": "execute_result",
          "data": {
            "text/plain": [
              "[[0, 0, 0]]"
            ]
          },
          "metadata": {},
          "execution_count": 6
        }
      ]
    }
  ]
}