{
  "nbformat": 4,
  "nbformat_minor": 0,
  "metadata": {
    "colab": {
      "provenance": [],
      "authorship_tag": "ABX9TyN6PW9vDxk/QOPAjK0cXtHE",
      "include_colab_link": true
    },
    "kernelspec": {
      "name": "python3",
      "display_name": "Python 3"
    },
    "language_info": {
      "name": "python"
    }
  },
  "cells": [
    {
      "cell_type": "markdown",
      "metadata": {
        "id": "view-in-github",
        "colab_type": "text"
      },
      "source": [
        "<a href=\"https://colab.research.google.com/github/anjunjin/DevinerEntier/blob/master/leetcode22_543.ipynb\" target=\"_parent\"><img src=\"https://colab.research.google.com/assets/colab-badge.svg\" alt=\"Open In Colab\"/></a>"
      ]
    },
    {
      "cell_type": "markdown",
      "source": [
        "# 二叉树的直径\n",
        "\n",
        "给你一棵二叉树的根节点，返回该树的 直径 。\n",
        "\n",
        "二叉树的 直径 是指树中任意两个节点之间最长路径的 长度 。这条路径可能经过也可能不经过根节点 root 。\n",
        "\n",
        "两节点之间路径的 长度 由它们之间边数表示。\n"
      ],
      "metadata": {
        "id": "xCfv36_PSlLu"
      }
    },
    {
      "cell_type": "markdown",
      "source": [
        "[详解官方递归代码的运行过程（Pthon3、C++）](https://leetcode.cn/problems/diameter-of-binary-tree/solutions/142094/shi-pin-jie-shi-di-gui-dai-ma-de-yun-xing-guo-chen/)\n",
        "\n",
        "\n",
        "[二叉树的直径leetcode](https://leetcode.cn/problems/diameter-of-binary-tree/solutions/139683/er-cha-shu-de-zhi-jing-by-leetcode-solution/)"
      ],
      "metadata": {
        "id": "lcKdrgGeUsoQ"
      }
    },
    {
      "cell_type": "code",
      "source": [
        "class TreeNode:\n",
        "  def __init__(self,val=0,left=None,right=None):\n",
        "    self.val = val\n",
        "    self.left = left\n",
        "    self.right = right"
      ],
      "metadata": {
        "id": "Fxrse3mbXC11"
      },
      "execution_count": 1,
      "outputs": []
    },
    {
      "cell_type": "markdown",
      "source": [
        "# 深度优先搜索\n",
        "\n",
        "**首先我们知道一条路径的长度为该路径经过的节点数减一**，\n",
        "\n",
        "**所以求直径（即求路径长度的最大值）等效于求路径经过节点数的最大值减一。**\n",
        "\n",
        "**而任意一条路径均可以被看作由某个节点为起点，从其左儿子和右儿子向下遍历的路径拼接得到。**\n",
        "\n",
        "如图我们可以知道路径 [9, 4, 2, 5, 7, 8] 可以被看作以 2 为起点，从其左儿子向下遍历的路径 [2, 4, 9] 和从其右儿子向下遍历的路径 [2, 5, 7, 8] 拼接得到。\n",
        "\n",
        "假设我们知道对于该节点的左儿子向下遍历经过最多的节点数 L （即以左儿子为根的子树的深度） 和其右儿子向下遍历经过最多的节点数 R （即以右儿子为根的子树的深度），那么以该节点为起点的路径经过节点数的最大值即为 L+R+1\n",
        "\n",
        "我们记节点 node 为起点的路径经过节点数的最大值为 dnode，那么二叉树的直径就是所有节点 dnode 的最大值减一。\n",
        "\n",
        "最后的算法流程为：我们定义一个递归函数 depth(node) 计算 dnode，函数返回该节点为根的子树的深度。\n",
        "\n",
        "先递归调用左儿子和右儿子求得它们为根的子树的深度 L 和 R ，则该节点为根的子树的深度即为\n",
        "\n",
        "max(L,R)+1\n",
        "\n",
        "该节点的 dnode值为 L+R+1\n",
        "\n",
        "递归搜索每个节点并设一个全局变量 ans 记录 dnode 的最大值，最后返回 ans-1 即为树的直径。\n",
        "\n",
        "\n",
        "\n"
      ],
      "metadata": {
        "id": "7log0XMIWIKL"
      }
    },
    {
      "cell_type": "code",
      "source": [
        "# 在 Python 类中，self.ans = 1 和 ans = 1 是有区别的。\n",
        "# self.ans = 1：这种形式是在类中定义一个实例变量，它可以在类的任何方法中使用，并且可以通过类的任何实例访问。\n",
        "# 在这种情况下，self 是类的实例的引用，用于指代当前实例对象。\n",
        "\n",
        "# ans = 1：这种形式是定义一个局部变量，它仅在当前作用域内有效。\n",
        "# 在这种情况下，ans 只能在当前方法或函数中使用，并且无法在类的其他方法中或类的实例外部使用。\n",
        "\n",
        "# 在给定的代码中，使用了 self.ans = 1，这意味着 ans 是这个类的实例变量，可以在类的任何方法中访问。\n",
        "# 这样做的好处是，ans 的值可以在整个类中共享和更新，而不受作用域的限制。"
      ],
      "metadata": {
        "id": "BCztvHyqelqz"
      },
      "execution_count": 2,
      "outputs": []
    },
    {
      "cell_type": "code",
      "execution_count": 3,
      "metadata": {
        "id": "examYGbpsU8U"
      },
      "outputs": [],
      "source": [
        "def diameterOfBinaryTree(root: TreeNode) -> int:\n",
        "  # 变量 ans，用于存储二叉树的直径。初始值为 1，表示至少有一个节点\n",
        "  # 要在函数内部访问全局变量，可以使用 global 关键字声明。\n",
        "  # 这样做会告诉Python解释器，变量是全局作用域的，而不是局部作用域的。\n",
        "  global ans\n",
        "  ans = 1\n",
        "\n",
        "  # 内部递归函数，用于计算二叉树的深度\n",
        "  def depth(node):\n",
        "    # 要在 depth 函数中正确使用全局变量 ans，你需要在 depth 函数中使用 global 关键字来声明 ans 为全局变量\n",
        "    global ans\n",
        "\n",
        "    # 访问到空节点了，返回深度0\n",
        "    if not node: return 0\n",
        "\n",
        "    # 左儿子为根的子树的深度\n",
        "    L = depth(node.left)\n",
        "    print(\"Node : \", node.val, \" L : \", L)\n",
        "\n",
        "    # 右儿子为根的子树的深度\n",
        "    R = depth(node.right)\n",
        "    print(\"Node : \", node.val, \" R : \", R)\n",
        "\n",
        "\n",
        "    print(\"ans : \", ans, \" L+R+1 : \", L+R+1, \"max(ans, L+R+1) : \", max(ans, L + R + 1),\"\\n\")\n",
        "    # 计算d_node即L+R+1 并更新ans\n",
        "    # 更新直径的候选值，直径是左子树深度加右子树深度再加上当前节点的 1\n",
        "    ans = max(ans, L + R + 1)\n",
        "\n",
        "    # 返回该节点为根的子树的深度\n",
        "    return max(L, R) + 1\n",
        "\n",
        "  # 调用递归函数计算二叉树的深度和直径\n",
        "  depth(root)\n",
        "\n",
        "  # 返回计算出的直径。\n",
        "  # 因为直径是指任意两个节点之间的路径长度，所以路径上的节点数量比路径长度少 1，因此需要将 self.ans 减去 1\n",
        "  return ans - 1"
      ]
    },
    {
      "cell_type": "markdown",
      "source": [
        "# Test"
      ],
      "metadata": {
        "id": "YQwS4EjxZjQN"
      }
    },
    {
      "cell_type": "code",
      "source": [
        "#root = [1,2,3,4,5]\n",
        "root = TreeNode(1)\n",
        "root.left = TreeNode(2)\n",
        "root.right = TreeNode(3)\n",
        "root.left.left = TreeNode(4)\n",
        "root.left.right = TreeNode(5)\n",
        "\n",
        "diameterOfBinaryTree(root)"
      ],
      "metadata": {
        "colab": {
          "base_uri": "https://localhost:8080/"
        },
        "id": "vtjG6u0qZiqj",
        "outputId": "44300684-ed98-4f7b-c86e-857fdedeb615"
      },
      "execution_count": 4,
      "outputs": [
        {
          "output_type": "stream",
          "name": "stdout",
          "text": [
            "Node :  4  L :  0\n",
            "Node :  4  R :  0\n",
            "ans :  1  L+R+1 :  1 max(ans, L+R+1) :  1 \n",
            "\n",
            "Node :  2  L :  1\n",
            "Node :  5  L :  0\n",
            "Node :  5  R :  0\n",
            "ans :  1  L+R+1 :  1 max(ans, L+R+1) :  1 \n",
            "\n",
            "Node :  2  R :  1\n",
            "ans :  1  L+R+1 :  3 max(ans, L+R+1) :  3 \n",
            "\n",
            "Node :  1  L :  2\n",
            "Node :  3  L :  0\n",
            "Node :  3  R :  0\n",
            "ans :  3  L+R+1 :  1 max(ans, L+R+1) :  3 \n",
            "\n",
            "Node :  1  R :  1\n",
            "ans :  3  L+R+1 :  4 max(ans, L+R+1) :  4 \n",
            "\n"
          ]
        },
        {
          "output_type": "execute_result",
          "data": {
            "text/plain": [
              "3"
            ]
          },
          "metadata": {},
          "execution_count": 4
        }
      ]
    },
    {
      "cell_type": "code",
      "source": [
        "#root = [1,2]\n",
        "root = TreeNode(1)\n",
        "root.left = TreeNode(2)\n",
        "\n",
        "diameterOfBinaryTree(root)"
      ],
      "metadata": {
        "colab": {
          "base_uri": "https://localhost:8080/"
        },
        "id": "3wq-ju4bfJZn",
        "outputId": "2432b6e5-5a7b-4fa3-8280-ae9bcb9e9c10"
      },
      "execution_count": 5,
      "outputs": [
        {
          "output_type": "stream",
          "name": "stdout",
          "text": [
            "Node :  2  L :  0\n",
            "Node :  2  R :  0\n",
            "ans :  1  L+R+1 :  1 max(ans, L+R+1) :  1 \n",
            "\n",
            "Node :  1  L :  1\n",
            "Node :  1  R :  0\n",
            "ans :  1  L+R+1 :  2 max(ans, L+R+1) :  2 \n",
            "\n"
          ]
        },
        {
          "output_type": "execute_result",
          "data": {
            "text/plain": [
              "1"
            ]
          },
          "metadata": {},
          "execution_count": 5
        }
      ]
    }
  ]
}