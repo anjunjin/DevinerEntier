{
  "nbformat": 4,
  "nbformat_minor": 0,
  "metadata": {
    "colab": {
      "provenance": [],
      "authorship_tag": "ABX9TyP5upSLXjbZMGXQU6q0iI6v",
      "include_colab_link": true
    },
    "kernelspec": {
      "name": "python3",
      "display_name": "Python 3"
    },
    "language_info": {
      "name": "python"
    }
  },
  "cells": [
    {
      "cell_type": "markdown",
      "metadata": {
        "id": "view-in-github",
        "colab_type": "text"
      },
      "source": [
        "<a href=\"https://colab.research.google.com/github/anjunjin/DevinerEntier/blob/master/leetcode20_169.ipynb\" target=\"_parent\"><img src=\"https://colab.research.google.com/assets/colab-badge.svg\" alt=\"Open In Colab\"/></a>"
      ]
    },
    {
      "cell_type": "markdown",
      "source": [
        "# 多数元素\n",
        "\n",
        "给定一个大小为 n 的数组 nums ，返回其中的多数元素。\n",
        "\n",
        "多数元素是指在数组中出现次数 大于 ⌊ n/2 ⌋ 的元素。\n",
        "\n",
        "你可以假设数组是非空的，并且给定的数组总是存在多数元素。"
      ],
      "metadata": {
        "id": "fPJBdTLp2pLo"
      }
    },
    {
      "cell_type": "markdown",
      "source": [
        "# 摩尔投票\n",
        "\n",
        "摩尔投票法： 核心理念为 票数正负抵消 。此方法时间和空间复杂度分别为 O(N) 和 O(1) ，为本题的最佳解法。\n",
        "\n",
        "[摩尔投票](https://leetcode.cn/problems/majority-element/solutions/2362000/169-duo-shu-yuan-su-mo-er-tou-piao-qing-ledrh/)\n",
        "\n",
        "[摩尔投票2](https://leetcode.cn/problems/majority-element/solutions/154941/tu-jie-mo-er-tou-piao-fa-python-go-by-jalan/)\n",
        "\n",
        "\n",
        "\n",
        "设输入数组 nums 的众数为 x ，数组长度为 n\n",
        "\n",
        "推论一： 若记 众数 的票数为 +1 ，非众数 的票数为 −1 ，则一定有所有数字的 票数和 >0 。\n",
        "\n",
        "推论二： 若数组的前 a 个数字的 票数和 =0，则 数组剩余 (n−a) 个数字的 票数和一定仍 >0，即后 (n−a) 个数字的 众数仍为 x 。\n",
        "\n",
        "\n",
        "算法流程:\n",
        "\n",
        "初始化： 票数统计 votes = 0 ， 众数 x。\n",
        "\n",
        "循环： 遍历数组 nums 中的每个数字 num 。\n",
        "\n",
        "当 票数 votes 等于 0 ，则假设当前数字 num 是众数。\n",
        "\n",
        "当 num = x 时，票数 votes 自增 1 ；当 num != x 时，票数 votes 自减 1 。\n",
        "\n",
        "返回值： 返回 x 即可。\n",
        "\n",
        "\n",
        "复杂度分析：\n",
        "\n",
        "时间复杂度 O(N) ： N 为数组 nums 长度。\n",
        "\n",
        "空间复杂度 O(1) ： votes 变量使用常数大小的额外空间。"
      ],
      "metadata": {
        "id": "owJVBJ9IEA7j"
      }
    },
    {
      "cell_type": "code",
      "source": [
        "from typing import List"
      ],
      "metadata": {
        "id": "qF3UaUt6Hdko"
      },
      "execution_count": 1,
      "outputs": []
    },
    {
      "cell_type": "code",
      "source": [
        "def majorityElement2(nums: List[int]) -> int:\n",
        "  # count 用于记录当前候选主要元素出现的次数，初始时，将 count 设为 0\n",
        "  count = 0\n",
        "  # candidate 用于存储当前的候选主要元素。，candidate 设为 None。\n",
        "  candidate = None\n",
        "\n",
        "  # 遍历列表 nums 中的每个元素\n",
        "  for num in nums:\n",
        "\n",
        "    # 如果 count 等于 0，则表示当前没有候选主要元素，因此将当前元素 num 设为候选主要元素 candidate\n",
        "    if count == 0 : candidate = num\n",
        "\n",
        "    # 根据当前元素与候选主要元素的匹配情况更新 count 的值\n",
        "    # 如果 num 等于候选主要元素 candidate，则将 count 加 1；\n",
        "    # 否则，将 count 减 1。\n",
        "    count += (1 if num == candidate else -1)\n",
        "\n",
        "    #\n",
        "    print(f\"num : {num}, count : {count}, candidate : {candidate}\")\n",
        "\n",
        "  # 返回 candidate，即为列表中的主要元素\n",
        "  return candidate"
      ],
      "metadata": {
        "id": "d8AjAFEBDWwl"
      },
      "execution_count": 2,
      "outputs": []
    },
    {
      "cell_type": "markdown",
      "source": [
        "# Test 3"
      ],
      "metadata": {
        "id": "lS0lt5d_JbBR"
      }
    },
    {
      "cell_type": "code",
      "source": [
        "nums = [3,2,3]\n",
        "majorityElement2(nums)"
      ],
      "metadata": {
        "colab": {
          "base_uri": "https://localhost:8080/"
        },
        "outputId": "0cb40afb-f24b-43a5-e0bc-8df81cc08714",
        "id": "yR3h9RzAJbBq"
      },
      "execution_count": 3,
      "outputs": [
        {
          "output_type": "stream",
          "name": "stdout",
          "text": [
            "num : 3, count : 1, candidate : 3\n",
            "num : 2, count : 0, candidate : 3\n",
            "num : 3, count : 1, candidate : 3\n"
          ]
        },
        {
          "output_type": "execute_result",
          "data": {
            "text/plain": [
              "3"
            ]
          },
          "metadata": {},
          "execution_count": 3
        }
      ]
    },
    {
      "cell_type": "code",
      "source": [
        "nums = [2,2,1,1,1,2,2]\n",
        "majorityElement2(nums)"
      ],
      "metadata": {
        "colab": {
          "base_uri": "https://localhost:8080/"
        },
        "outputId": "c804f2bf-5705-47a1-b0dc-095b14edb6e2",
        "id": "5vJ09mFRJbBr"
      },
      "execution_count": 4,
      "outputs": [
        {
          "output_type": "stream",
          "name": "stdout",
          "text": [
            "num : 2, count : 1, candidate : 2\n",
            "num : 2, count : 2, candidate : 2\n",
            "num : 1, count : 1, candidate : 2\n",
            "num : 1, count : 0, candidate : 2\n",
            "num : 1, count : 1, candidate : 1\n",
            "num : 2, count : 0, candidate : 1\n",
            "num : 2, count : 1, candidate : 2\n"
          ]
        },
        {
          "output_type": "execute_result",
          "data": {
            "text/plain": [
              "2"
            ]
          },
          "metadata": {},
          "execution_count": 4
        }
      ]
    },
    {
      "cell_type": "markdown",
      "source": [
        "# 方法一：哈希表\n",
        "\n",
        "思路\n",
        "\n",
        "我们知道出现次数最多的元素大于 n/2 次，所以可以用哈希表来快速统计每个元素出现的次数。\n",
        "\n",
        "算法\n",
        "\n",
        "我们使用哈希映射（HashMap）来存储每个元素以及出现的次数。\n",
        "\n",
        "对于哈希映射中的每个键值对，键表示一个元素，值表示该元素出现的次数。\n",
        "\n",
        "我们用一个循环遍历数组 nums 并将数组中的每个元素加入哈希映射中。\n",
        "\n",
        "在这之后，我们遍历哈希映射中的所有键值对，返回值最大的键。\n",
        "\n",
        "我们同样也可以在遍历数组 nums 时候使用打擂台的方法，维护最大的值，这样省去了最后对哈希映射的遍历。\n",
        "\n",
        "\n",
        "复杂度分析\n",
        "\n",
        "时间复杂度：O(n)，其中 n 是数组 nums 的长度。\n",
        "\n",
        "我们遍历数组 nums 一次，对于 nums 中的每一个元素，将其插入哈希表都只需要常数时间。\n",
        "\n",
        "如果在遍历时没有维护最大值，在遍历结束后还需要对哈希表进行遍历，因为哈希表中占用的空间为 O(n)（可参考下文的空间复杂度分析），那么遍历的时间不会超过 O(n)。因此总时间复杂度为 O(n)\n",
        "\n",
        "空间复杂度：O(n)。哈希表最多包含 n- (n/2) 个键值对，所以占用的空间为 O(n)。\n",
        "\n",
        "这是因为任意一个长度为 n 的数组最多只能包含 n 个不同的值，但题中保证 nums 一定有一个众数，会占用（最少） (n/2) + 1 个数字。\n",
        "\n",
        "因此最多有 n-([n/2] + 1) 个不同的其他数字，所以最多有 n - (n/2)个不同的元素。\n",
        "\n",
        "\n",
        "[多数元素 leetcode](https://leetcode.cn/problems/majority-element/solutions/146074/duo-shu-yuan-su-by-leetcode-solution/)\n",
        "\n",
        "\n",
        "\n",
        "\n"
      ],
      "metadata": {
        "id": "twFYSbuw3TIP"
      }
    },
    {
      "cell_type": "markdown",
      "source": [
        "[Python collections.Counter()函数](https://blog.csdn.net/rocking_struggling/article/details/104851741)\n",
        "\n",
        "[collections python counter](https://docs.python.org/3.10/library/collections.html#collections.Counter)"
      ],
      "metadata": {
        "id": "KWbFbGuZSxSY"
      }
    },
    {
      "cell_type": "code",
      "source": [
        "# collections.Counter(ransomNote) : 创建了一个 Counter 对象，用于统计 ransomNote 中每个字符出现的次数\n",
        "# collections.Counter(magazine) : 创建了一个 Counter 对象，用于统计 magazine 中每个字符出现的次数\n",
        "# not collections.Counter(ransomNote) - collections.Counter(magazine) :\n",
        "# 执行了两个 Counter 对象的减法操作\n",
        "# Counter 对象之间的减法操作会删除相同的键并减去对应的值，\n",
        "# 如果结果 Counter 对象为空（即没有剩余的字符需要构造），则返回 True，否则返回 False\n",
        "# not 操作符将结果取反，确保当可以构造时返回 True，不能构造时返回 False\n",
        "#return collections.Counter(ransomNote) - collections.Counter(magazine)"
      ],
      "metadata": {
        "id": "BjaEXu1Bah4o"
      },
      "execution_count": 5,
      "outputs": []
    },
    {
      "cell_type": "code",
      "source": [
        "import collections"
      ],
      "metadata": {
        "id": "ZraZYzv243c5"
      },
      "execution_count": 6,
      "outputs": []
    },
    {
      "cell_type": "code",
      "source": [
        "from typing import List"
      ],
      "metadata": {
        "id": "UKk83lEc76IN"
      },
      "execution_count": 7,
      "outputs": []
    },
    {
      "cell_type": "code",
      "execution_count": 8,
      "metadata": {
        "id": "4f4M3Z34Zxfo"
      },
      "outputs": [],
      "source": [
        "def majorityElement(num: List[int]) -> int:\n",
        "  # 使用 collections.Counter() 函数创建了一个计数器，用于统计列表 nums 中各个元素出现的次数。\n",
        "  # counts 是一个字典，键(key)为元素值，值(value)为该元素出现的次数。\n",
        "  counts = collections.Counter(nums)\n",
        "\n",
        "  print(counts)\n",
        "\n",
        "  # 使用 max() 函数来找到出现次数最多的元素。\n",
        "  # counts.keys() 返回计数器 counts 中所有的键(key)，即元素值，\n",
        "  # 而 key=counts.get 则指定了比较的关键字为各个元素出现的次数。\n",
        "\n",
        "  # key=counts.get 是 max() 函数的一个关键参数设置。\n",
        "  # 在 Python 中，max() 函数用于找到可迭代对象中的最大元素。\n",
        "  # 它可以接受一个关键字参数 key，用于指定一个函数，该函数将用于提取可迭代对象中的每个元素的比较键。\n",
        "  # 然后 max() 函数根据提取的比较键来确定最大元素。\n",
        "  # 在这里，key=counts.get 的含义是告诉 max() 函数在比较时，使用每个元素作为键去调用 counts.get() 函数，\n",
        "  # 这个函数将返回该元素在 counts 字典中对应的值，即该元素出现的次数。\n",
        "  # 这样，max() 函数就会根据元素出现的次数来确定最大的元素。\n",
        "  # 这种技巧在处理字典中值的比较和排序时特别有用，允许我们基于值而不是键进行比较和排序。\n",
        "\n",
        "  # 因此，max() 函数会根据元素出现的次数找到出现次数最多的元素，并返回该元素的值。\n",
        "  return max(counts.keys(), key=counts.get)"
      ]
    },
    {
      "cell_type": "markdown",
      "source": [
        "# key=counts.get\n",
        "\n",
        "counts = collections.Counter(nums)\n",
        "\n",
        "max(counts.keys(), key=counts.get)"
      ],
      "metadata": {
        "id": "okKKL9Px8B3I"
      }
    },
    {
      "cell_type": "code",
      "source": [
        "nums = [3,2,3]\n",
        "\n",
        "counts = collections.Counter(nums)\n",
        "\n",
        "print(counts)\n",
        "\n",
        "print(\"Without key=counts.get : \", max(counts.keys()))\n",
        "\n",
        "print(\"With key=counts.get    : \", max(counts.keys(), key=counts.get))"
      ],
      "metadata": {
        "colab": {
          "base_uri": "https://localhost:8080/"
        },
        "id": "vo9eo0tw8QWl",
        "outputId": "6ed11e84-482b-4ed3-82c4-298fd51d5556"
      },
      "execution_count": 9,
      "outputs": [
        {
          "output_type": "stream",
          "name": "stdout",
          "text": [
            "Counter({3: 2, 2: 1})\n",
            "Without key=counts.get :  3\n",
            "With key=counts.get    :  3\n"
          ]
        }
      ]
    },
    {
      "cell_type": "code",
      "source": [
        "nums = [2,3,2]\n",
        "\n",
        "counts = collections.Counter(nums)\n",
        "\n",
        "print(counts)\n",
        "\n",
        "print(\"Without key=counts.get : \", max(counts.keys()))\n",
        "\n",
        "print(\"With key=counts.get    : \", max(counts.keys(), key=counts.get))"
      ],
      "metadata": {
        "colab": {
          "base_uri": "https://localhost:8080/"
        },
        "id": "vIavsvNY9ZOG",
        "outputId": "07aad016-bc41-4f2c-9e56-5b825e3fc82f"
      },
      "execution_count": 10,
      "outputs": [
        {
          "output_type": "stream",
          "name": "stdout",
          "text": [
            "Counter({2: 2, 3: 1})\n",
            "Without key=counts.get :  3\n",
            "With key=counts.get    :  2\n"
          ]
        }
      ]
    },
    {
      "cell_type": "code",
      "source": [
        "nums = [\"a\",\"b\",\"a\"]\n",
        "\n",
        "counts = collections.Counter(nums)\n",
        "\n",
        "print(counts)\n",
        "\n",
        "print(\"Without key=counts.get : \", max(counts.keys()))\n",
        "\n",
        "print(\"With key=counts.get    : \", max(counts.keys(), key=counts.get))"
      ],
      "metadata": {
        "colab": {
          "base_uri": "https://localhost:8080/"
        },
        "id": "rtX-92Su9SiF",
        "outputId": "39a3eb9f-aa4b-4b7d-9953-75cfc511b059"
      },
      "execution_count": 11,
      "outputs": [
        {
          "output_type": "stream",
          "name": "stdout",
          "text": [
            "Counter({'a': 2, 'b': 1})\n",
            "Without key=counts.get :  b\n",
            "With key=counts.get    :  a\n"
          ]
        }
      ]
    },
    {
      "cell_type": "markdown",
      "source": [
        "# Test 1"
      ],
      "metadata": {
        "id": "kUR972UU9hWy"
      }
    },
    {
      "cell_type": "code",
      "source": [
        "nums = [3,2,3]\n",
        "majorityElement(nums)"
      ],
      "metadata": {
        "colab": {
          "base_uri": "https://localhost:8080/"
        },
        "id": "0fqmPI4n8E6W",
        "outputId": "6283b4df-13bc-4d0b-b247-c79ad2b240f4"
      },
      "execution_count": 12,
      "outputs": [
        {
          "output_type": "stream",
          "name": "stdout",
          "text": [
            "Counter({3: 2, 2: 1})\n"
          ]
        },
        {
          "output_type": "execute_result",
          "data": {
            "text/plain": [
              "3"
            ]
          },
          "metadata": {},
          "execution_count": 12
        }
      ]
    },
    {
      "cell_type": "code",
      "source": [
        "nums = [2,2,1,1,1,2,2]\n",
        "majorityElement(nums)"
      ],
      "metadata": {
        "colab": {
          "base_uri": "https://localhost:8080/"
        },
        "id": "JtfhpRU7974J",
        "outputId": "b6d7347c-a275-47bd-b5d4-6387380af054"
      },
      "execution_count": 13,
      "outputs": [
        {
          "output_type": "stream",
          "name": "stdout",
          "text": [
            "Counter({2: 4, 1: 3})\n"
          ]
        },
        {
          "output_type": "execute_result",
          "data": {
            "text/plain": [
              "2"
            ]
          },
          "metadata": {},
          "execution_count": 13
        }
      ]
    },
    {
      "cell_type": "markdown",
      "source": [
        "# 排序\n",
        "\n",
        "思路\n",
        "\n",
        "如果将数组 nums 中的所有元素按照单调递增或单调递减的顺序排序，那么下标为 n/2 的元素（下标从 0 开始）一定是众数。\n",
        "\n",
        "算法\n",
        "\n",
        "对于这种算法，我们先将 nums 数组排序，然后返回上文所说的下标对应的元素。\n",
        "\n",
        "下面的图中解释了为什么这种策略是有效的。\n",
        "\n",
        "[多数元素 leetcode](https://leetcode.cn/problems/majority-element/solutions/146074/duo-shu-yuan-su-by-leetcode-solution/)\n",
        "\n",
        "\n",
        "在下图中，第一个例子是 n 为奇数的情况，第二个例子是 n 为偶数的情况。\n",
        "\n",
        "\n",
        "\n",
        "对于每种情况，数组上面的线表示如果众数是数组中的最小值时覆盖的下标，数组下面的线表示如果众数是数组中的最大值时覆盖的下标。\n",
        "\n",
        "对于其他的情况，这条线会在这两种极端情况的中间。对于这两种极端情况，它们会在下标为 n/2 的地方有重叠。因此，无论众数是多少，返回 n/2 下标对应的值都是正确的。\n",
        "\n",
        "\n",
        "复杂度分析\n",
        "\n",
        "时间复杂度：O(nlog⁡n)。将数组排序的时间复杂度为 O(nlog⁡n)。\n",
        "\n",
        "空间复杂度：O(log⁡n)。如果使用语言自带的排序算法，需要使用 O(log⁡n)的栈空间。\n",
        "\n",
        "如果自己编写堆排序，则只需要使用 O(1) 的额外空间。\n",
        "\n",
        "\n"
      ],
      "metadata": {
        "id": "XqPThlwC-GHl"
      }
    },
    {
      "cell_type": "code",
      "source": [
        "def majorityElement1(nums: List[int]) -> int:\n",
        "  # 对列表 nums 进行原地排序。\n",
        "  # 通过对列表进行排序，列表中相同的元素会相邻，并且出现次数超过一半的元素将会位于列表的中间位置。\n",
        "  nums.sort()\n",
        "\n",
        "  print(f\"nums_sort : {nums}, length : {len(nums)}, length/2 : {len(nums) // 2}\")\n",
        "\n",
        "  # // 是整数除法运算符，它返回的是整数部分的结果，而不包含小数部分。\n",
        "  # 与之相对，/ 是普通的除法运算符，返回浮点数结果\n",
        "  # 返回排序后的列表 nums 中间位置的元素。\n",
        "  # 由于列表已经排好序，中间位置的元素就是出现次数超过一半的主要元素。\n",
        "  return nums[len(nums) // 2]"
      ],
      "metadata": {
        "id": "SC7B53do_721"
      },
      "execution_count": 14,
      "outputs": []
    },
    {
      "cell_type": "markdown",
      "source": [
        "# Test 2"
      ],
      "metadata": {
        "id": "BnFERMsnB0_2"
      }
    },
    {
      "cell_type": "code",
      "source": [
        "nums = [2,2,2,3]\n",
        "majorityElement1(nums)"
      ],
      "metadata": {
        "colab": {
          "base_uri": "https://localhost:8080/"
        },
        "id": "U6UlHDmfCfpv",
        "outputId": "d58020e4-88d6-499c-dcc2-4e82047ac63e"
      },
      "execution_count": 15,
      "outputs": [
        {
          "output_type": "stream",
          "name": "stdout",
          "text": [
            "nums_sort : [2, 2, 2, 3], length : 4, length/2 : 2\n"
          ]
        },
        {
          "output_type": "execute_result",
          "data": {
            "text/plain": [
              "2"
            ]
          },
          "metadata": {},
          "execution_count": 15
        }
      ]
    },
    {
      "cell_type": "code",
      "source": [
        "nums = [3,2,3]\n",
        "majorityElement1(nums)"
      ],
      "metadata": {
        "colab": {
          "base_uri": "https://localhost:8080/"
        },
        "outputId": "17ef8c9c-51ad-40bf-d8e5-9c2ed2e7b534",
        "id": "IvCsxIRJB0_4"
      },
      "execution_count": 16,
      "outputs": [
        {
          "output_type": "stream",
          "name": "stdout",
          "text": [
            "nums_sort : [2, 3, 3], length : 3, length/2 : 1\n"
          ]
        },
        {
          "output_type": "execute_result",
          "data": {
            "text/plain": [
              "3"
            ]
          },
          "metadata": {},
          "execution_count": 16
        }
      ]
    },
    {
      "cell_type": "code",
      "source": [
        "nums = [2,2,1,1,1,2,2]\n",
        "majorityElement1(nums)"
      ],
      "metadata": {
        "colab": {
          "base_uri": "https://localhost:8080/"
        },
        "outputId": "9ea85eb2-344b-47a5-c174-0296e52907eb",
        "id": "3lbyZlE5B0_5"
      },
      "execution_count": 17,
      "outputs": [
        {
          "output_type": "stream",
          "name": "stdout",
          "text": [
            "nums_sort : [1, 1, 1, 2, 2, 2, 2], length : 7, length/2 : 3\n"
          ]
        },
        {
          "output_type": "execute_result",
          "data": {
            "text/plain": [
              "2"
            ]
          },
          "metadata": {},
          "execution_count": 17
        }
      ]
    },
    {
      "cell_type": "markdown",
      "source": [
        "# 方法三：随机化\n",
        "\n",
        "思路\n",
        "\n",
        "因为超过 n/2 的数组下标被众数占据了，这样我们随机挑选一个下标对应的元素并验证，有很大的概率能找到众数。\n",
        "\n",
        "算法\n",
        "\n",
        "由于一个给定的下标对应的数字很有可能是众数，我们随机挑选一个下标，检查它是否是众数，如果是就返回，否则继续随机挑选。"
      ],
      "metadata": {
        "id": "9zML4FjHCz2b"
      }
    },
    {
      "cell_type": "markdown",
      "source": [
        "# 方法四：分治\n",
        "\n",
        "思路\n",
        "\n",
        "如果数 a 是数组 nums 的众数，如果我们将 nums 分成两部分，那么 a 必定是至少一部分的众数。\n",
        "\n",
        "我们可以使用反证法来证明这个结论。\n",
        "\n",
        "假设 a 既不是左半部分的众数，也不是右半部分的众数，那么 a 出现的次数少于 l / 2 + r / 2 次，其中 l 和 r 分别是左半部分和右半部分的长度。由于 l / 2 + r / 2 <= (l + r) / 2，说明 a 也不是数组 nums 的众数，因此出现了矛盾。所以这个结论是正确的。\n",
        "\n",
        "这样以来，我们就可以使用分治法解决这个问题：将数组分成左右两部分，分别求出左半部分的众数 a1 以及右半部分的众数 a2，随后在 a1 和 a2 中选出正确的众数。\n",
        "\n",
        "\n",
        "算法\n",
        "\n",
        "我们使用经典的分治算法递归求解，直到所有的子问题都是长度为 1 的数组。\n",
        "\n",
        "长度为 1 的子数组中唯一的数显然是众数，直接返回即可。\n",
        "\n",
        "如果回溯后某区间的长度大于 1，我们必须将左右子区间的值合并。\n",
        "\n",
        "如果它们的众数相同，那么显然这一段区间的众数是它们相同的值。\n",
        "\n",
        "否则，我们需要比较两个众数在整个区间内出现的次数来决定该区间的众数。"
      ],
      "metadata": {
        "id": "l__68BU_DiLI"
      }
    }
  ]
}