{
  "nbformat": 4,
  "nbformat_minor": 0,
  "metadata": {
    "colab": {
      "provenance": [],
      "authorship_tag": "ABX9TyOyP0kKKIV/8fCunbdAiDYq",
      "include_colab_link": true
    },
    "kernelspec": {
      "name": "python3",
      "display_name": "Python 3"
    },
    "language_info": {
      "name": "python"
    }
  },
  "cells": [
    {
      "cell_type": "markdown",
      "metadata": {
        "id": "view-in-github",
        "colab_type": "text"
      },
      "source": [
        "<a href=\"https://colab.research.google.com/github/anjunjin/DevinerEntier/blob/master/leetcode14_232.ipynb\" target=\"_parent\"><img src=\"https://colab.research.google.com/assets/colab-badge.svg\" alt=\"Open In Colab\"/></a>"
      ]
    },
    {
      "cell_type": "markdown",
      "source": [
        "# 232. 用栈实现队列\n",
        "\n",
        "请你仅使用两个栈实现先入先出队列。队列应当支持一般队列支持的所有操作（push、pop、peek、empty）：\n",
        "\n",
        "实现 MyQueue 类：\n",
        "\n",
        "void push(int x) 将元素 x 推到队列的末尾\n",
        "\n",
        "int pop() 从队列的开头移除并返回元素\n",
        "\n",
        "int peek() 返回队列开头的元素\n",
        "\n",
        "boolean empty() 如果队列为空，返回 true ；否则，返回 false\n",
        "\n",
        "\n",
        "说明：\n",
        "\n",
        "你 只能 使用标准的栈操作 —— 也就是只有 push to top, peek/pop from top, size, 和 is empty 操作是合法的。\n",
        "\n",
        "你所使用的语言也许不支持栈。你可以使用 list 或者 deque（双端队列）来模拟一个栈，只要是标准的栈操作即可。\n"
      ],
      "metadata": {
        "id": "fgEbijy4BbkC"
      }
    },
    {
      "cell_type": "markdown",
      "source": [
        "# 栈\n",
        "\n",
        "栈（Stack）是一种线性数据结构\n",
        "\n",
        "栈的特点是后进先出（LIFO，Last In First Out），也就是最后压入栈的元素最先弹出。\n",
        "\n",
        "\n",
        "栈通常具有两种基本操作：\n",
        "\n",
        "压栈（Push）： 将元素放入栈顶。新元素会排在已有元素的上方。\n",
        "\n",
        "弹栈（Pop）： 从栈顶移除元素。栈顶的元素会被移除，并且下方的元素成为新的栈顶。\n",
        "\n",
        "栈的另外一些常用操作包括：\n",
        "\n",
        "查看栈顶元素（Peek）： 查看当前栈顶的元素，但不对栈进行修改。\n",
        "\n",
        "判断栈是否为空（Empty）： 检查栈中是否有元素。\n",
        "\n",
        "获取栈的大小（Size）： 返回栈中元素的数量。\n",
        "\n",
        "\n",
        "\n",
        "\n",
        "\n",
        "\n",
        "\n"
      ],
      "metadata": {
        "id": "1WkS1I6dDtN0"
      }
    },
    {
      "cell_type": "markdown",
      "source": [
        "# 队列：先进先出\n",
        "\n",
        "题目让我们用两个栈来实现一个队列，就是要让两个栈实现一个先进先出的数据结构。\n",
        "\n",
        "思路是：「输入栈」会把输入顺序颠倒；如果把「输入栈」的元素逐个弹出放到「输出栈」，再从「输出栈」弹出元素的时候，则可以负负得正，实现了先进先出。\n",
        "\n",
        "具体做法：\n",
        "\n",
        "可以把一个栈当做「输入栈」，把另一个栈当做「输出栈」。\n",
        "\n",
        "当 push() 新元素的时候，放到「输入栈」的栈顶，记此顺序为「输入序」。\n",
        "\n",
        "当 pop() 元素的时候，是从「输出栈」弹出元素。如果「输出栈」为空，则把「输入栈」的元素逐个 pop() 并且 push() 到「输出栈」中，这一步会把「输入栈」的栈底元素放到了「输出栈」的栈顶。此时负负得正，从「输出栈」的 pop() 元素的顺序与「输入序」相同。\n",
        "\n"
      ],
      "metadata": {
        "id": "5oDPk8DnEXkn"
      }
    },
    {
      "cell_type": "markdown",
      "source": [
        "[动画讲解：如何使用两个栈实现一个队列](https://leetcode.cn/problems/implement-queue-using-stacks/solutions/635805/dong-hua-jiang-jie-ru-he-shi-yong-liang-6g7ub/)\n",
        "\n",
        "[用栈实现队列](https://leetcode.cn/problems/implement-queue-using-stacks/solutions/2363977/232-yong-zhan-shi-xian-dui-lie-qing-xi-t-pi4l/)\n",
        "\n"
      ],
      "metadata": {
        "id": "O3wC3nQJE18B"
      }
    },
    {
      "cell_type": "markdown",
      "source": [
        "时间复杂度：\n",
        "\n",
        "push() 时间复杂度是 O(1)\n",
        "\n",
        "peek()/pop() 均摊时间复杂度是 O(1)，单步操作的最坏时间复杂度是 O(N)\n",
        "\n",
        "空间复杂度：空间复杂度是 O(N)，因为总的占用了 N 个元素的空间。\n",
        "\n"
      ],
      "metadata": {
        "id": "knNACxR8LimD"
      }
    },
    {
      "cell_type": "code",
      "execution_count": 1,
      "metadata": {
        "id": "JYZ5w3ct3vgK"
      },
      "outputs": [],
      "source": [
        "class MyQueue:\n",
        "  def __init__(self):\n",
        "    # 用于入队\n",
        "    self.stack1 = []\n",
        "    # 用于出队\n",
        "    self.stack2 = []\n",
        "\n",
        "  # push 方法直接将元素压入 stack1 中\n",
        "  def push(self, x: int) -> None:\n",
        "    self.stack1.append(x)\n",
        "\n",
        "  # Move elements from stack1 to stack2 if stack2 is empty.\n",
        "  # 保证在 pop 和 peek 操作时，栈顶元素是队列中的第一个元素\n",
        "  def move_elements(self):\n",
        "    if not self.stack2:\n",
        "      while self.stack1:\n",
        "        self.stack2.append(self.stack1.pop())\n",
        "\n",
        "  # pop 方法调用 move_elements 方法将 stack1 中的元素转移到 stack2\n",
        "  # 然后从 stack2 中弹出栈顶元素\n",
        "  def pop(self) -> int:\n",
        "    self.move_elements()\n",
        "    return self.stack2.pop()\n",
        "\n",
        "  # peek 方法与 pop 方法类似，但是不弹出元素，只是返回栈顶元素\n",
        "  def peek(self) -> int:\n",
        "    self.move_elements()\n",
        "    return self.stack2[-1]\n",
        "\n",
        "  # empty 方法判断两个栈是否都为空，若都为空则队列为空\n",
        "  def empty(self) -> bool:\n",
        "    return not self.stack1 and not self.stack2"
      ]
    },
    {
      "cell_type": "markdown",
      "source": [
        "# Test"
      ],
      "metadata": {
        "id": "SBwgAE8EJjsd"
      }
    },
    {
      "cell_type": "code",
      "source": [
        "queue = MyQueue()"
      ],
      "metadata": {
        "id": "hUiIdW1DJjT4"
      },
      "execution_count": 11,
      "outputs": []
    },
    {
      "cell_type": "code",
      "source": [
        "# 1 2 3\n",
        "queue.push(1)\n",
        "queue.push(2)\n",
        "queue.push(3)"
      ],
      "metadata": {
        "id": "l6aFOX1XJvRy"
      },
      "execution_count": 12,
      "outputs": []
    },
    {
      "cell_type": "code",
      "source": [
        "queue.pop()"
      ],
      "metadata": {
        "colab": {
          "base_uri": "https://localhost:8080/"
        },
        "id": "GY_P1UgLJ4dy",
        "outputId": "e8b75985-c099-4b65-b6b1-a84482c0256b"
      },
      "execution_count": 13,
      "outputs": [
        {
          "output_type": "execute_result",
          "data": {
            "text/plain": [
              "1"
            ]
          },
          "metadata": {},
          "execution_count": 13
        }
      ]
    },
    {
      "cell_type": "code",
      "source": [
        "queue.peek()"
      ],
      "metadata": {
        "colab": {
          "base_uri": "https://localhost:8080/"
        },
        "id": "CStB3upcKDQ8",
        "outputId": "52dec71f-41a2-45f4-8ff4-30db491fb06b"
      },
      "execution_count": 14,
      "outputs": [
        {
          "output_type": "execute_result",
          "data": {
            "text/plain": [
              "2"
            ]
          },
          "metadata": {},
          "execution_count": 14
        }
      ]
    },
    {
      "cell_type": "code",
      "source": [
        "queue.empty()"
      ],
      "metadata": {
        "colab": {
          "base_uri": "https://localhost:8080/"
        },
        "id": "Id_Yq8G7KSeP",
        "outputId": "a059cf3f-b371-4bb2-c6ef-c5a30422870f"
      },
      "execution_count": 15,
      "outputs": [
        {
          "output_type": "execute_result",
          "data": {
            "text/plain": [
              "False"
            ]
          },
          "metadata": {},
          "execution_count": 15
        }
      ]
    },
    {
      "cell_type": "code",
      "source": [
        "queue.pop()"
      ],
      "metadata": {
        "colab": {
          "base_uri": "https://localhost:8080/"
        },
        "id": "v3O2uGoLKVfz",
        "outputId": "1c6a2ab3-a914-4949-dd1d-804290387d87"
      },
      "execution_count": 16,
      "outputs": [
        {
          "output_type": "execute_result",
          "data": {
            "text/plain": [
              "2"
            ]
          },
          "metadata": {},
          "execution_count": 16
        }
      ]
    },
    {
      "cell_type": "code",
      "source": [
        "queue.peek()"
      ],
      "metadata": {
        "colab": {
          "base_uri": "https://localhost:8080/"
        },
        "id": "6_Ddh8APKYHm",
        "outputId": "bfb47c31-b5e9-40b2-d21f-4a69f48a014c"
      },
      "execution_count": 17,
      "outputs": [
        {
          "output_type": "execute_result",
          "data": {
            "text/plain": [
              "3"
            ]
          },
          "metadata": {},
          "execution_count": 17
        }
      ]
    },
    {
      "cell_type": "code",
      "source": [
        "queue.pop()"
      ],
      "metadata": {
        "colab": {
          "base_uri": "https://localhost:8080/"
        },
        "id": "uqhIos97KZwT",
        "outputId": "c0b34709-b732-4772-f8a7-ba95a9fbffe1"
      },
      "execution_count": 18,
      "outputs": [
        {
          "output_type": "execute_result",
          "data": {
            "text/plain": [
              "3"
            ]
          },
          "metadata": {},
          "execution_count": 18
        }
      ]
    },
    {
      "cell_type": "code",
      "source": [
        "#\n",
        "queue.peek()"
      ],
      "metadata": {
        "colab": {
          "base_uri": "https://localhost:8080/",
          "height": 276
        },
        "id": "RK6vu8c_KbaE",
        "outputId": "9aef9e58-9cad-4bbc-9136-b89bb3c63721"
      },
      "execution_count": 20,
      "outputs": [
        {
          "output_type": "error",
          "ename": "IndexError",
          "evalue": "list index out of range",
          "traceback": [
            "\u001b[0;31m---------------------------------------------------------------------------\u001b[0m",
            "\u001b[0;31mIndexError\u001b[0m                                Traceback (most recent call last)",
            "\u001b[0;32m<ipython-input-20-74fbff6d5b38>\u001b[0m in \u001b[0;36m<cell line: 1>\u001b[0;34m()\u001b[0m\n\u001b[0;32m----> 1\u001b[0;31m \u001b[0mqueue\u001b[0m\u001b[0;34m.\u001b[0m\u001b[0mpeek\u001b[0m\u001b[0;34m(\u001b[0m\u001b[0;34m)\u001b[0m\u001b[0;34m\u001b[0m\u001b[0;34m\u001b[0m\u001b[0m\n\u001b[0m",
            "\u001b[0;32m<ipython-input-1-77d843fcc1be>\u001b[0m in \u001b[0;36mpeek\u001b[0;34m(self)\u001b[0m\n\u001b[1;32m     26\u001b[0m   \u001b[0;32mdef\u001b[0m \u001b[0mpeek\u001b[0m\u001b[0;34m(\u001b[0m\u001b[0mself\u001b[0m\u001b[0;34m)\u001b[0m \u001b[0;34m->\u001b[0m \u001b[0mint\u001b[0m\u001b[0;34m:\u001b[0m\u001b[0;34m\u001b[0m\u001b[0;34m\u001b[0m\u001b[0m\n\u001b[1;32m     27\u001b[0m     \u001b[0mself\u001b[0m\u001b[0;34m.\u001b[0m\u001b[0mmove_elements\u001b[0m\u001b[0;34m(\u001b[0m\u001b[0;34m)\u001b[0m\u001b[0;34m\u001b[0m\u001b[0;34m\u001b[0m\u001b[0m\n\u001b[0;32m---> 28\u001b[0;31m     \u001b[0;32mreturn\u001b[0m \u001b[0mself\u001b[0m\u001b[0;34m.\u001b[0m\u001b[0mstack2\u001b[0m\u001b[0;34m[\u001b[0m\u001b[0;34m-\u001b[0m\u001b[0;36m1\u001b[0m\u001b[0;34m]\u001b[0m\u001b[0;34m\u001b[0m\u001b[0;34m\u001b[0m\u001b[0m\n\u001b[0m\u001b[1;32m     29\u001b[0m \u001b[0;34m\u001b[0m\u001b[0m\n\u001b[1;32m     30\u001b[0m   \u001b[0;31m# empty 方法判断两个栈是否都为空，若都为空则队列为空\u001b[0m\u001b[0;34m\u001b[0m\u001b[0;34m\u001b[0m\u001b[0m\n",
            "\u001b[0;31mIndexError\u001b[0m: list index out of range"
          ]
        }
      ]
    },
    {
      "cell_type": "code",
      "source": [
        "queue.empty()"
      ],
      "metadata": {
        "colab": {
          "base_uri": "https://localhost:8080/"
        },
        "id": "N42QEIUhKnSA",
        "outputId": "79b50534-c48a-4ee7-bf3b-933a221e683c"
      },
      "execution_count": 21,
      "outputs": [
        {
          "output_type": "execute_result",
          "data": {
            "text/plain": [
              "True"
            ]
          },
          "metadata": {},
          "execution_count": 21
        }
      ]
    }
  ]
}