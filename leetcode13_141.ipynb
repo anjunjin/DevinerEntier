{
  "nbformat": 4,
  "nbformat_minor": 0,
  "metadata": {
    "colab": {
      "provenance": [],
      "collapsed_sections": [
        "4XUg4bhSx-wg",
        "xG47Y3WN3LOB"
      ],
      "authorship_tag": "ABX9TyMXj1o6X9bZYHI6LOT5P0Kd",
      "include_colab_link": true
    },
    "kernelspec": {
      "name": "python3",
      "display_name": "Python 3"
    },
    "language_info": {
      "name": "python"
    }
  },
  "cells": [
    {
      "cell_type": "markdown",
      "metadata": {
        "id": "view-in-github",
        "colab_type": "text"
      },
      "source": [
        "<a href=\"https://colab.research.google.com/github/anjunjin/DevinerEntier/blob/master/leetcode13_141.ipynb\" target=\"_parent\"><img src=\"https://colab.research.google.com/assets/colab-badge.svg\" alt=\"Open In Colab\"/></a>"
      ]
    },
    {
      "cell_type": "markdown",
      "source": [
        "给你一个链表的头节点 head ，判断链表中是否有环。\n",
        "\n",
        "如果链表中有某个节点，可以通过连续跟踪 next 指针再次到达，则链表中存在环。 为了表示给定链表中的环，评测系统内部使用整数 pos 来表示链表尾连接到链表中的位置（索引从 0 开始）。注意：pos 不作为参数进行传递 。仅仅是为了标识链表的实际情况。"
      ],
      "metadata": {
        "id": "aQd0qnn2wqLN"
      }
    },
    {
      "cell_type": "markdown",
      "source": [
        "# 方法一：哈希表\n",
        "\n",
        "复杂度分析\n",
        "\n",
        "时间复杂度：O(N)，其中 N 是链表中的节点数。最坏情况下我们需要遍历每个节点一次。\n",
        "\n",
        "空间复杂度：O(N)，其中 N 是链表中的节点数。主要为哈希表的开销，最坏情况下我们需要将每个节点插入到哈希表中一次。\n",
        "\n"
      ],
      "metadata": {
        "id": "4XUg4bhSx-wg"
      }
    },
    {
      "cell_type": "code",
      "source": [
        "class ListNode:\n",
        "  def __init__(self, x):\n",
        "    self.val = x\n",
        "    self.next = None"
      ],
      "metadata": {
        "id": "PlB1CXNn0TB6"
      },
      "execution_count": null,
      "outputs": []
    },
    {
      "cell_type": "code",
      "execution_count": null,
      "metadata": {
        "id": "vdrzPsVv5DaB"
      },
      "outputs": [],
      "source": [
        "# 遍历链表，每遍历一个节点，将其加入到一个 哈希表 集合中。\n",
        "# 如果当前节点已经存在于 哈希表 集合中，说明链表中存在环，返回True\n",
        "# 如果遍历完成都没有发现环，则返回False\n",
        "\n",
        "# head: 链表的头节点\n",
        "def hasCycle(head: ListNode) -> bool:\n",
        "  # seen: 集合，用来存储已经遍历过的节点\n",
        "  seen = set()\n",
        "\n",
        "  # 这个循环会遍历整个链表，直到链表的末尾（即 head 为 None）\n",
        "  while head:\n",
        "    # 如果当前节点已经存在于 哈希表 集合中，说明链表中存在环，返回True\n",
        "    if head in seen: return True\n",
        "    # 将当前节点加入 哈希表 集合中\n",
        "    seen.add(head)\n",
        "    # 将head指针指向下一个节点\n",
        "    head = head.next\n",
        "  # 如果遍历完成都没有发现环，则返回False\n",
        "  return False"
      ]
    },
    {
      "cell_type": "markdown",
      "source": [
        "# Test"
      ],
      "metadata": {
        "id": "xG47Y3WN3LOB"
      }
    },
    {
      "cell_type": "code",
      "source": [
        "# head = [3,2,0,-4], pos = 1\n",
        "# 创建链表节点\n",
        "head = ListNode(3)\n",
        "head.next = ListNode(2)\n",
        "head.next.next = ListNode(0)\n",
        "head.next.next.next = ListNode(-4)\n",
        "# 构造环\n",
        "head.next.next.next.next = head.next"
      ],
      "metadata": {
        "id": "e7VRa18C06Wr"
      },
      "execution_count": null,
      "outputs": []
    },
    {
      "cell_type": "code",
      "source": [
        "hasCycle(head)"
      ],
      "metadata": {
        "colab": {
          "base_uri": "https://localhost:8080/"
        },
        "id": "Zq5CjGDS3ONz",
        "outputId": "d020d5d9-c3f2-4ea0-97ea-da46693940a8"
      },
      "execution_count": null,
      "outputs": [
        {
          "output_type": "execute_result",
          "data": {
            "text/plain": [
              "True"
            ]
          },
          "metadata": {},
          "execution_count": 4
        }
      ]
    },
    {
      "cell_type": "code",
      "source": [
        "# head = [1,2], pos = 0\n",
        "# 创建链表节点\n",
        "head1 = ListNode(1)\n",
        "head1.next = ListNode(2)\n",
        "# 构造环\n",
        "head1.next.next = head"
      ],
      "metadata": {
        "id": "l_egK3hg3c6h"
      },
      "execution_count": null,
      "outputs": []
    },
    {
      "cell_type": "code",
      "source": [
        "hasCycle(head1)"
      ],
      "metadata": {
        "colab": {
          "base_uri": "https://localhost:8080/"
        },
        "id": "1dMEbnDt3o_N",
        "outputId": "a26a82e4-47b7-46f8-b417-efd3496fda93"
      },
      "execution_count": null,
      "outputs": [
        {
          "output_type": "execute_result",
          "data": {
            "text/plain": [
              "True"
            ]
          },
          "metadata": {},
          "execution_count": 12
        }
      ]
    },
    {
      "cell_type": "code",
      "source": [
        "# head = [1], pos = -1\n",
        "head2 = ListNode(1)"
      ],
      "metadata": {
        "id": "qLdDLlhA33sq"
      },
      "execution_count": null,
      "outputs": []
    },
    {
      "cell_type": "code",
      "source": [
        "hasCycle(head2)"
      ],
      "metadata": {
        "colab": {
          "base_uri": "https://localhost:8080/"
        },
        "id": "V8G6GWRn3-q8",
        "outputId": "53019b23-998c-41db-97b2-72ff57e3648d"
      },
      "execution_count": null,
      "outputs": [
        {
          "output_type": "execute_result",
          "data": {
            "text/plain": [
              "False"
            ]
          },
          "metadata": {},
          "execution_count": 16
        }
      ]
    },
    {
      "cell_type": "markdown",
      "source": [
        "# 方法二：快慢指针\n",
        "\n",
        "[快慢指针](https://leetcode.cn/problems/linked-list-cycle/solutions/440042/huan-xing-lian-biao-by-leetcode-solution/)\n",
        "\n",
        "\n",
        "思路及算法\n",
        "\n",
        "本方法需要读者对「Floyd 判圈算法」（又称龟兔赛跑算法）有所了解。\n",
        "\n",
        "假想「乌龟」和「兔子」在链表上移动，「兔子」跑得快，「乌龟」跑得慢。当「乌龟」和「兔子」从链表上的同一个节点开始移动时，如果该链表中没有环，那么「兔子」将一直处于「乌龟」的前方；如果该链表中有环，那么「兔子」会先于「乌龟」进入环，并且一直在环内移动。等到「乌龟」进入环时，由于「兔子」的速度快，它一定会在某个时刻与乌龟相遇，即套了「乌龟」若干圈。\n",
        "\n",
        "我们可以根据上述思路来解决本题。具体地，我们定义两个指针，一快一慢。慢指针每次只移动一步，而快指针每次移动两步。初始时，慢指针在位置 head，而快指针在位置 head.next。这样一来，如果在移动的过程中，快指针反过来追上慢指针，就说明该链表为环形链表。否则快指针将到达链表尾部，该链表不为环形链表。\n",
        "\n",
        "细节\n",
        "\n",
        "为什么我们要规定初始时慢指针在位置 head，快指针在位置 head.next，而不是两个指针都在位置 head（即与「乌龟」和「兔子」中的叙述相同）？\n",
        "\n",
        "观察下面的代码，我们使用的是 while 循环，循环条件先于循环体。由于循环条件一定是判断快慢指针是否重合，如果我们将两个指针初始都置于 head，那么 while 循环就不会执行。因此，我们可以假想一个在 head 之前的虚拟节点，慢指针从虚拟节点移动一步到达 head，快指针从虚拟节点移动两步到达 head.next，这样我们就可以使用 while 循环了。\n",
        "\n",
        "当然，我们也可以使用 do-while 循环。此时，我们就可以把快慢指针的初始值都置为 head。\n",
        "\n",
        "\n",
        "\n",
        "\n"
      ],
      "metadata": {
        "id": "dt3e8XVb4Gcy"
      }
    },
    {
      "cell_type": "markdown",
      "source": [
        "时间复杂度：O(N)，其中 N 是链表中的节点数。\n",
        "\n",
        "当链表中不存在环时，快指针将先于慢指针到达链表尾部，链表中每个节点至多被访问两次。\n",
        "\n",
        "当链表中存在环时，每一轮移动后，快慢指针的距离将减小一。而初始距离为环的长度，因此至多移动 NNN 轮。\n",
        "\n",
        "空间复杂度：O(1)。我们只使用了两个指针的额外空间。\n",
        "\n"
      ],
      "metadata": {
        "id": "_0jpA-Fq5ZYj"
      }
    },
    {
      "cell_type": "code",
      "source": [
        "def hasCycle1(head:ListNode) -> bool:\n",
        "  # 如果链表为空 not head\n",
        "  # 或者只有一个节点 not head.next，那么肯定不存在环，直接返回 False\n",
        "  if not head or not head.next: return False\n",
        "\n",
        "  # 否则，初始化两个指针 slow 和 fast, 初始时,\n",
        "  # slow 指向头节点 head\n",
        "  # fast 指向头节点 head 的下一个节点\n",
        "  slow = head\n",
        "  fast = head.next\n",
        "\n",
        "  # while 循环，循环条件先于循环体\n",
        "  # 循环条件是判断快慢指针是否重合，如果我们将两个指针初始都置于 head，那么 while 循环就不会执行。\n",
        "  # 因此，我们可以假想一个在 head 之前的虚拟节点，慢指针从虚拟节点移动一步到达 head，\n",
        "  # 快指针从虚拟节点移动两步到达 head.next，这样我们就可以使用 while 循环了。\n",
        "  # 当然，我们也可以使用 do-while 循环。此时，我们就可以把快慢指针的初始值都置为 head。\n",
        "\n",
        "\n",
        "  # 进入循环，只要 slow 和 fast 不相遇。在循环中，slow每次移动一步，fast每次移动两步。\n",
        "  while slow != fast:\n",
        "    # 并且 fast 及 fast 的下一个节点不为空，就继续循环\n",
        "    if not fast or not fast.next: return False\n",
        "\n",
        "    # 在循环中，slow 每次移动一步，\n",
        "    # fast 每次移动两步。\n",
        "    slow = slow.next\n",
        "    fast = fast.next.next\n",
        "\n",
        "  # 如果在循环中 slow 和 fast 相遇了，则说明链表中存在环，返回 True\n",
        "  # 如果循环结束了（即 slow 和 fast 不再相遇），则说明链表中不存在环，返回 False\n",
        "  return True"
      ],
      "metadata": {
        "id": "Lzvnf2We4txx"
      },
      "execution_count": null,
      "outputs": []
    },
    {
      "cell_type": "markdown",
      "source": [
        "# Test"
      ],
      "metadata": {
        "id": "F948EXdq6TK1"
      }
    },
    {
      "cell_type": "code",
      "source": [
        "# head = [3,2,0,-4], pos = 1\n",
        "# 创建链表节点\n",
        "head = ListNode(3)\n",
        "head.next = ListNode(2)\n",
        "head.next.next = ListNode(0)\n",
        "head.next.next.next = ListNode(-4)\n",
        "# 构造环\n",
        "head.next.next.next.next = head.next"
      ],
      "metadata": {
        "id": "XvCwV6kw6TK4"
      },
      "execution_count": null,
      "outputs": []
    },
    {
      "cell_type": "code",
      "source": [
        "hasCycle1(head)"
      ],
      "metadata": {
        "colab": {
          "base_uri": "https://localhost:8080/"
        },
        "outputId": "2f2ef0b0-3988-4dd5-a79e-e8034d0a5d55",
        "id": "mZSY6ac86TK5"
      },
      "execution_count": null,
      "outputs": [
        {
          "output_type": "execute_result",
          "data": {
            "text/plain": [
              "True"
            ]
          },
          "metadata": {},
          "execution_count": 19
        }
      ]
    },
    {
      "cell_type": "code",
      "source": [
        "# head = [1,2], pos = 0\n",
        "# 创建链表节点\n",
        "head1 = ListNode(1)\n",
        "head1.next = ListNode(2)\n",
        "# 构造环\n",
        "head1.next.next = head"
      ],
      "metadata": {
        "id": "RduQEJQ86TK6"
      },
      "execution_count": null,
      "outputs": []
    },
    {
      "cell_type": "code",
      "source": [
        "hasCycle1(head1)"
      ],
      "metadata": {
        "colab": {
          "base_uri": "https://localhost:8080/"
        },
        "outputId": "dbe8156d-4f8e-4368-bea8-9f31616be0bc",
        "id": "7KKPc9_c6TK7"
      },
      "execution_count": null,
      "outputs": [
        {
          "output_type": "execute_result",
          "data": {
            "text/plain": [
              "True"
            ]
          },
          "metadata": {},
          "execution_count": 21
        }
      ]
    },
    {
      "cell_type": "code",
      "source": [
        "# head = [1], pos = -1\n",
        "head2 = ListNode(1)"
      ],
      "metadata": {
        "id": "0jBJlYuT6TK7"
      },
      "execution_count": null,
      "outputs": []
    },
    {
      "cell_type": "code",
      "source": [
        "hasCycle1(head2)"
      ],
      "metadata": {
        "colab": {
          "base_uri": "https://localhost:8080/"
        },
        "outputId": "4e3328b6-d2d3-4a16-c300-ee72204141b3",
        "id": "e5SbLVed6TK7"
      },
      "execution_count": null,
      "outputs": [
        {
          "output_type": "execute_result",
          "data": {
            "text/plain": [
              "False"
            ]
          },
          "metadata": {},
          "execution_count": 23
        }
      ]
    }
  ]
}