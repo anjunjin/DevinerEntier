{
  "nbformat": 4,
  "nbformat_minor": 0,
  "metadata": {
    "colab": {
      "provenance": [],
      "collapsed_sections": [
        "ytys7UCnGg3_"
      ],
      "authorship_tag": "ABX9TyNrDLGZm+KYUTouW8pGF4zF",
      "include_colab_link": true
    },
    "kernelspec": {
      "name": "python3",
      "display_name": "Python 3"
    },
    "language_info": {
      "name": "python"
    }
  },
  "cells": [
    {
      "cell_type": "markdown",
      "metadata": {
        "id": "view-in-github",
        "colab_type": "text"
      },
      "source": [
        "<a href=\"https://colab.research.google.com/github/anjunjin/DevinerEntier/blob/master/leetcode25_217.ipynb\" target=\"_parent\"><img src=\"https://colab.research.google.com/assets/colab-badge.svg\" alt=\"Open In Colab\"/></a>"
      ]
    },
    {
      "cell_type": "markdown",
      "source": [
        "# 存在重复元素\n",
        "\n",
        "给你一个整数数组 nums 。\n",
        "\n",
        "如果任一值在数组中出现 至少两次 ，返回 true ；\n",
        "\n",
        "如果数组中每个元素互不相同，返回 false 。"
      ],
      "metadata": {
        "id": "OpRF7EzvGbXs"
      }
    },
    {
      "cell_type": "code",
      "source": [
        "from typing import List"
      ],
      "metadata": {
        "id": "7Dh7ZXpHIy6q"
      },
      "execution_count": 1,
      "outputs": []
    },
    {
      "cell_type": "markdown",
      "source": [
        "# 哈希表\n",
        "\n",
        "对于数组中每个元素，我们将它插入到哈希表中。\n",
        "\n",
        "如果插入一个元素时发现该元素已经存在于哈希表中，则说明存在重复的元素。\n",
        "\n",
        "复杂度分析\n",
        "\n",
        "时间复杂度：O(N)，其中 N 为数组的长度。\n",
        "\n",
        "空间复杂度：O(N)，其中 N 为数组的长度。\n",
        "\n",
        "[存在重复元素 leetcode](https://leetcode.cn/problems/contains-duplicate/solutions/518991/cun-zai-zhong-fu-yuan-su-by-leetcode-sol-iedd/)\n",
        "\n",
        "[存在重复元素](https://leetcode.cn/problems/contains-duplicate/solutions/1270839/python-setyi-xing-jie-jue-by-ruo-nian-fe-cxqc/)"
      ],
      "metadata": {
        "id": "aO6s0j2dHgIy"
      }
    },
    {
      "cell_type": "code",
      "source": [
        "#set() 函数创建一个无序不重复元素集，可进行关系测试，删除重复数据，还可以计算交集、差集、并集等。"
      ],
      "metadata": {
        "id": "UIFcNK4HKvQH"
      },
      "execution_count": 2,
      "outputs": []
    },
    {
      "cell_type": "code",
      "execution_count": 3,
      "metadata": {
        "id": "yyJQEyzoGBXj"
      },
      "outputs": [],
      "source": [
        "# 检查给定的整数数组中是否存在重复元素\n",
        "def containsDuplicate(nums: List[int]) -> bool:\n",
        "  print(f\"set(nums) : {set(nums)}, nums : {nums}\")\n",
        "  print(f\"len(set(nums)) : {len(set(nums))}, len(nums) : {len(nums)}\")\n",
        "\n",
        "  # 将整数数组 nums 转换为集合（set），这样会自动去除重复的元素，得到一个只包含唯一元素的集合\n",
        "  # 将原始数组 nums 的长度与集合长度进行比较。\n",
        "  # 如果集合长度与原始数组长度相等，表示数组中没有重复元素，因为集合会自动去重；\n",
        "  # 如果集合长度 小于 原始数组长度，表示数组中存在重复元素。\n",
        "  return len(set(nums)) != len(nums)\n",
        "\n",
        "  # 使用 not 关键字对比较的结果进行取反，即返回集合长度与原始数组长度是否相等的结果的反转。\n",
        "  # 这样，如果集合长度与原始数组长度相等，取反后返回 False，表示没有重复元素；\n",
        "  # 如果集合长度小于原始数组长度，取反后返回 True，表示存在重复元素。\n",
        "  #return not (len(set(nums)) == len(nums))"
      ]
    },
    {
      "cell_type": "markdown",
      "source": [
        "# Test"
      ],
      "metadata": {
        "id": "ytys7UCnGg3_"
      }
    },
    {
      "cell_type": "code",
      "source": [
        "nums = [1,2,3,1]\n",
        "\n",
        "containsDuplicate(nums)"
      ],
      "metadata": {
        "colab": {
          "base_uri": "https://localhost:8080/"
        },
        "id": "EMp-rGBDGi8J",
        "outputId": "26035aa9-34e5-4c6e-d262-f566daff0405"
      },
      "execution_count": 4,
      "outputs": [
        {
          "output_type": "stream",
          "name": "stdout",
          "text": [
            "set(nums) : {1, 2, 3}, nums : [1, 2, 3, 1]\n",
            "len(set(nums)) : 3, len(nums) : 4\n"
          ]
        },
        {
          "output_type": "execute_result",
          "data": {
            "text/plain": [
              "True"
            ]
          },
          "metadata": {},
          "execution_count": 4
        }
      ]
    },
    {
      "cell_type": "code",
      "source": [
        "nums = [1,2,3,4]\n",
        "\n",
        "containsDuplicate(nums)"
      ],
      "metadata": {
        "colab": {
          "base_uri": "https://localhost:8080/"
        },
        "id": "JhJVExrVGkIK",
        "outputId": "886dba94-6cb3-432c-97b1-ae3cdfaad8fc"
      },
      "execution_count": 5,
      "outputs": [
        {
          "output_type": "stream",
          "name": "stdout",
          "text": [
            "set(nums) : {1, 2, 3, 4}, nums : [1, 2, 3, 4]\n",
            "len(set(nums)) : 4, len(nums) : 4\n"
          ]
        },
        {
          "output_type": "execute_result",
          "data": {
            "text/plain": [
              "False"
            ]
          },
          "metadata": {},
          "execution_count": 5
        }
      ]
    },
    {
      "cell_type": "code",
      "source": [
        "nums = [1,1,1,3,3,4,3,2,4,2]\n",
        "\n",
        "containsDuplicate(nums)"
      ],
      "metadata": {
        "colab": {
          "base_uri": "https://localhost:8080/"
        },
        "id": "yThK1mT9GmQ7",
        "outputId": "52190cf1-fd52-4cb8-c4b6-d106132d5f70"
      },
      "execution_count": 6,
      "outputs": [
        {
          "output_type": "stream",
          "name": "stdout",
          "text": [
            "set(nums) : {1, 2, 3, 4}, nums : [1, 1, 1, 3, 3, 4, 3, 2, 4, 2]\n",
            "len(set(nums)) : 4, len(nums) : 10\n"
          ]
        },
        {
          "output_type": "execute_result",
          "data": {
            "text/plain": [
              "True"
            ]
          },
          "metadata": {},
          "execution_count": 6
        }
      ]
    },
    {
      "cell_type": "markdown",
      "source": [
        "# 排序\n",
        "在对数字从小到大排序之后，数组的重复元素一定出现在相邻位置中。因此，我们可以扫描已排序的数组，每次判断相邻的两个元素是否相等，如果相等则说明存在重复的元素。\n",
        "\n",
        "复杂度分析\n",
        "\n",
        "代码的时间复杂度取决于排序算法的时间复杂度\n",
        "\n",
        "时间复杂度：O(Nlog⁡N)，其中 N 为数组的长度。需要对数组进行排序。\n",
        "\n",
        "空间复杂度为 O(1)，因为只使用了常量级的额外空间\n",
        "\n",
        "空间复杂度：O(log⁡N)，其中 N 为数组的长度。注意我们在这里应当考虑递归调用栈的深度。\n",
        "\n",
        "[存在重复元素 leetcode](https://leetcode.cn/problems/contains-duplicate/solutions/518991/cun-zai-zhong-fu-yuan-su-by-leetcode-sol-iedd/)"
      ],
      "metadata": {
        "id": "RFoOJUPWMJ7V"
      }
    },
    {
      "cell_type": "code",
      "source": [
        "def containsDuplicate1(nums: List[int]) -> bool:\n",
        "  print(f\"nums : {nums}\")\n",
        "\n",
        "  # 对输入的整数数组 nums 进行排序，这样相同的元素就会相邻排列\n",
        "  # list 的 sort() 方法会原地对列表进行排序，而不返回任何内容（或者说返回None）\n",
        "  # 如果要打印排序后的列表，应该在调用sort()方法后直接打印nums\n",
        "  nums.sort()\n",
        "\n",
        "  print(f\"nums.sort() : {nums}\")\n",
        "\n",
        "  # 使用 for 循环遍历整数数组 nums，循环条件为 range(len(nums) - 1)，\n",
        "  # 即遍历数组中的每个元素，但不包括最后一个元素\n",
        "  # JAVA : for (int i = 0; i < n - 1; i++)\n",
        "  for i in range(len(nums) - 1):\n",
        "    # 检查当前元素 nums[i] 是否与下一个元素 nums[i+1] 相等。\n",
        "    # 如果相等，说明存在重复元素，立即返回 True\n",
        "    if nums[i] == nums[i+1]:\n",
        "\n",
        "      print(f\"nums[{i}]:{nums[i]} == nums[{i+1}]:{nums[i+1]}\")\n",
        "\n",
        "      return True\n",
        "\n",
        "  # 如果循环结束后没有找到重复元素，即整个数组遍历完成，那么返回 False，表示数组中没有重复元素\n",
        "  return False"
      ],
      "metadata": {
        "id": "vsxmCDtJMYG_"
      },
      "execution_count": 7,
      "outputs": []
    },
    {
      "cell_type": "markdown",
      "source": [
        "# Test 1"
      ],
      "metadata": {
        "id": "AG0jgiV7M6ml"
      }
    },
    {
      "cell_type": "code",
      "source": [
        "nums = [1,2,3,1]\n",
        "\n",
        "containsDuplicate1(nums)"
      ],
      "metadata": {
        "colab": {
          "base_uri": "https://localhost:8080/"
        },
        "outputId": "d7a96c83-4234-45c4-ccf0-dfd8bb60ae3a",
        "id": "x4brhO7UM6mz"
      },
      "execution_count": 8,
      "outputs": [
        {
          "output_type": "stream",
          "name": "stdout",
          "text": [
            "nums : [1, 2, 3, 1]\n",
            "nums.sort() : [1, 1, 2, 3]\n",
            "nums[0]:1 == nums[1]:1\n"
          ]
        },
        {
          "output_type": "execute_result",
          "data": {
            "text/plain": [
              "True"
            ]
          },
          "metadata": {},
          "execution_count": 8
        }
      ]
    },
    {
      "cell_type": "code",
      "source": [
        "nums = [1,2,3,4]\n",
        "\n",
        "containsDuplicate1(nums)"
      ],
      "metadata": {
        "colab": {
          "base_uri": "https://localhost:8080/"
        },
        "outputId": "69c377f1-3ea5-4b6c-f44e-d7d81137fb48",
        "id": "9cvZ3WpHM6m0"
      },
      "execution_count": 9,
      "outputs": [
        {
          "output_type": "stream",
          "name": "stdout",
          "text": [
            "nums : [1, 2, 3, 4]\n",
            "nums.sort() : [1, 2, 3, 4]\n"
          ]
        },
        {
          "output_type": "execute_result",
          "data": {
            "text/plain": [
              "False"
            ]
          },
          "metadata": {},
          "execution_count": 9
        }
      ]
    },
    {
      "cell_type": "code",
      "source": [
        "nums = [1,1,1,3,3,4,3,2,4,2]\n",
        "\n",
        "containsDuplicate1(nums)"
      ],
      "metadata": {
        "colab": {
          "base_uri": "https://localhost:8080/"
        },
        "outputId": "f03a1c22-e32e-4545-8522-c20d4bece065",
        "id": "BB7NglP1M6m1"
      },
      "execution_count": 10,
      "outputs": [
        {
          "output_type": "stream",
          "name": "stdout",
          "text": [
            "nums : [1, 1, 1, 3, 3, 4, 3, 2, 4, 2]\n",
            "nums.sort() : [1, 1, 1, 2, 2, 3, 3, 3, 4, 4]\n",
            "nums[0]:1 == nums[1]:1\n"
          ]
        },
        {
          "output_type": "execute_result",
          "data": {
            "text/plain": [
              "True"
            ]
          },
          "metadata": {},
          "execution_count": 10
        }
      ]
    }
  ]
}