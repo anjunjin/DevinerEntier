{
  "nbformat": 4,
  "nbformat_minor": 0,
  "metadata": {
    "colab": {
      "provenance": [],
      "authorship_tag": "ABX9TyOsl4LLk4W4ic3Z8ocm8WLe",
      "include_colab_link": true
    },
    "kernelspec": {
      "name": "python3",
      "display_name": "Python 3"
    },
    "language_info": {
      "name": "python"
    }
  },
  "cells": [
    {
      "cell_type": "markdown",
      "metadata": {
        "id": "view-in-github",
        "colab_type": "text"
      },
      "source": [
        "<a href=\"https://colab.research.google.com/github/anjunjin/DevinerEntier/blob/master/leetcode34_204_%E8%AE%A1%E6%95%B0%E8%B4%A8%E6%95%B0.ipynb\" target=\"_parent\"><img src=\"https://colab.research.google.com/assets/colab-badge.svg\" alt=\"Open In Colab\"/></a>"
      ]
    },
    {
      "cell_type": "markdown",
      "source": [
        "给定整数 n ，返回 所有小于非负整数 n 的质数的数量 。"
      ],
      "metadata": {
        "id": "w_I-a-076_zB"
      }
    },
    {
      "cell_type": "markdown",
      "source": [
        "质数的定义：在大于 1 的自然数中，除了 1 和它本身以外不再有其他因数的自然数。\n",
        "\n",
        "因此对于每个数 x，我们可以从小到大枚举 [2,x−1] 中的每个数 y，判断 y 是否为 x 的因数。\n",
        "\n",
        "但这样判断一个数是否为质数的时间复杂度最差情况下会到 O(n)，无法通过所有测试数据。\n",
        "\n",
        "[计数质数leetcode](https://leetcode.cn/problems/count-primes/solutions/507273/ji-shu-zhi-shu-by-leetcode-solution/?company_slug=bosch)\n",
        "\n",
        "[优化版埃氏筛详解（附动图+视频）](https://leetcode.cn/problems/count-primes/solutions/36629/pythonzui-you-jie-fa-mei-you-zhi-yi-liao-ba-by-bru/?company_slug=bosch)\n",
        "\n",
        "[求质数(超过90%)](https://leetcode.cn/problems/count-primes/solutions/20977/qiu-zhi-shu-chao-guo-90-by-powcai/?company_slug=bosch)\n"
      ],
      "metadata": {
        "id": "AiCygsCV7uU_"
      }
    },
    {
      "cell_type": "markdown",
      "source": [
        "# 方法二：埃氏筛\n",
        "枚举没有考虑到数与数的关联性，因此难以再继续优化时间复杂度。\n",
        "\n",
        "接下来我们介绍一个常见的算法，该算法由希腊数学家厄拉多塞（Eratosthenes）提出，称为厄拉多塞筛法，简称埃氏筛。\n",
        "\n",
        "我们考虑这样一个事实：如果 x 是质数，那么大于 x 的 x 的倍数 2x,3x,…2x,3x,… 一定不是质数，因此我们可以从这里入手。\n",
        "\n",
        "我们设 isPrime[i] 表示数 i 是不是质数，如果是质数则为 1，否则为 0。\n",
        "\n",
        "从小到大遍历每个数，如果这个数为质数，则将其所有的倍数都标记为合数（除了该质数本身），即 0，这样在运行结束的时候我们即能知道质数的个数。\n",
        "\n",
        "这种方法的正确性是比较显然的：这种方法显然不会将质数标记成合数；\n",
        "\n",
        "另一方面，当从小到大遍历到数 x 时，倘若它是合数，则它一定是某个小于 x 的质数 y 的整数倍，故根据此方法的步骤，我们在遍历到 y 时，就一定会在此时将 x 标记为 isPrime[x]=0。\n",
        "因此，这种方法也不会将合数标记为质数。\n",
        "\n",
        "当然这里还可以继续优化，对于一个质数 x，如果按上文说的我们从 2x 开始标记其实是冗余的，应该直接从 x⋅x 开始标记，因为 2x,3x,… 这些数一定在 x 之前就被其他数的倍数标记过了，例如 2 的所有倍数，3 的所有倍数等。"
      ],
      "metadata": {
        "id": "Ev7K0Eak-ADs"
      }
    },
    {
      "cell_type": "code",
      "source": [
        "import math"
      ],
      "metadata": {
        "id": "9Y_6tDmtGXdw"
      },
      "execution_count": 1,
      "outputs": []
    },
    {
      "cell_type": "code",
      "source": [
        "def print_nums(nums):\n",
        "  # range() 函数，它可以生成一个数列，\n",
        "  # 第一个参数是起始值（包含），第二个参数是终止值（不包含），第三个参数是步长。\n",
        "  #for i in range(0, len(nums), 10):\n",
        "  #for i in range(0, len(nums), int(len(nums) ** 0.5)):\n",
        "  step = int(math.sqrt(len(nums))) + 1\n",
        "  for i in range(0, len(nums), step):\n",
        "    #print(nums[i:i+10])\n",
        "    # 使用了 Python 中的可变参数列表形式，\n",
        "    # 它的作用是将 nums[i:i+10] 列表中的元素作为参数传递给 print 函数。\n",
        "    # 这样做的效果相当于将列表展开，并将展开后的元素作为参数传递给 print 函数，每个元素之间用空格分隔。\n",
        "    # 举个例子，假设 nums[i:i+10] 是一个包含10个数字的列表，比如 [1, 2, 3, 4, 5, 6, 7, 8, 9, 10]，那么 print(*nums[i:i+10]) 的效果就相当于 print(1, 2, 3, 4, 5, 6, 7, 8, 9, 10)。\n",
        "    print(*nums[i : i + step])"
      ],
      "metadata": {
        "id": "ZxL4xQzdBZWs"
      },
      "execution_count": 2,
      "outputs": []
    },
    {
      "cell_type": "code",
      "source": [
        "# Test :\n",
        "nums = [i for i in range(0, 101)]\n",
        "print_nums(nums)"
      ],
      "metadata": {
        "colab": {
          "base_uri": "https://localhost:8080/"
        },
        "id": "jBPtLfKqCWjB",
        "outputId": "5634b34e-4a4b-452c-eaad-62dc24cb7b1a"
      },
      "execution_count": 3,
      "outputs": [
        {
          "output_type": "stream",
          "name": "stdout",
          "text": [
            "0 1 2 3 4 5 6 7 8 9 10\n",
            "11 12 13 14 15 16 17 18 19 20 21\n",
            "22 23 24 25 26 27 28 29 30 31 32\n",
            "33 34 35 36 37 38 39 40 41 42 43\n",
            "44 45 46 47 48 49 50 51 52 53 54\n",
            "55 56 57 58 59 60 61 62 63 64 65\n",
            "66 67 68 69 70 71 72 73 74 75 76\n",
            "77 78 79 80 81 82 83 84 85 86 87\n",
            "88 89 90 91 92 93 94 95 96 97 98\n",
            "99 100\n"
          ]
        }
      ]
    },
    {
      "cell_type": "code",
      "execution_count": 4,
      "metadata": {
        "id": "42ldeJxL65iC"
      },
      "outputs": [],
      "source": [
        "class Solution:\n",
        "  # 计算小于非负整数n的质数数量。它使用了埃拉托斯特尼筛法（Sieve of Eratosthenes），其逻辑如下\n",
        "  def countPrimes(self, n: int) -> int:\n",
        "    # 最小的质数是 2\n",
        "    if n <= 2:\n",
        "      print(f\"n <= 2, 最小的质数是 2\")\n",
        "      return 0\n",
        "\n",
        "    # 创建一个布尔数组 isPrimes，其长度为n，初始时所有数均视为质数，因此初始化为1。\n",
        "    isPrimes = [1] * n\n",
        "    print(\"\\nstep 0 :\")\n",
        "    print(\"isPrimes :\")\n",
        "    print_nums(isPrimes)\n",
        "\n",
        "    # 然后将索引0和1对应的元素设为0，因为0和1不是质数。\n",
        "    isPrimes[0] = isPrimes[1] = 0\n",
        "    print(\"\\nstep 1 :\")\n",
        "    print(\"isPrimes :\")\n",
        "    print_nums(isPrimes)\n",
        "\n",
        "\n",
        "    print(f\"\\nn : {n}, int(n ** 0.5) : {int(n ** 0.5)}, int(n ** 0.5) + 1 : {int(n ** 0.5) + 1}\")\n",
        "    # 从2开始遍历到sqrt(n)，如果当前数字为质数（isPrimes[i] == 1），\n",
        "    # 则将其所有的倍数（除了本身）都标记为非质数（设为0）。\n",
        "    # 这个循环迭代 i 从2 到 sqrt(n)（向上取整），因为任何大于 sqrt(n) 的因子都已经在之前的迭代中考虑过了。\n",
        "\n",
        "    # 比如当n = 100的时候，有以下推论：\n",
        "    # 当i = 3的时候，以下位置设置成了0： 3 * 3 = 9， 3 * 4 = 12，15，18…… 3 * 33 = 99.\n",
        "    # ……\n",
        "    # 当i = 9的时候，设置下标为0：9 * 9 = 81, 9 * 10 = 90,  9 * 11 = 99.\n",
        "    # 而当i = 10的时候，设置下标为0：10 * 10 = 100\n",
        "    # 而当i = 11的时候，设置下标为0：由于11 * 11 > 100 故最大只能设置到 11 * 9 = 99 为0，\n",
        "    # 但是可以发现，当i = 9的时候，已将9 * 11 = 99设置过0了 ，因此无需遍历i = 11时的情况\n",
        "    # 故当n = 100时，上限为10\n",
        "    for i in range(2, int(n ** 0.5) + 1):\n",
        "      # 检查当前的数字 i 是否为质数。如果是，就将其所有的倍数标记为非质数。\n",
        "      if isPrimes[i] == 1:\n",
        "\n",
        "        # isPrimes[i * i: n: i]：这部分是切片操作，\n",
        "        # 它从索引 i * i 开始，到索引 n 结束，步长为 i。\n",
        "        # 因此，它选择了从 i * i 开始，每隔 i 个位置的元素，相当于找到了以 i 为起始的所有倍数的位置。\n",
        "        # [0] * len(isPrimes[i * i: n: i])：生成一个长度为 isPrimes[i * i: n: i] 的切片长度的列表，\n",
        "        # 其值全部为0。它将会用来替换上一步选择到的切片的值。\n",
        "        # 所以，整体的作用是将以 i 为起始的所有倍数的位置，都设为0，表示它们不是质数。\n",
        "        # 这个操作是算法的关键步骤，因为它直接将非质数的位置标记出来，从而在后续的统计过程中，可以直接跳过这些位置，提高了效率。\n",
        "        # 比如我现在i = 5， 那么我为什么要从 5 * 5 开始切片呢，是因为 5 * 4这个位置已经被设置成0了，为什么呢？\n",
        "        # 是因为我前一轮i = 4的时候，我的切片为：4 * 4， 4 * 5， 4 * 6，……\n",
        "        # 所以，看到了吗， 5 * 4在前一轮的时候已经被设置成0了，其他情况同理。\n",
        "        isPrimes[i*i : n : i] = [0] * len(isPrimes[i*i : n :i])\n",
        "        print(f\"\\nstep {i} :\")\n",
        "        print(f\"isPrimes[{i}*{i} : {n} : {i}] = [0] * len(isPrimes[{i*i} : {n} :{i}])\")\n",
        "        print(f\"len(isPrimes[{i*i} : {n} : {i}]) : {len(isPrimes[i*i : n :i])}\")\n",
        "        print(\"isPrimes :\")\n",
        "        print_nums(isPrimes)\n",
        "\n",
        "    # 最后统计布尔数组中值为1的个数，即为质数的数量。\n",
        "    # sum(isPrimes) 是Python中的一个内置函数，它用于计算列表中所有元素的总和。\n",
        "    # 在这里，isPrimes 列表中的每个元素都代表一个数字是否是质数，1表示是质数，0表示不是质数。\n",
        "    # 因此，sum(isPrimes) 的结果就是 isPrimes 中所有值为1的元素的数量，也就是小于 n 的质数的个数。\n",
        "    return sum(isPrimes)"
      ]
    },
    {
      "cell_type": "markdown",
      "source": [
        "# Test"
      ],
      "metadata": {
        "id": "aEPjZE627Bj3"
      }
    },
    {
      "cell_type": "code",
      "source": [
        "#小于 10 的质数一共有 4 个, 它们是 2, 3, 5, 7 。\n",
        "n = 10\n",
        "nums = [i for i in range(0, n)]\n",
        "print_nums(nums)\n",
        "\n",
        "solution = Solution()\n",
        "result = solution.countPrimes(n)\n",
        "\n",
        "print(f\"NB prime : {result}\")"
      ],
      "metadata": {
        "colab": {
          "base_uri": "https://localhost:8080/"
        },
        "id": "iYFwV7aA7C6W",
        "outputId": "5be93152-b04d-4b1a-9efe-2c23b102e841"
      },
      "execution_count": 5,
      "outputs": [
        {
          "output_type": "stream",
          "name": "stdout",
          "text": [
            "0 1 2 3\n",
            "4 5 6 7\n",
            "8 9\n",
            "\n",
            "step 0 :\n",
            "isPrimes :\n",
            "1 1 1 1\n",
            "1 1 1 1\n",
            "1 1\n",
            "\n",
            "step 1 :\n",
            "isPrimes :\n",
            "0 0 1 1\n",
            "1 1 1 1\n",
            "1 1\n",
            "\n",
            "n : 10, int(n ** 0.5) : 3, int(n ** 0.5) + 1 : 4\n",
            "\n",
            "step 2 :\n",
            "isPrimes[2*2 : 10 : 2] = [0] * len(isPrimes[4 : 10 :2])\n",
            "len(isPrimes[4 : 10 : 2]) : 3\n",
            "isPrimes :\n",
            "0 0 1 1\n",
            "0 1 0 1\n",
            "0 1\n",
            "\n",
            "step 3 :\n",
            "isPrimes[3*3 : 10 : 3] = [0] * len(isPrimes[9 : 10 :3])\n",
            "len(isPrimes[9 : 10 : 3]) : 1\n",
            "isPrimes :\n",
            "0 0 1 1\n",
            "0 1 0 1\n",
            "0 0\n",
            "NB prime : 4\n"
          ]
        }
      ]
    },
    {
      "cell_type": "code",
      "source": [
        "n = 0\n",
        "\n",
        "nums = [i for i in range(0, n)]\n",
        "print_nums(nums)\n",
        "\n",
        "solution = Solution()\n",
        "result = solution.countPrimes(n)\n",
        "\n",
        "print(f\"NB prime : {result}\")"
      ],
      "metadata": {
        "colab": {
          "base_uri": "https://localhost:8080/"
        },
        "id": "flmfKw4d7EFU",
        "outputId": "3dc274bd-04b6-4cbd-cb73-bcb20cb54d93"
      },
      "execution_count": 6,
      "outputs": [
        {
          "output_type": "stream",
          "name": "stdout",
          "text": [
            "n <= 2, 最小的质数是 2\n",
            "NB prime : 0\n"
          ]
        }
      ]
    },
    {
      "cell_type": "code",
      "source": [
        "n = 1\n",
        "\n",
        "nums = [i for i in range(0, n)]\n",
        "print_nums(nums)\n",
        "\n",
        "solution = Solution()\n",
        "result = solution.countPrimes(n)\n",
        "\n",
        "print(f\"NB prime : {result}\")"
      ],
      "metadata": {
        "colab": {
          "base_uri": "https://localhost:8080/"
        },
        "id": "IN2jm80f7FDY",
        "outputId": "24d0776f-7214-4235-e5cc-32cf2e8a8763"
      },
      "execution_count": 7,
      "outputs": [
        {
          "output_type": "stream",
          "name": "stdout",
          "text": [
            "0\n",
            "n <= 2, 最小的质数是 2\n",
            "NB prime : 0\n"
          ]
        }
      ]
    },
    {
      "cell_type": "code",
      "source": [
        "n = 101\n",
        "\n",
        "nums = [i for i in range(0, n)]\n",
        "print_nums(nums)\n",
        "\n",
        "solution = Solution()\n",
        "result = solution.countPrimes(n)\n",
        "\n",
        "print(f\"NB prime : {result}\")"
      ],
      "metadata": {
        "colab": {
          "base_uri": "https://localhost:8080/"
        },
        "id": "xDdrWtrXMu35",
        "outputId": "9310ee70-2813-4fee-9b0d-7300f81a7dac"
      },
      "execution_count": 8,
      "outputs": [
        {
          "output_type": "stream",
          "name": "stdout",
          "text": [
            "0 1 2 3 4 5 6 7 8 9 10\n",
            "11 12 13 14 15 16 17 18 19 20 21\n",
            "22 23 24 25 26 27 28 29 30 31 32\n",
            "33 34 35 36 37 38 39 40 41 42 43\n",
            "44 45 46 47 48 49 50 51 52 53 54\n",
            "55 56 57 58 59 60 61 62 63 64 65\n",
            "66 67 68 69 70 71 72 73 74 75 76\n",
            "77 78 79 80 81 82 83 84 85 86 87\n",
            "88 89 90 91 92 93 94 95 96 97 98\n",
            "99 100\n",
            "\n",
            "step 0 :\n",
            "isPrimes :\n",
            "1 1 1 1 1 1 1 1 1 1 1\n",
            "1 1 1 1 1 1 1 1 1 1 1\n",
            "1 1 1 1 1 1 1 1 1 1 1\n",
            "1 1 1 1 1 1 1 1 1 1 1\n",
            "1 1 1 1 1 1 1 1 1 1 1\n",
            "1 1 1 1 1 1 1 1 1 1 1\n",
            "1 1 1 1 1 1 1 1 1 1 1\n",
            "1 1 1 1 1 1 1 1 1 1 1\n",
            "1 1 1 1 1 1 1 1 1 1 1\n",
            "1 1\n",
            "\n",
            "step 1 :\n",
            "isPrimes :\n",
            "0 0 1 1 1 1 1 1 1 1 1\n",
            "1 1 1 1 1 1 1 1 1 1 1\n",
            "1 1 1 1 1 1 1 1 1 1 1\n",
            "1 1 1 1 1 1 1 1 1 1 1\n",
            "1 1 1 1 1 1 1 1 1 1 1\n",
            "1 1 1 1 1 1 1 1 1 1 1\n",
            "1 1 1 1 1 1 1 1 1 1 1\n",
            "1 1 1 1 1 1 1 1 1 1 1\n",
            "1 1 1 1 1 1 1 1 1 1 1\n",
            "1 1\n",
            "\n",
            "n : 101, int(n ** 0.5) : 10, int(n ** 0.5) + 1 : 11\n",
            "\n",
            "step 2 :\n",
            "isPrimes[2*2 : 101 : 2] = [0] * len(isPrimes[4 : 101 :2])\n",
            "len(isPrimes[4 : 101 : 2]) : 49\n",
            "isPrimes :\n",
            "0 0 1 1 0 1 0 1 0 1 0\n",
            "1 0 1 0 1 0 1 0 1 0 1\n",
            "0 1 0 1 0 1 0 1 0 1 0\n",
            "1 0 1 0 1 0 1 0 1 0 1\n",
            "0 1 0 1 0 1 0 1 0 1 0\n",
            "1 0 1 0 1 0 1 0 1 0 1\n",
            "0 1 0 1 0 1 0 1 0 1 0\n",
            "1 0 1 0 1 0 1 0 1 0 1\n",
            "0 1 0 1 0 1 0 1 0 1 0\n",
            "1 0\n",
            "\n",
            "step 3 :\n",
            "isPrimes[3*3 : 101 : 3] = [0] * len(isPrimes[9 : 101 :3])\n",
            "len(isPrimes[9 : 101 : 3]) : 31\n",
            "isPrimes :\n",
            "0 0 1 1 0 1 0 1 0 0 0\n",
            "1 0 1 0 0 0 1 0 1 0 0\n",
            "0 1 0 1 0 0 0 1 0 1 0\n",
            "0 0 1 0 1 0 0 0 1 0 1\n",
            "0 0 0 1 0 1 0 0 0 1 0\n",
            "1 0 0 0 1 0 1 0 0 0 1\n",
            "0 1 0 0 0 1 0 1 0 0 0\n",
            "1 0 1 0 0 0 1 0 1 0 0\n",
            "0 1 0 1 0 0 0 1 0 1 0\n",
            "0 0\n",
            "\n",
            "step 5 :\n",
            "isPrimes[5*5 : 101 : 5] = [0] * len(isPrimes[25 : 101 :5])\n",
            "len(isPrimes[25 : 101 : 5]) : 16\n",
            "isPrimes :\n",
            "0 0 1 1 0 1 0 1 0 0 0\n",
            "1 0 1 0 0 0 1 0 1 0 0\n",
            "0 1 0 0 0 0 0 1 0 1 0\n",
            "0 0 0 0 1 0 0 0 1 0 1\n",
            "0 0 0 1 0 1 0 0 0 1 0\n",
            "0 0 0 0 1 0 1 0 0 0 0\n",
            "0 1 0 0 0 1 0 1 0 0 0\n",
            "1 0 1 0 0 0 1 0 0 0 0\n",
            "0 1 0 1 0 0 0 0 0 1 0\n",
            "0 0\n",
            "\n",
            "step 7 :\n",
            "isPrimes[7*7 : 101 : 7] = [0] * len(isPrimes[49 : 101 :7])\n",
            "len(isPrimes[49 : 101 : 7]) : 8\n",
            "isPrimes :\n",
            "0 0 1 1 0 1 0 1 0 0 0\n",
            "1 0 1 0 0 0 1 0 1 0 0\n",
            "0 1 0 0 0 0 0 1 0 1 0\n",
            "0 0 0 0 1 0 0 0 1 0 1\n",
            "0 0 0 1 0 0 0 0 0 1 0\n",
            "0 0 0 0 1 0 1 0 0 0 0\n",
            "0 1 0 0 0 1 0 1 0 0 0\n",
            "0 0 1 0 0 0 1 0 0 0 0\n",
            "0 1 0 0 0 0 0 0 0 1 0\n",
            "0 0\n",
            "NB prime : 25\n"
          ]
        }
      ]
    }
  ]
}