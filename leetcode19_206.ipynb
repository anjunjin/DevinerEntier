{
  "nbformat": 4,
  "nbformat_minor": 0,
  "metadata": {
    "colab": {
      "provenance": [],
      "authorship_tag": "ABX9TyO6a76HodiUx2bhiIsNy4pZ",
      "include_colab_link": true
    },
    "kernelspec": {
      "name": "python3",
      "display_name": "Python 3"
    },
    "language_info": {
      "name": "python"
    }
  },
  "cells": [
    {
      "cell_type": "markdown",
      "metadata": {
        "id": "view-in-github",
        "colab_type": "text"
      },
      "source": [
        "<a href=\"https://colab.research.google.com/github/anjunjin/DevinerEntier/blob/master/leetcode19_206.ipynb\" target=\"_parent\"><img src=\"https://colab.research.google.com/assets/colab-badge.svg\" alt=\"Open In Colab\"/></a>"
      ]
    },
    {
      "cell_type": "markdown",
      "source": [
        "# 反转链表\n",
        "\n",
        "给你单链表的头节点 head ，请你反转链表，并返回反转后的链表。\n",
        "\n",
        "[反转链表 leetcode](https://leetcode.cn/problems/reverse-linked-list/solutions/551596/fan-zhuan-lian-biao-by-leetcode-solution-d1k2/)"
      ],
      "metadata": {
        "id": "9jQjEc1hZ0y1"
      }
    },
    {
      "cell_type": "code",
      "execution_count": 96,
      "metadata": {
        "id": "GivdgSiFZsl0"
      },
      "outputs": [],
      "source": [
        "class ListNode:\n",
        "  def __init__(self, val=0, next=None):\n",
        "    self.val = val\n",
        "    self.next = next"
      ]
    },
    {
      "cell_type": "code",
      "source": [
        "# 印单链表的节点值, 函数接受一个参数 head，表示单链表的头节点。\n",
        "# 函数遍历链表，从头节点开始，依次输出每个节点的值，以箭头 -> 连接。最后，输出 None 表示链表结束。\n",
        "def print_linked_list(head: ListNode) -> None:\n",
        "  # 将 current 指针指向链表的头节点，以便从头开始遍历链表。\n",
        "  current = head\n",
        "\n",
        "  # 当 current 指针不为空时，执行循环\n",
        "  while current:\n",
        "\n",
        "    # 打印当前节点的值，并且指定 end=\" -> \"，意味着在打印完节点值后不换行，而是输出箭头字符串。\n",
        "    # end=\" -> \" 是 print() 函数的一个参数，用于指定在打印完当前内容后应该输出的内容。\n",
        "    # 默认情况下，print() 函数在打印完内容后会自动换行，这是因为 end 参数默认为 \"\\n\"，即换行符。\n",
        "    # 通过设置 end=\" -> \"，我们告诉 print() 函数在打印完每个节点值后不要换行，而是输出一个箭头字符串 \" -> \"\n",
        "    print(f\"{current.val}\", end=\" -> \")\n",
        "\n",
        "    # 将 current 指针移动到下一个节点，以继续遍历链表。\n",
        "    current = current.next\n",
        "\n",
        "  # 当遍历完整个链表后，打印 \"None\"，表示链表结束\n",
        "  print(\"None\")"
      ],
      "metadata": {
        "id": "d_v021ZZg3vY"
      },
      "execution_count": 97,
      "outputs": []
    },
    {
      "cell_type": "markdown",
      "source": [
        "# 方法一：迭代（双指针）\n",
        "\n",
        "考虑遍历链表，并在访问各节点时修改 next 引用指向，算法流程见注释。\n",
        "\n",
        "暂存后继节点 cur.next\n",
        "\n",
        "修改 next 引用指向\n",
        "\n",
        "pre 暂存 cur\n",
        "\n",
        "cur 访问下一节点\n",
        "\n",
        "[反转链表](https://leetcode.cn/problems/reverse-linked-list/solutions/2361282/206-fan-zhuan-lian-biao-shuang-zhi-zhen-r1jel/)\n",
        "\n",
        "\n",
        "复杂度分析：\n",
        "\n",
        "时间复杂度 O(N) ： 遍历链表使用线性大小时间。 n 是链表的长度\n",
        "\n",
        "空间复杂度 O(1) ： 变量 pre 和 cur 使用常数大小额外空间。\n"
      ],
      "metadata": {
        "id": "Iz6nEH8NbhcQ"
      }
    },
    {
      "cell_type": "code",
      "source": [
        "def reverseList(head: ListNode) -> ListNode:\n",
        "  # 初始化两个指针 current 和 previous\n",
        "  # current 指向当前节点\n",
        "  # 开始时，current 指向链表的头节点 head\n",
        "  current = head\n",
        "\n",
        "  # pre 指向当前节点的前一个节点,而 pre 初始化为 None，因为链表的头节点没有前一个节点。\n",
        "  previous = None\n",
        "  #current, previous = head, None\n",
        "\n",
        "  # 进入循环，遍历链表的每个节点，直到 current 为空（即遍历完整个链表）\n",
        "  while current:\n",
        "    # 将 current 的下一个节点保存到临时变量 next 中，以便在修改 current.next 之后能够找到下一个节点\n",
        "    next = current.next # 暂存后继节点 cur.next\n",
        "\n",
        "    # 将 current 的下一个节点指向 previous，实现了指针的反转\n",
        "    current.next = previous # 修改 next 引用指向\n",
        "\n",
        "    # 将 previous 指针向后移动到 current 的位置。\n",
        "    previous = current # pre 暂存 cur\n",
        "\n",
        "    # 将 current 指针向后移动到 next 的位置，即下一个节点。\n",
        "    current = next # cur 访问下一节点\n",
        "\n",
        "    # 利用 Python 语言的平行赋值语法，可以进一步简化代码（但可读性下降）\n",
        "    #current.next, previous, current = previous, current, current.next\n",
        "\n",
        "\n",
        "  # 当循环结束时，说明链表已经完全反转\n",
        "  # previous 指针指向原链表的最后一个节点，即反转后的链表的头节点\n",
        "  # 因此，返回 previous 即可得到反转后的链表头。\n",
        "  return previous"
      ],
      "metadata": {
        "id": "BIFo1dI0cbLr"
      },
      "execution_count": 98,
      "outputs": []
    },
    {
      "cell_type": "markdown",
      "source": [
        "# Test 1"
      ],
      "metadata": {
        "id": "jIMU35LZhpEo"
      }
    },
    {
      "cell_type": "code",
      "source": [
        "head = ListNode(1)\n",
        "head.next = ListNode(2)\n",
        "head.next.next = ListNode(3)\n",
        "head.next.next.next = ListNode(4)\n",
        "head.next.next.next.next = ListNode(5)\n",
        "\n",
        "print_linked_list(head)\n",
        "\n",
        "reverse = reverseList(head)\n",
        "\n",
        "print_linked_list(reverse)"
      ],
      "metadata": {
        "colab": {
          "base_uri": "https://localhost:8080/"
        },
        "id": "k8hBHkOlhq3_",
        "outputId": "301c89e8-7569-4b23-e3d0-6351f46be598"
      },
      "execution_count": 99,
      "outputs": [
        {
          "output_type": "stream",
          "name": "stdout",
          "text": [
            "1 -> 2 -> 3 -> 4 -> 5 -> None\n",
            "5 -> 4 -> 3 -> 2 -> 1 -> None\n"
          ]
        }
      ]
    },
    {
      "cell_type": "code",
      "source": [
        "head = ListNode(1)\n",
        "head.next = ListNode(2)\n",
        "\n",
        "print_linked_list(head)\n",
        "\n",
        "reverse = reverseList(head)\n",
        "\n",
        "print_linked_list(reverse)"
      ],
      "metadata": {
        "colab": {
          "base_uri": "https://localhost:8080/"
        },
        "id": "KjqDP_3shtCx",
        "outputId": "9a1ce502-0036-45b2-e188-d905d2ecaa13"
      },
      "execution_count": 100,
      "outputs": [
        {
          "output_type": "stream",
          "name": "stdout",
          "text": [
            "1 -> 2 -> None\n",
            "2 -> 1 -> None\n"
          ]
        }
      ]
    },
    {
      "cell_type": "code",
      "source": [
        "head = ListNode(None)\n",
        "\n",
        "print_linked_list(head)\n",
        "\n",
        "reverse = reverseList(head)\n",
        "\n",
        "print_linked_list(reverse)"
      ],
      "metadata": {
        "colab": {
          "base_uri": "https://localhost:8080/"
        },
        "id": "vJoB1k_GkodU",
        "outputId": "b7aec73a-2d12-4cb5-f090-70ba61703e59"
      },
      "execution_count": 101,
      "outputs": [
        {
          "output_type": "stream",
          "name": "stdout",
          "text": [
            "None -> None\n",
            "None -> None\n"
          ]
        }
      ]
    },
    {
      "cell_type": "markdown",
      "source": [
        "# 方法二：递归\n",
        "\n",
        "\n",
        "[递归视频!!!!!!!!!](https://leetcode.cn/problems/reverse-linked-list/solutions/2136119/jian-dan-yi-dong-javac-pythonjsgo-dong-h-8hvk/)\n",
        "\n",
        "\n",
        "[方法二：递归](https://leetcode.cn/problems/reverse-linked-list/solutions/2361282/206-fan-zhuan-lian-biao-shuang-zhi-zhen-r1jel/)\n",
        "\n",
        "考虑使用递归法遍历链表，当越过尾节点后终止递归，在回溯时修改各节点的 next 引用指向。\n",
        "\n",
        "recur(cur, pre) 递归函数：\n",
        "\n",
        "终止条件：当 cur 为空，则返回尾节点 pre （即反转链表的头节点）；\n",
        "\n",
        "递归后继节点，记录返回值（即反转链表的头节点）为 res ；\n",
        "\n",
        "修改当前节点 cur 引用指向前驱节点 pre ；\n",
        "\n",
        "返回反转链表的头节点 res ；\n",
        "\n",
        "reverseList(head) 函数：\n",
        "\n",
        "调用并返回 recur(head, null) 。\n",
        "\n",
        "传入 null 是因为反转链表后， head 节点指向 null ；\n",
        "\n",
        "复杂度分析：\n",
        "\n",
        "时间复杂度 O(N) ： 遍历链表使用线性大小时间。\n",
        "\n",
        "空间复杂度 O(N) ： 遍历链表的递归深度达到 N，系统使用 O(N)大小额外空间。"
      ],
      "metadata": {
        "id": "qdmpct7LkzvN"
      }
    },
    {
      "cell_type": "code",
      "source": [
        "# 反转单链表。它接受一个指向链表头节点的参数 head，返回反转后的链表头节点\n",
        "def reverseList1(head: ListNode) -> ListNode:\n",
        "  # 内部递归函数，用于实现链表的逆序操作。\n",
        "  # 它接受两个参数：current 表示当前节点，previous 表示当前节点的前一个节点。\n",
        "  # 函数将返回反转后的链表(子链表)头节点。\n",
        "  def recursive(current, previous) -> ListNode:\n",
        "\n",
        "    # print part :\n",
        "    if current and previous:\n",
        "      print(f\"recursive(current : ListNode({current.val}), previous : ListNode({previous.val})\")\n",
        "    # ????????\n",
        "    elif not current :\n",
        "      print(f\"recursive(current : ListNode(None), previous : ListNode({previous.val})\")\n",
        "\n",
        "    elif not previous:\n",
        "      print(f\"recursive(current : ListNode({current.val}), previous : ListNode(None)\")\n",
        "    # print list\n",
        "    print_linked_list(current)\n",
        "\n",
        "\n",
        "    # 递归的终止条件。\n",
        "    # 如果当前节点 current 为空，则返回前一个节点(反转链表的头节点) previous，表示已经到达链表末尾，递归结束。\n",
        "    if not current: return previous\n",
        "\n",
        "    # 递归调用 recursive 函数，传入当前节点的下一个节点 current.next 和当前节点 current 作为参数。\n",
        "    # 从链表尾部向头部遍历，并在递归返回的过程中进行链表反转操作。\n",
        "    res = recursive(current.next, current)\n",
        "    #\n",
        "    print(f\"res = {res.val}\")\n",
        "\n",
        "    # 在递归返回之后，将当前节点的下一个节点指向前一个节点 previous，实现了链表的反转操作。\n",
        "    current.next = previous\n",
        "\n",
        "    # 返回递归调用的结果，即反转后的链表(子链表)头节点\n",
        "    return res\n",
        "\n",
        "  # def recursive(current, previous) -> ListNode:\n",
        "  # 调用递归函数，并返回结果。初始时，前一个节点为 None，表示链表的尾部。\n",
        "  # 返回的结果即为反转后的链表头节点。\n",
        "  return recursive(head, None)\n"
      ],
      "metadata": {
        "id": "44-kkF57kzgb"
      },
      "execution_count": 102,
      "outputs": []
    },
    {
      "cell_type": "markdown",
      "source": [
        "# Test 2"
      ],
      "metadata": {
        "id": "cBfUcgJ1r06v"
      }
    },
    {
      "cell_type": "code",
      "source": [
        "head = ListNode(1)\n",
        "head.next = ListNode(2)\n",
        "head.next.next = ListNode(3)\n",
        "head.next.next.next = ListNode(4)\n",
        "head.next.next.next.next = ListNode(5)\n",
        "\n",
        "print_linked_list(head)\n",
        "print(\"\")\n",
        "\n",
        "reverse = reverseList1(head)\n",
        "\n",
        "print(\"\")\n",
        "print_linked_list(reverse)"
      ],
      "metadata": {
        "colab": {
          "base_uri": "https://localhost:8080/"
        },
        "outputId": "0aa84b2d-bfe7-4be0-90ff-b85af8290eda",
        "id": "M6I7gqMZr069"
      },
      "execution_count": 103,
      "outputs": [
        {
          "output_type": "stream",
          "name": "stdout",
          "text": [
            "1 -> 2 -> 3 -> 4 -> 5 -> None\n",
            "\n",
            "recursive(current : ListNode(1), previous : ListNode(None)\n",
            "1 -> 2 -> 3 -> 4 -> 5 -> None\n",
            "recursive(current : ListNode(2), previous : ListNode(1)\n",
            "2 -> 3 -> 4 -> 5 -> None\n",
            "recursive(current : ListNode(3), previous : ListNode(2)\n",
            "3 -> 4 -> 5 -> None\n",
            "recursive(current : ListNode(4), previous : ListNode(3)\n",
            "4 -> 5 -> None\n",
            "recursive(current : ListNode(5), previous : ListNode(4)\n",
            "5 -> None\n",
            "recursive(current : ListNode(None), previous : ListNode(5)\n",
            "None\n",
            "res = 5\n",
            "res = 5\n",
            "res = 5\n",
            "res = 5\n",
            "res = 5\n",
            "\n",
            "5 -> 4 -> 3 -> 2 -> 1 -> None\n"
          ]
        }
      ]
    },
    {
      "cell_type": "code",
      "source": [
        "head = ListNode(1)\n",
        "head.next = ListNode(2)\n",
        "\n",
        "print_linked_list(head)\n",
        "print(\"\")\n",
        "\n",
        "reverse = reverseList1(head)\n",
        "\n",
        "print(\"\")\n",
        "print_linked_list(reverse)"
      ],
      "metadata": {
        "colab": {
          "base_uri": "https://localhost:8080/"
        },
        "outputId": "2499c0e0-e19b-40ce-cdfd-cd02ef26c01e",
        "id": "EZOslqaNr06-"
      },
      "execution_count": 104,
      "outputs": [
        {
          "output_type": "stream",
          "name": "stdout",
          "text": [
            "1 -> 2 -> None\n",
            "\n",
            "recursive(current : ListNode(1), previous : ListNode(None)\n",
            "1 -> 2 -> None\n",
            "recursive(current : ListNode(2), previous : ListNode(1)\n",
            "2 -> None\n",
            "recursive(current : ListNode(None), previous : ListNode(2)\n",
            "None\n",
            "res = 2\n",
            "res = 2\n",
            "\n",
            "2 -> 1 -> None\n"
          ]
        }
      ]
    },
    {
      "cell_type": "code",
      "source": [
        "head = ListNode(None)\n",
        "\n",
        "print_linked_list(head)\n",
        "print(\"\")\n",
        "\n",
        "reverse = reverseList1(head)\n",
        "\n",
        "print(\"\")\n",
        "print_linked_list(reverse)"
      ],
      "metadata": {
        "colab": {
          "base_uri": "https://localhost:8080/"
        },
        "outputId": "2c5d8a6e-dd3a-4651-8852-d41d40cb41d0",
        "id": "kcNMjl-hr06-"
      },
      "execution_count": 105,
      "outputs": [
        {
          "output_type": "stream",
          "name": "stdout",
          "text": [
            "None -> None\n",
            "\n",
            "recursive(current : ListNode(None), previous : ListNode(None)\n",
            "None -> None\n",
            "recursive(current : ListNode(None), previous : ListNode(None)\n",
            "None\n",
            "res = None\n",
            "\n",
            "None -> None\n"
          ]
        }
      ]
    }
  ]
}