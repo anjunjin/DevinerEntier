{
  "nbformat": 4,
  "nbformat_minor": 0,
  "metadata": {
    "colab": {
      "provenance": [],
      "authorship_tag": "ABX9TyOvGlH0EVuOvIOt3w+1G1jq",
      "include_colab_link": true
    },
    "kernelspec": {
      "name": "python3",
      "display_name": "Python 3"
    },
    "language_info": {
      "name": "python"
    }
  },
  "cells": [
    {
      "cell_type": "markdown",
      "metadata": {
        "id": "view-in-github",
        "colab_type": "text"
      },
      "source": [
        "<a href=\"https://colab.research.google.com/github/anjunjin/DevinerEntier/blob/master/leetcode15_278.ipynb\" target=\"_parent\"><img src=\"https://colab.research.google.com/assets/colab-badge.svg\" alt=\"Open In Colab\"/></a>"
      ]
    },
    {
      "cell_type": "markdown",
      "source": [
        "你是产品经理，目前正在带领一个团队开发新的产品。\n",
        "\n",
        "不幸的是，你的产品的最新版本没有通过质量检测。\n",
        "\n",
        "由于每个版本都是基于之前的版本开发的，所以错误的版本之后的所有版本都是错的。\n",
        "\n",
        "\n",
        "\n",
        "假设你有 n 个版本 [1, 2, ..., n]，你想找出导致之后所有版本出错的第一个错误的版本。\n",
        "\n",
        "\n",
        "\n",
        "你可以通过调用 bool isBadVersion(version) 接口来判断版本号 version 是否在单元测试中出错。\n",
        "\n",
        "\n",
        "实现一个函数来查找第一个错误的版本。你应该尽量减少对调用 API 的次数。\n"
      ],
      "metadata": {
        "id": "n8QoZ2Gs1EpN"
      }
    },
    {
      "cell_type": "markdown",
      "source": [
        "# 二分查找\n",
        "\n",
        "思路及算法\n",
        "\n",
        "因为题目要求尽量减少调用检查接口的次数，所以不能对每个版本都调用检查接口，而是应该将调用检查接口的次数降到最低。\n",
        "\n",
        "注意到一个性质：当一个版本为正确版本，则该版本之前的所有版本均为正确版本；\n",
        "\n",
        "当一个版本为错误版本，则该版本之后的所有版本均为错误版本。我们可以利用这个性质进行二分查找。\n",
        "\n",
        "具体地，将左右边界分别初始化为 1 和 n，其中 n 是给定的版本数量。\n",
        "\n",
        "设定左右边界之后，每次我们都依据左右边界找到其中间的版本，检查其是否为正确版本。\n",
        "\n",
        "如果该版本为正确版本，那么第一个错误的版本必然位于该版本的右侧，我们缩紧左边界；\n",
        "\n",
        "否则第一个错误的版本必然位于该版本及该版本的左侧，我们缩紧右边界。\n",
        "\n",
        "这样我们每判断一次都可以缩紧一次边界，而每次缩紧时两边界距离将变为原来的一半，因此我们至多只需要缩紧 O(log⁡n) 次。\n",
        "\n"
      ],
      "metadata": {
        "id": "cTJFCfFP48rn"
      }
    },
    {
      "cell_type": "markdown",
      "source": [
        "# 复杂度分析\n",
        "\n",
        "时间复杂度 O(log⁡n) ： 其中 n 为版本数；二分查找使用对数级别时间。\n",
        "\n",
        "空间复杂度 O(1) ： 变量 i , j 使用常数大小空间。\n",
        "\n",
        "\n"
      ],
      "metadata": {
        "id": "BYQFXxgQ_Onr"
      }
    },
    {
      "cell_type": "markdown",
      "source": [
        "[第一个错误的版本 leetcode](https://leetcode.cn/problems/first-bad-version/solutions/824522/di-yi-ge-cuo-wu-de-ban-ben-by-leetcode-s-pf8h/)\n",
        "\n",
        "[第一个错误的版本](https://leetcode.cn/problems/first-bad-version/solutions/1693158/by-jyd-19pr/)"
      ],
      "metadata": {
        "id": "0Zfq7hLk5etQ"
      }
    },
    {
      "cell_type": "code",
      "source": [
        "def isBadVersion(version: int, bad: int) -> bool:\n",
        "  print(f\"isBadVersion(version : {version}) -> {version >= bad}\")\n",
        "  return version >= bad"
      ],
      "metadata": {
        "id": "Y0H1tT348pXs"
      },
      "execution_count": 87,
      "outputs": []
    },
    {
      "cell_type": "code",
      "execution_count": 100,
      "metadata": {
        "id": "HQz02hh_03T-"
      },
      "outputs": [],
      "source": [
        "def firstBadVersion(n: int, bad: int) -> int:\n",
        "  # 初始化左边界为起始位置 1\n",
        "  # 初始化右边界为结束位置 n\n",
        "  left, right = 1, n\n",
        "\n",
        "  # 当搜索范围不为空时执行循环, 循环直至区间左右端点相同\n",
        "\n",
        "  # why <= ???   why < ???\n",
        "  # while left <= right ：这个循环条件意味着在每一轮迭代中，left 的值可以等于 right。\n",
        "  # 也就是说，循环会在 left 和 right 相等的情况下继续执行一次。\n",
        "  # 这种循环条件通常用于需要考虑闭区间的情况，即需要包含 left 和 right 在内的区间。\n",
        "\n",
        "  # while left < right:：这个循环条件表示在每一轮迭代中，left 的值必须小于 right，否则循环会终止。\n",
        "  # 这种循环条件通常用于处理开区间，即不包含 right 在内的区间。\n",
        "  # left 指向首个错误版本，right 指向最后一个正确版本\n",
        "\n",
        "  #while left <= right:\n",
        "  while left < right:\n",
        "    # 计算中间索引，采用这种方式可以避免整数溢出\n",
        "    # + left: 这个部分将一半的长度加到左边界上，以确定中间索引的位置\n",
        "    # 如果将 mid 设置为 (right + left) // 2，在较大的数组中可能会导致整数溢出问题。\n",
        "    # // 是整数除法运算符，它返回的是整数部分的结果，而不包含小数部分。\n",
        "    # 与之相对，/ 是普通的除法运算符，返回浮点数结果\n",
        "    mid = (right - left) // 2 + left\n",
        "    print(f\"mid : {mid} = (right({right}) - left({left})) // 2 + left({left})\")\n",
        "\n",
        "    # 若 mid 是错误版本，则最后一个正确版本一定在闭区间[(左边界)left, mid - 1]\n",
        "    # 若 mid 是错误版本，则   首个错误版本一定在闭区间[(左边界)left, mid]\n",
        "    if isBadVersion(mid, bad):\n",
        "      #print(f\"right : {right} -> {mid - 1}\\nresult : [left({left}), mid({mid})]\\n\")\n",
        "      print(f\"right : {right} -> {mid}\\nresult : [left({left}), mid({mid})]\\n\")\n",
        "      #right = mid - 1\n",
        "      right = mid\n",
        "\n",
        "\n",
        "    # 若 mid 是正确版本，则首个错误版本一定在闭区间 [mid + 1, right(右边界)]\n",
        "    else:\n",
        "      print(f\"left : {left} -> {mid + 1}\\nresult : [mid({mid}) + 1, right({right})]\\n\")\n",
        "      left = mid + 1\n",
        "\n",
        "  # n = 1, no mid, cuz mid in boucle while\n",
        "  if n > 1:\n",
        "    print(f\"left : {left}, right : {right} mid : {mid}\\n\")\n",
        "  # left 指向首个错误版本，right 指向最后一个正确版本\n",
        "  # 此时有 left == right，区间缩为一个点，即为答案\n",
        "  return left"
      ]
    },
    {
      "cell_type": "markdown",
      "source": [
        "# <= <\n",
        "while (left <= right) right = mid - 1   \n",
        "\n",
        "while (left < right)  right = mid\n",
        "\n",
        "\n",
        ""
      ],
      "metadata": {
        "id": "_kOzeeq-FnzW"
      }
    },
    {
      "cell_type": "markdown",
      "source": [
        "# Test 1"
      ],
      "metadata": {
        "id": "DmrkmuTE42Ij"
      }
    },
    {
      "cell_type": "code",
      "source": [
        "n = 5\n",
        "bad = 4"
      ],
      "metadata": {
        "id": "DCc-LxKJ44AX"
      },
      "execution_count": 101,
      "outputs": []
    },
    {
      "cell_type": "code",
      "source": [
        "firstBadVersion(n,bad)"
      ],
      "metadata": {
        "colab": {
          "base_uri": "https://localhost:8080/"
        },
        "id": "N8-rvXw5_kGp",
        "outputId": "b2eb0963-ab2e-4af1-e57e-4043199cd9a6"
      },
      "execution_count": 102,
      "outputs": [
        {
          "output_type": "stream",
          "name": "stdout",
          "text": [
            "mid : 3 = (right(5) - left(1)) // 2 + left(1)\n",
            "isBadVersion(version : 3) -> False\n",
            "left : 1 -> 4\n",
            "result : [mid(3) + 1, right(5)]\n",
            "\n",
            "mid : 4 = (right(5) - left(4)) // 2 + left(4)\n",
            "isBadVersion(version : 4) -> True\n",
            "right : 5 -> 4\n",
            "result : [left(4), mid(4)]\n",
            "\n",
            "left : 4, right : 4 mid : 4\n",
            "\n"
          ]
        },
        {
          "output_type": "execute_result",
          "data": {
            "text/plain": [
              "4"
            ]
          },
          "metadata": {},
          "execution_count": 102
        }
      ]
    },
    {
      "cell_type": "code",
      "source": [
        "isBadVersion(3,4)"
      ],
      "metadata": {
        "colab": {
          "base_uri": "https://localhost:8080/"
        },
        "id": "hixUSJo6Gh3W",
        "outputId": "57dc1199-1096-4bd4-f2c4-8d8f9679f399"
      },
      "execution_count": 103,
      "outputs": [
        {
          "output_type": "stream",
          "name": "stdout",
          "text": [
            "isBadVersion(version : 3) -> False\n"
          ]
        },
        {
          "output_type": "execute_result",
          "data": {
            "text/plain": [
              "False"
            ]
          },
          "metadata": {},
          "execution_count": 103
        }
      ]
    },
    {
      "cell_type": "code",
      "source": [
        "isBadVersion(5,4)"
      ],
      "metadata": {
        "colab": {
          "base_uri": "https://localhost:8080/"
        },
        "id": "R3uOwgWiGmiO",
        "outputId": "9fe90244-dc2c-4d28-b099-4b2217ca87ff"
      },
      "execution_count": 104,
      "outputs": [
        {
          "output_type": "stream",
          "name": "stdout",
          "text": [
            "isBadVersion(version : 5) -> True\n"
          ]
        },
        {
          "output_type": "execute_result",
          "data": {
            "text/plain": [
              "True"
            ]
          },
          "metadata": {},
          "execution_count": 104
        }
      ]
    },
    {
      "cell_type": "code",
      "source": [
        "isBadVersion(4,4)"
      ],
      "metadata": {
        "colab": {
          "base_uri": "https://localhost:8080/"
        },
        "id": "Xf5s_toBGpl8",
        "outputId": "ca12c71f-57ac-4462-f5e0-a50fc0dc1207"
      },
      "execution_count": 105,
      "outputs": [
        {
          "output_type": "stream",
          "name": "stdout",
          "text": [
            "isBadVersion(version : 4) -> True\n"
          ]
        },
        {
          "output_type": "execute_result",
          "data": {
            "text/plain": [
              "True"
            ]
          },
          "metadata": {},
          "execution_count": 105
        }
      ]
    },
    {
      "cell_type": "markdown",
      "source": [
        "# Test 2"
      ],
      "metadata": {
        "id": "tMwpd7FIK_ig"
      }
    },
    {
      "cell_type": "code",
      "source": [
        "n = 1\n",
        "bad = 1"
      ],
      "metadata": {
        "id": "lA3fHUDWKwsQ"
      },
      "execution_count": 106,
      "outputs": []
    },
    {
      "cell_type": "code",
      "source": [
        "firstBadVersion(n,bad)"
      ],
      "metadata": {
        "colab": {
          "base_uri": "https://localhost:8080/"
        },
        "id": "YzGChlgVK17I",
        "outputId": "73d5a69a-68be-49aa-cb46-fab9a3f34214"
      },
      "execution_count": 107,
      "outputs": [
        {
          "output_type": "execute_result",
          "data": {
            "text/plain": [
              "1"
            ]
          },
          "metadata": {},
          "execution_count": 107
        }
      ]
    }
  ]
}