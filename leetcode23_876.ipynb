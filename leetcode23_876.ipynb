{
  "nbformat": 4,
  "nbformat_minor": 0,
  "metadata": {
    "colab": {
      "provenance": [],
      "collapsed_sections": [
        "T6nmcnaoje_z"
      ],
      "authorship_tag": "ABX9TyPh9foCA9XsvodInyiGUPa8",
      "include_colab_link": true
    },
    "kernelspec": {
      "name": "python3",
      "display_name": "Python 3"
    },
    "language_info": {
      "name": "python"
    }
  },
  "cells": [
    {
      "cell_type": "markdown",
      "metadata": {
        "id": "view-in-github",
        "colab_type": "text"
      },
      "source": [
        "<a href=\"https://colab.research.google.com/github/anjunjin/DevinerEntier/blob/master/leetcode23_876.ipynb\" target=\"_parent\"><img src=\"https://colab.research.google.com/assets/colab-badge.svg\" alt=\"Open In Colab\"/></a>"
      ]
    },
    {
      "cell_type": "markdown",
      "source": [
        "# 链表的中间结点\n",
        "\n",
        "给你单链表的头结点 head ，请你找出并返回链表的中间结点。\n",
        "\n",
        "如果有两个中间结点，则返回第二个中间结点。\n",
        "\n"
      ],
      "metadata": {
        "id": "QPwZaq99jNG2"
      }
    },
    {
      "cell_type": "code",
      "execution_count": 1,
      "metadata": {
        "id": "SAEkI2liiWdu"
      },
      "outputs": [],
      "source": [
        "class ListNode:\n",
        "  def __init__(self, val=0, next=None):\n",
        "    self.val = val\n",
        "    self.next = next"
      ]
    },
    {
      "cell_type": "markdown",
      "source": [
        "# 数组\n",
        "思路和算法\n",
        "\n",
        "链表的缺点在于不能通过下标访问对应的元素。\n",
        "\n",
        "因此我们可以考虑对链表进行遍历，同时将遍历到的元素依次放入数组 A 中。\n",
        "\n",
        "如果我们遍历到了 N 个元素，那么链表以及数组的长度也为 N，对应的中间节点即为 A[N/2]。\n",
        "\n",
        "复杂度分析\n",
        "\n",
        "时间复杂度：O(N)，其中 N 是给定链表中的结点数目。\n",
        "\n",
        "空间复杂度：O(N)，即数组 A 用去的空间。\n",
        "\n",
        "\n",
        "[链表的中间结点leetcode](https://leetcode.cn/problems/middle-of-the-linked-list/solutions/164351/lian-biao-de-zhong-jian-jie-dian-by-leetcode-solut/)\n",
        "\n",
        "[快慢指针（注意链表长度为偶数时，返回第 2 个结点的细节）](https://leetcode.cn/problems/middle-of-the-linked-list/solutions/165152/kuai-man-zhi-zhen-zhu-yao-zai-yu-diao-shi-by-liwei/)\n",
        "\n",
        "[链表的中间结点（双指针，清晰图解）](https://leetcode.cn/problems/middle-of-the-linked-list/solutions/1646119/by-jyd-aphd/)\n",
        "\n",
        "\n",
        "\n",
        "\n",
        "复杂度分析\n",
        "\n",
        "时间复杂度：O(N)，其中 N 是给定链表中的结点数目。\n",
        "\n",
        "空间复杂度：O(N)，即数组 A 用去的空间。\n",
        "\n"
      ],
      "metadata": {
        "id": "TiT8SO34jkRb"
      }
    },
    {
      "cell_type": "code",
      "source": [
        "# 印单链表的节点值, 函数接受一个参数 head，表示单链表的头节点。\n",
        "# 函数遍历链表，从头节点开始，依次输出每个节点的值，以箭头 -> 连接。最后，输出 None 表示链表结束。\n",
        "def print_linked_list(head: ListNode) -> None:\n",
        "  # 将 current 指针指向链表的头节点，以便从头开始遍历链表。\n",
        "  current = head\n",
        "\n",
        "  # 当 current 指针不为空时，执行循环\n",
        "  while current:\n",
        "\n",
        "    # 打印当前节点的值，并且指定 end=\" -> \"，意味着在打印完节点值后不换行，而是输出箭头字符串。\n",
        "    # end=\" -> \" 是 print() 函数的一个参数，用于指定在打印完当前内容后应该输出的内容。\n",
        "    # 默认情况下，print() 函数在打印完内容后会自动换行，这是因为 end 参数默认为 \"\\n\"，即换行符。\n",
        "    # 通过设置 end=\" -> \"，我们告诉 print() 函数在打印完每个节点值后不要换行，而是输出一个箭头字符串 \" -> \"\n",
        "    print(f\"{current.val}\", end=\" -> \")\n",
        "\n",
        "    # 将 current 指针移动到下一个节点，以继续遍历链表。\n",
        "    current = current.next\n",
        "\n",
        "  # 当遍历完整个链表后，打印 \"None\"，表示链表结束\n",
        "  print(\"None\")"
      ],
      "metadata": {
        "id": "d_v021ZZg3vY"
      },
      "execution_count": 2,
      "outputs": []
    },
    {
      "cell_type": "code",
      "source": [
        "# 找到链表的中间节点，并返回该节点\n",
        "def middleNode(head: ListNode) -> ListNode:\n",
        "  print_linked_list(head)\n",
        "\n",
        "  # 定义了一个列表 A，并将链表的头节点 head 添加到列表中\n",
        "  A = [head]\n",
        "\n",
        "  # 循环遍历链表，直到遍历到链表的最后一个节点\n",
        "  # A[-1] 表示列表 A 中的最后一个元素\n",
        "  # A[-1].next 则表示链表中最后一个节点的下一个节点\n",
        "  while A[-1].next:\n",
        "    # 在循环中，每次迭代时将当前节点的下一个节点添加到列表 A 中\n",
        "    # 将链表中的每一个节点依次添加到列表 A 中，从而完成链表的遍历\n",
        "    A.append(A[-1].next)\n",
        "\n",
        "  # 返回链表中间位置的节点\n",
        "  # 由于列表是从 0 开始索引的，因此链表的中间节点索引为 len(A) // 2\n",
        "  # 因为链表长度为奇数时，中间节点索引正好是中间位置；而链表长度为偶数时，取两个中间节点的右边那个。\n",
        "  return A[len(A) // 2]"
      ],
      "metadata": {
        "id": "rdcIeZKKRT2O"
      },
      "execution_count": 3,
      "outputs": []
    },
    {
      "cell_type": "markdown",
      "source": [
        "# Test"
      ],
      "metadata": {
        "id": "T6nmcnaoje_z"
      }
    },
    {
      "cell_type": "code",
      "source": [
        "#head = [1,2,3,4,5]\n",
        "head = ListNode(1)\n",
        "head.next = ListNode(2)\n",
        "head.next.next = ListNode(3)\n",
        "head.next.next.next = ListNode(4)\n",
        "head.next.next.next.next = ListNode(5)\n",
        "\n",
        "midNode = middleNode(head)\n",
        "print_linked_list(midNode)\n",
        "print(midNode.val)"
      ],
      "metadata": {
        "colab": {
          "base_uri": "https://localhost:8080/"
        },
        "id": "cQJ-atrBjgjS",
        "outputId": "5bd67d6b-49d0-49e3-bd15-bd1a45423c00"
      },
      "execution_count": 4,
      "outputs": [
        {
          "output_type": "stream",
          "name": "stdout",
          "text": [
            "1 -> 2 -> 3 -> 4 -> 5 -> None\n",
            "3 -> 4 -> 5 -> None\n",
            "3\n"
          ]
        }
      ]
    },
    {
      "cell_type": "code",
      "source": [
        "#head = [1,2,3,4,5,6]\n",
        "head = ListNode(1)\n",
        "head.next = ListNode(2)\n",
        "head.next.next = ListNode(3)\n",
        "head.next.next.next = ListNode(4)\n",
        "head.next.next.next.next = ListNode(5)\n",
        "head.next.next.next.next.next = ListNode(6)\n",
        "\n",
        "midNode = middleNode(head)\n",
        "print_linked_list(midNode)\n",
        "print(midNode.val)"
      ],
      "metadata": {
        "colab": {
          "base_uri": "https://localhost:8080/"
        },
        "id": "fTvZyKlYjiBE",
        "outputId": "22d94ff9-262c-48f2-b042-f3e6fa11c626"
      },
      "execution_count": 5,
      "outputs": [
        {
          "output_type": "stream",
          "name": "stdout",
          "text": [
            "1 -> 2 -> 3 -> 4 -> 5 -> 6 -> None\n",
            "4 -> 5 -> 6 -> None\n",
            "4\n"
          ]
        }
      ]
    },
    {
      "cell_type": "markdown",
      "source": [
        "# 单指针法\n",
        "\n",
        "我们可以对方法一进行空间优化，省去数组 A。\n",
        "\n",
        "我们可以对链表进行两次遍历。\n",
        "\n",
        "第一次遍历时，我们统计链表中的元素个数 N；\n",
        "\n",
        "第二次遍历时，我们遍历到第 N/2 个元素（链表的首节点为第 0 个元素）时，将该元素返回即可。\n",
        "\n",
        "\n",
        "\n",
        "复杂度分析\n",
        "\n",
        "时间复杂度：O(N)，其中 N 是给定链表的结点数目。\n",
        "\n",
        "空间复杂度：O(1)，只需要常数空间存放变量和指针。\n"
      ],
      "metadata": {
        "id": "UcS1rWIsVjn3"
      }
    },
    {
      "cell_type": "code",
      "source": [
        "# 时间复杂度为 O(n)，其中 n 是链表的长度。\n",
        "# 它只需遍历一次链表来获取链表的长度，然后再遍历一次链表到达中间位置。\n",
        "# 因此，总的时间复杂度为 O(n)。\n",
        "\n",
        "#空间复杂度为 O(1)，因为除了几个指针外，没有使用额外的空间。"
      ],
      "metadata": {
        "id": "i1Iy4HP9XtsO"
      },
      "execution_count": 6,
      "outputs": []
    },
    {
      "cell_type": "code",
      "source": [
        "# 找到链表的中间节点，并返回该节点\n",
        "def middleNode1(head: ListNode) -> ListNode:\n",
        "  print_linked_list(head)\n",
        "\n",
        "  # 定义变量 n 初始化为 0，表示链表的长度，以及定义指针 current 指向链表的头节点 head\n",
        "  n, current = 0, head\n",
        "\n",
        "  # while 循环用于计算链表的长度 n\n",
        "  while current:\n",
        "    # 每遍历一个节点，长度 n 就加 1，直到 current 指向 None，表示链表末尾\n",
        "    n += 1\n",
        "    current = current.next\n",
        "\n",
        "  # 定义变量 k 初始化为 0，表示当前遍历的节点的索引，以及定义指针 current 重新指向链表的头节点 head。\n",
        "  k, current = 0, head\n",
        "\n",
        "  # while 循环用于遍历链表直到达到中间位置。\n",
        "  # 循环条件是 k < n // 2，即遍历到中间位置之前\n",
        "  # // 是整数除法运算符，它返回的是整数部分的结果，而不包含小数部分。\n",
        "  # 与之相对，/ 是普通的除法运算符，返回浮点数结果\n",
        "  while k < n // 2:\n",
        "    # 在循环中，每遍历一个节点，索引 k 就加 1，同时移动指针 current 到下一个节点。\n",
        "    k += 1\n",
        "    current = current.next\n",
        "\n",
        "  # 当循环结束时，current 指向了链表的中间节点，因此返回 cur 即可得到链表的中间节点。\n",
        "  return current"
      ],
      "metadata": {
        "id": "9qf17MltV0lT"
      },
      "execution_count": 7,
      "outputs": []
    },
    {
      "cell_type": "markdown",
      "source": [
        "# Test 1"
      ],
      "metadata": {
        "id": "kPXsrZbmW7rc"
      }
    },
    {
      "cell_type": "code",
      "source": [
        "#head = [1,2,3,4,5]\n",
        "head = ListNode(1)\n",
        "head.next = ListNode(2)\n",
        "head.next.next = ListNode(3)\n",
        "head.next.next.next = ListNode(4)\n",
        "head.next.next.next.next = ListNode(5)\n",
        "\n",
        "midNode = middleNode1(head)\n",
        "print_linked_list(midNode)\n",
        "print(midNode.val)"
      ],
      "metadata": {
        "colab": {
          "base_uri": "https://localhost:8080/"
        },
        "outputId": "4d243fda-487c-4abf-f0cd-6b1d9b8a2bfd",
        "id": "qFDZqCDxW7re"
      },
      "execution_count": 8,
      "outputs": [
        {
          "output_type": "stream",
          "name": "stdout",
          "text": [
            "1 -> 2 -> 3 -> 4 -> 5 -> None\n",
            "3 -> 4 -> 5 -> None\n",
            "3\n"
          ]
        }
      ]
    },
    {
      "cell_type": "code",
      "source": [
        "#head = [1,2,3,4,5,6]\n",
        "head = ListNode(1)\n",
        "head.next = ListNode(2)\n",
        "head.next.next = ListNode(3)\n",
        "head.next.next.next = ListNode(4)\n",
        "head.next.next.next.next = ListNode(5)\n",
        "head.next.next.next.next.next = ListNode(6)\n",
        "\n",
        "midNode = middleNode1(head)\n",
        "print_linked_list(midNode)\n",
        "print(midNode.val)"
      ],
      "metadata": {
        "colab": {
          "base_uri": "https://localhost:8080/"
        },
        "outputId": "5b9cf25a-b0e6-4152-a0ac-91dc6b8a14fa",
        "id": "kiufQbkkW7rf"
      },
      "execution_count": 9,
      "outputs": [
        {
          "output_type": "stream",
          "name": "stdout",
          "text": [
            "1 -> 2 -> 3 -> 4 -> 5 -> 6 -> None\n",
            "4 -> 5 -> 6 -> None\n",
            "4\n"
          ]
        }
      ]
    },
    {
      "cell_type": "markdown",
      "source": [
        "# 快慢指针法\n",
        "\n",
        "**快慢指针法是一种常见的技巧，在链表中用于找到中间节点或者判断是否存在环**\n",
        "\n",
        "思路和算法\n",
        "\n",
        "我们可以继续优化方法二，用两个指针 slow 与 fast 一起遍历链表。\n",
        "\n",
        "slow 一次走一步，fast 一次走两步。\n",
        "\n",
        "那么当 fast 到达链表的末尾时，slow 必然位于中间。"
      ],
      "metadata": {
        "id": "RRrH_YYDYb07"
      }
    },
    {
      "cell_type": "code",
      "source": [
        "# 时间复杂度为 O(n)，其中 n 是链表的长度。\n",
        "# 因为 fast 指针每次移动两步，所以遍历链表的时间复杂度可以认为是链表长度的一半。\n",
        "\n",
        "# 空间复杂度为 O(1)，因为除了几个指针外，没有使用额外的空间。"
      ],
      "metadata": {
        "id": "FSSTeT82bIwm"
      },
      "execution_count": 10,
      "outputs": []
    },
    {
      "cell_type": "code",
      "source": [
        "def middleNode2(head: ListNode) -> ListNode:\n",
        "  #\n",
        "  print_linked_list(head)\n",
        "\n",
        "  # 定义了两个指针 slow 和 fast，它们都初始化为链表的头节点 head\n",
        "  slow = fast = head\n",
        "\n",
        "  # 使用 while 循环，同时移动 slow 和 fast 指针，直到 fast 指针达到链表末尾或者指向 None\n",
        "  # 循环条件是 fast and fast.next，即只要 fast 指针和它的下一个节点都不为空，就继续循环。\n",
        "  while fast and fast.next:\n",
        "    # 在循环中，slow 每次移动一步，而 fast 每次移动两步。\n",
        "    # 这样当 fast 指针达到链表末尾时，slow 指针就恰好在链表的中间位置。\n",
        "    slow = slow.next\n",
        "    fast = fast.next.next\n",
        "\n",
        "  # 返回 slow 指针所指向的节点，即链表的中间节点\n",
        "  return slow"
      ],
      "metadata": {
        "id": "NpuHWgfpYlyX"
      },
      "execution_count": 11,
      "outputs": []
    },
    {
      "cell_type": "markdown",
      "source": [
        "# Test 2"
      ],
      "metadata": {
        "id": "Vnvg3RDrbYAh"
      }
    },
    {
      "cell_type": "code",
      "source": [
        "#head = [1,2,3,4,5]\n",
        "head = ListNode(1)\n",
        "head.next = ListNode(2)\n",
        "head.next.next = ListNode(3)\n",
        "head.next.next.next = ListNode(4)\n",
        "head.next.next.next.next = ListNode(5)\n",
        "\n",
        "midNode = middleNode2(head)\n",
        "print_linked_list(midNode)\n",
        "print(midNode.val)"
      ],
      "metadata": {
        "colab": {
          "base_uri": "https://localhost:8080/"
        },
        "outputId": "7076cf41-4ac2-40dd-d6ab-19e5b1dec783",
        "id": "GkfZBA7kbYAi"
      },
      "execution_count": 12,
      "outputs": [
        {
          "output_type": "stream",
          "name": "stdout",
          "text": [
            "1 -> 2 -> 3 -> 4 -> 5 -> None\n",
            "3 -> 4 -> 5 -> None\n",
            "3\n"
          ]
        }
      ]
    },
    {
      "cell_type": "code",
      "source": [
        "#head = [1,2,3,4,5,6]\n",
        "head = ListNode(1)\n",
        "head.next = ListNode(2)\n",
        "head.next.next = ListNode(3)\n",
        "head.next.next.next = ListNode(4)\n",
        "head.next.next.next.next = ListNode(5)\n",
        "head.next.next.next.next.next = ListNode(6)\n",
        "\n",
        "midNode = middleNode2(head)\n",
        "print_linked_list(midNode)\n",
        "print(midNode.val)"
      ],
      "metadata": {
        "colab": {
          "base_uri": "https://localhost:8080/"
        },
        "outputId": "e9906278-ab47-4922-abab-6e616d0d7681",
        "id": "XYwwLAksbYAj"
      },
      "execution_count": 13,
      "outputs": [
        {
          "output_type": "stream",
          "name": "stdout",
          "text": [
            "1 -> 2 -> 3 -> 4 -> 5 -> 6 -> None\n",
            "4 -> 5 -> 6 -> None\n",
            "4\n"
          ]
        }
      ]
    }
  ]
}