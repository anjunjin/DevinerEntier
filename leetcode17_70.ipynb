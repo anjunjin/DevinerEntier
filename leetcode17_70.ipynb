{
  "nbformat": 4,
  "nbformat_minor": 0,
  "metadata": {
    "colab": {
      "provenance": [],
      "collapsed_sections": [
        "q6sCVnNr8Y70",
        "kUzuUreXJJw2",
        "zOpKeOonJxfp"
      ],
      "authorship_tag": "ABX9TyMvRI7wIwnf2Ge4NzK6/fEo",
      "include_colab_link": true
    },
    "kernelspec": {
      "name": "python3",
      "display_name": "Python 3"
    },
    "language_info": {
      "name": "python"
    }
  },
  "cells": [
    {
      "cell_type": "markdown",
      "metadata": {
        "id": "view-in-github",
        "colab_type": "text"
      },
      "source": [
        "<a href=\"https://colab.research.google.com/github/anjunjin/DevinerEntier/blob/master/leetcode17_70.ipynb\" target=\"_parent\"><img src=\"https://colab.research.google.com/assets/colab-badge.svg\" alt=\"Open In Colab\"/></a>"
      ]
    },
    {
      "cell_type": "markdown",
      "source": [
        "# 爬楼梯\n",
        "\n",
        "假设你正在爬楼梯。需要 n 阶你才能到达楼顶。\n",
        "\n",
        "每次你可以爬 1 或 2 个台阶。你有多少种不同的方法可以爬到楼顶呢？\n",
        "\n"
      ],
      "metadata": {
        "id": "C9j7baAhr9sr"
      }
    },
    {
      "cell_type": "markdown",
      "source": [
        "# 动态规划\n",
        "\n",
        "思路和算法\n",
        "\n",
        "我们用 f(x) 表示爬到第 x 级台阶的方案数，考虑最后一步可能跨了一级台阶，也可能跨了两级台阶，所以我们可以列出如下式子：\n",
        "\n",
        "f(x)=f(x−1)+f(x−2)\n",
        "\n",
        "它意味着爬到第 x 级台阶的方案数是爬到第 x−1 级台阶的方案数和爬到第 x−2 级台阶的方案数的和。\n",
        "\n",
        "很好理解，因为每次只能爬 1 级或 2 级，所以 f(x) 只能从 f(x−1) 和 f(x−2) 转移过来，而这里要统计方案总数，我们就需要对这两项的贡献求和。\n",
        "\n",
        "以上是动态规划的转移方程，下面我们来讨论边界条件。\n",
        "\n",
        "我们是从第 0 级开始爬的，所以从第 0 级爬到第 0 级我们可以看作只有一种方案，即 f(0)=1；\n",
        "\n",
        "从第 0 级到第 1 级也只有一种方案，即爬一级，f(1)=1。\n",
        "\n",
        "这两个作为边界条件就可以继续向后推导出第 n 级的正确结果。\n",
        "\n",
        "我们不妨写几项来验证一下，根据转移方程得到\n",
        "\n",
        "f(2)=2， f1 + f0 = 1 + 1 = 2\n",
        "\n",
        "1. 1 阶 + 1 阶\n",
        "\n",
        "2. 2 阶\n",
        "\n",
        "f(3)=3， f2 + f1 = 2 + 1 = 3\n",
        "\n",
        "1. 1 阶 + 1 阶 + 1 阶\n",
        "\n",
        "2. 1 阶 + 2 阶\n",
        "\n",
        "3. 2 阶 + 1 阶\n",
        "\n",
        "f(4)=5，……，  f3 + f2 = 3 + 2 = 5\n",
        "\n",
        "我们把这些情况都枚举出来，发现计算的结果是正确的。\n",
        "\n",
        "我们不难通过转移方程和边界条件给出一个时间复杂度和空间复杂度都是 O(n) 的实现，\n",
        "\n",
        "复杂度分析：\n",
        "\n",
        "时间复杂度 O(n) ： 计算 f(n) 需循环 n 次，每轮循环内计算操作使用 O(1) 。\n",
        "\n",
        "空间复杂度 O(1) ： 几个标志变量使用常数大小的额外空间。\n",
        "\n",
        "\n",
        "但是由于这里的 f(x) 只和 f(x−1) 与 f(x−2) 有关，所以我们可以用**「滚动数组思想」**把空间复杂度优化成 O(1)。\n"
      ],
      "metadata": {
        "id": "Cm1K8YLb53mC"
      }
    },
    {
      "cell_type": "code",
      "source": [
        "def climbStairs(n: int) -> int:\n",
        "  # p ：代表爬到前一级台阶的不同方式数量\n",
        "  # q ：代表爬到当前级台阶的不同方式数量\n",
        "  # r ：代表爬到下一级台阶的不同方式数量\n",
        "  # 为什么初始化 p = 0, q = 0, r = 1 呢？\n",
        "  # p = 0 和 q = 0 是为了确保算法的正确性。\n",
        "  # 在开始迭代之前，这两个变量没有意义，因为我们还没有爬上任何台阶，所以爬到前一级和当前级台阶的方式数量都是 0。\n",
        "  # r = 1 是为了确保第一次迭代时，我们可以正确计算爬到第一级台阶的方式数量。\n",
        "  # 因为从地面到第一级台阶只有一种方式，所以 r 初始化为 1，表示这种方式数量。\n",
        "  p = 0\n",
        "  q = 0\n",
        "  r = 1\n",
        "\n",
        "  # range(n) : for 循环执行 n 次\n",
        "  # 使用下划线 _ 来表示不需要在循环体内使用循环变量的值，只是为了执行循环次数而已。\n",
        "  # 通常情况下，我们使用 _ 作为一个占位符来表示一个不需要使用的变量名。\n",
        "  for _ in range(n):\n",
        "    p = q\n",
        "    q = r\n",
        "    r = p + q\n",
        "  return r"
      ],
      "metadata": {
        "id": "ANMHwcR77qlm"
      },
      "execution_count": 41,
      "outputs": []
    },
    {
      "cell_type": "markdown",
      "source": [
        "# Test 1"
      ],
      "metadata": {
        "id": "q6sCVnNr8Y70"
      }
    },
    {
      "cell_type": "code",
      "source": [
        "n = 0\n",
        "climbStairs(n)"
      ],
      "metadata": {
        "colab": {
          "base_uri": "https://localhost:8080/"
        },
        "id": "Wov8J_i_-sd-",
        "outputId": "8230c85a-5c27-4b6c-c2d7-d1bd160b4d03"
      },
      "execution_count": 35,
      "outputs": [
        {
          "output_type": "execute_result",
          "data": {
            "text/plain": [
              "1"
            ]
          },
          "metadata": {},
          "execution_count": 35
        }
      ]
    },
    {
      "cell_type": "code",
      "source": [
        "n = 1\n",
        "climbStairs(n)"
      ],
      "metadata": {
        "colab": {
          "base_uri": "https://localhost:8080/"
        },
        "id": "LFF_VSxV-rsQ",
        "outputId": "d9eea251-1fd9-43e3-b2d5-67f98d764b5c"
      },
      "execution_count": 36,
      "outputs": [
        {
          "output_type": "execute_result",
          "data": {
            "text/plain": [
              "1"
            ]
          },
          "metadata": {},
          "execution_count": 36
        }
      ]
    },
    {
      "cell_type": "code",
      "source": [
        "n = 2\n",
        "climbStairs(n)"
      ],
      "metadata": {
        "colab": {
          "base_uri": "https://localhost:8080/"
        },
        "id": "57UOKBxE-Yn_",
        "outputId": "c14b0353-ce59-41b8-863c-d40f3a419f58"
      },
      "execution_count": 37,
      "outputs": [
        {
          "output_type": "execute_result",
          "data": {
            "text/plain": [
              "2"
            ]
          },
          "metadata": {},
          "execution_count": 37
        }
      ]
    },
    {
      "cell_type": "code",
      "source": [
        "n = 3\n",
        "climbStairs(n)"
      ],
      "metadata": {
        "colab": {
          "base_uri": "https://localhost:8080/"
        },
        "id": "hZPN2u2F8amd",
        "outputId": "7d4fd26b-21dc-4591-f0f0-a949f8a391d9"
      },
      "execution_count": 38,
      "outputs": [
        {
          "output_type": "execute_result",
          "data": {
            "text/plain": [
              "3"
            ]
          },
          "metadata": {},
          "execution_count": 38
        }
      ]
    },
    {
      "cell_type": "code",
      "source": [
        "n = 4\n",
        "climbStairs(n)"
      ],
      "metadata": {
        "colab": {
          "base_uri": "https://localhost:8080/"
        },
        "id": "ACO5O7ks-dnW",
        "outputId": "565d9807-b18d-441d-8efb-94b9abd0b57a"
      },
      "execution_count": 39,
      "outputs": [
        {
          "output_type": "execute_result",
          "data": {
            "text/plain": [
              "5"
            ]
          },
          "metadata": {},
          "execution_count": 39
        }
      ]
    },
    {
      "cell_type": "code",
      "source": [
        "n = 5\n",
        "climbStairs(n)"
      ],
      "metadata": {
        "colab": {
          "base_uri": "https://localhost:8080/"
        },
        "id": "7ingF9Hq-fZO",
        "outputId": "c323bdb5-9ae4-4218-9196-990839ec4b23"
      },
      "execution_count": 40,
      "outputs": [
        {
          "output_type": "execute_result",
          "data": {
            "text/plain": [
              "8"
            ]
          },
          "metadata": {},
          "execution_count": 40
        }
      ]
    },
    {
      "cell_type": "markdown",
      "source": [
        "# 滚动数组思想 ??????"
      ],
      "metadata": {
        "id": "j643B0yK7iL5"
      }
    },
    {
      "cell_type": "markdown",
      "source": [
        "[爬楼梯 leetcode](https://leetcode.cn/problems/climbing-stairs/solutions/286022/pa-lou-ti-by-leetcode-solution/)\n",
        "\n",
        "[动态规划](https://leetcode.cn/problems/climbing-stairs/solutions/2361764/70-pa-lou-ti-dong-tai-gui-hua-qing-xi-tu-ruwa/)\n",
        "\n",
        "[递归 + 记录返回值 = 记忆化搜索](https://leetcode.cn/problems/climbing-stairs/solutions/2560716/jiao-ni-yi-bu-bu-si-kao-dong-tai-gui-hua-7zm1/)\n",
        "\n",
        "[动态规划入门：从记忆化搜索到递推](https://www.bilibili.com/video/BV1Xj411K7oF/?buvid=XYE3EE4E9D39DAE1F344579EF09E8FEC87594&is_story_h5=false&mid=zoB%2FPYxsFRVrBrgkb6GfrQ%3D%3D&p=1&plat_id=116&share_from=ugc&share_medium=android&share_plat=android&share_session_id=3c0ad247-0194-4f11-8dbe-1b7db3d4a99d&share_source=COPY&share_tag=s_i&timestamp=1695174552&unique_k=72onpYq&up_id=206214)"
      ],
      "metadata": {
        "id": "8Od83rNNxYZA"
      }
    },
    {
      "cell_type": "markdown",
      "source": [
        "# 递归 + 记录返回值 = 记忆化搜索\n",
        "\n",
        "因为要解决的问题都是「从 0 爬到 i」，所以定义 dfs(i) 表示从 0 爬到 i 有多少种不同的方法。\n",
        "\n",
        "分类讨论：\n",
        "\n",
        "如果最后一步爬了 1 个台阶，那么我们得先爬到 i−1，要解决的问题缩小成：从 0 爬到 i−1 有多少种不同的方法。\n",
        "\n",
        "如果最后一步爬了 2 个台阶，那么我们得先爬到 i−2，要解决的问题缩小成：从 0 爬到 i−2 有多少种不同的方法。\n",
        "\n",
        "这两种方法是互相独立的，所以根据加法原理，从 0 爬到 i 的方法数等于这两种方法数之和，即\n",
        "\n",
        "dfs(i) = dfs(i−1) + dfs(i−2)\n",
        "\n",
        "递归边界：dfs(0)=1, dfs(1)=1。\n",
        "\n",
        "从 0 爬到 0 有一种方法，即原地不动。\n",
        "\n",
        "从 0 爬到 1 有一种方法，即爬 1 个台阶。\n",
        "\n",
        "递归入口：dfs(n)，也就是答案。\n",
        "\n",
        "复杂度分析\n",
        "\n",
        "时间复杂度：O(2^n)。搜索树可以近似为一棵二叉树，树高为 O(n)，所以节点个数为 O(2^n)，遍历搜索树需要 O(2^n)的时间。\n",
        "\n",
        "空间复杂度：O(n)。递归需要 O(n)的栈空间。\n",
        "\n",
        "上面的做法太慢了，怎么优化呢？\n",
        "\n",
        "注意到「先爬 1 个台阶，再爬 2 个台阶」和「先爬 2 个台阶，再爬 1 个台阶」，都相当于爬 3 个台阶，都会从 dfs(i) 递归到 dfs(i−3)。\n",
        "\n",
        "一叶知秋，整个递归中有大量重复递归调用（递归入参相同）。\n",
        "\n",
        "由于递归函数没有副作用，同样的入参无论计算多少次，算出来的结果都是一样的，因此可以用记忆化搜索来\n",
        "优化：\n",
        "\n",
        "如果一个状态（递归入参）是第一次遇到，那么可以在返回前，把状态及其结果记到一个 memo 数组中。\n",
        "\n",
        "如果一个状态不是第一次遇到（ memo 中保存的结果不等于 memo 的初始值），那么可以直接返回 memo 中保存的结果。\n",
        "\n",
        "注意：memo 数组的初始值一定不能等于要记忆化的值！\n",
        "\n",
        "例如初始值设置为 0，并且要记忆化的 dfs(i) 也等于 0，那就没法判断 0 到底表示第一次遇到这个状态，还是表示之前遇到过了，从而导致记忆化失效。\n",
        "\n",
        "一般把初始值设置为 −1。本题由于方案数均为正数，所以可以初始化成 0。\n",
        "\n",
        "复杂度分析\n",
        "\n",
        "时间复杂度：O(n)。由于每个状态只会计算一次，动态规划的时间复杂度 = 状态个数 × 单个状态的计算时间。\n",
        "\n",
        "本题状态个数等于 O(n)，单个状态的计算时间为 O(1)，所以动态规划的时间复杂度为 O(n)。\n",
        "\n",
        "空间复杂度：O(n)。有多少个状态，memo 数组的大小就是多少。"
      ],
      "metadata": {
        "id": "uSTzp5kwD-nZ"
      }
    },
    {
      "cell_type": "markdown",
      "source": [
        "# 递归\n",
        "尽管这种递归解法非常简洁，但它存在一个问题，即重复计算相同阶数的不同方式数量，导致了性能上的低效。\n",
        "\n",
        "\n",
        "因为在递归的过程中，很多中间结果被重复计算了多次。在实际问题中，如果 n 很大，递归算法的性能会变得很差。\n",
        "\n",
        "\n",
        "为了提高性能，我们可以使用动态规划或其他迭代方法来解决爬楼梯问题。这些方法可以避免重复计算，从而提高算法的效率。"
      ],
      "metadata": {
        "id": "kUzuUreXJJw2"
      }
    },
    {
      "cell_type": "code",
      "execution_count": 50,
      "metadata": {
        "id": "8TLoPF1xrma4"
      },
      "outputs": [],
      "source": [
        "def climbStairs1(n: int) -> int:\n",
        "  # 在 limbStairs1 函数内部定义了一个辅助函数 dfs，用来实现递归求解\n",
        "  # dfs(i: int) -> int：接受一个整数参数 i，表示当前要爬的阶数，返回爬到第 i 阶的不同方式数量\n",
        "  def dfs(i: int) -> int:\n",
        "\n",
        "    # 如果 i 小于等于 1，即到达地面或第一阶台阶，返回 1，表示只有一种爬法\n",
        "    if i <= 1: return 1\n",
        "\n",
        "    # 否则，递归地调用 dfs(i - 1) 和 dfs(i - 2)，\n",
        "    # 分别表示从第 i - 1 阶和第 i - 2 阶爬到第 i 阶的方式数量。\n",
        "    # 最后返回这两种方式数量的和\n",
        "    return dfs(i - 1) + dfs(i - 2)\n",
        "\n",
        "  # 函数 climbStairs1 则调用了递归函数 dfs(n)，\n",
        "  # 传入参数 n，即要爬的总阶数，返回爬到第 n 阶的不同方式数量\n",
        "  return dfs(n)"
      ]
    },
    {
      "cell_type": "markdown",
      "source": [
        "# Test 2"
      ],
      "metadata": {
        "id": "zOpKeOonJxfp"
      }
    },
    {
      "cell_type": "code",
      "source": [
        "n = 0\n",
        "climbStairs1(n)"
      ],
      "metadata": {
        "colab": {
          "base_uri": "https://localhost:8080/"
        },
        "outputId": "f3028c0e-4cc7-4a0f-e9bd-bb4cce0fe2cd",
        "id": "rZ8eW_9YJxfu"
      },
      "execution_count": 51,
      "outputs": [
        {
          "output_type": "execute_result",
          "data": {
            "text/plain": [
              "1"
            ]
          },
          "metadata": {},
          "execution_count": 51
        }
      ]
    },
    {
      "cell_type": "code",
      "source": [
        "n = 1\n",
        "climbStairs1(n)"
      ],
      "metadata": {
        "colab": {
          "base_uri": "https://localhost:8080/"
        },
        "outputId": "4c68e901-ac2a-424b-86a6-89797eaa86b9",
        "id": "vn3ZipQ_Jxfv"
      },
      "execution_count": 52,
      "outputs": [
        {
          "output_type": "execute_result",
          "data": {
            "text/plain": [
              "1"
            ]
          },
          "metadata": {},
          "execution_count": 52
        }
      ]
    },
    {
      "cell_type": "code",
      "source": [
        "n = 2\n",
        "climbStairs1(n)"
      ],
      "metadata": {
        "colab": {
          "base_uri": "https://localhost:8080/"
        },
        "outputId": "bf43d02e-1aeb-476e-f614-0b4b83b33775",
        "id": "5kL4tY1JJxfw"
      },
      "execution_count": 53,
      "outputs": [
        {
          "output_type": "execute_result",
          "data": {
            "text/plain": [
              "2"
            ]
          },
          "metadata": {},
          "execution_count": 53
        }
      ]
    },
    {
      "cell_type": "code",
      "source": [
        "n = 3\n",
        "climbStairs1(n)"
      ],
      "metadata": {
        "colab": {
          "base_uri": "https://localhost:8080/"
        },
        "outputId": "d064c8c0-f6bf-4c73-c757-8a9953934af2",
        "id": "EdtW9Gu-Jxfw"
      },
      "execution_count": 54,
      "outputs": [
        {
          "output_type": "execute_result",
          "data": {
            "text/plain": [
              "3"
            ]
          },
          "metadata": {},
          "execution_count": 54
        }
      ]
    },
    {
      "cell_type": "code",
      "source": [
        "n = 4\n",
        "climbStairs1(n)"
      ],
      "metadata": {
        "colab": {
          "base_uri": "https://localhost:8080/"
        },
        "outputId": "41c5f188-33d1-4b86-e7bf-db28494bd5c8",
        "id": "rKKstBogJxfx"
      },
      "execution_count": 55,
      "outputs": [
        {
          "output_type": "execute_result",
          "data": {
            "text/plain": [
              "5"
            ]
          },
          "metadata": {},
          "execution_count": 55
        }
      ]
    },
    {
      "cell_type": "code",
      "source": [
        "n = 5\n",
        "climbStairs1(n)"
      ],
      "metadata": {
        "colab": {
          "base_uri": "https://localhost:8080/"
        },
        "outputId": "d039b807-9fa1-42ed-c388-dea4707676ab",
        "id": "OOD6FQSAJxfy"
      },
      "execution_count": 56,
      "outputs": [
        {
          "output_type": "execute_result",
          "data": {
            "text/plain": [
              "8"
            ]
          },
          "metadata": {},
          "execution_count": 56
        }
      ]
    },
    {
      "cell_type": "markdown",
      "source": [
        "# 递归 + 记录返回值 = 记忆化搜索\n",
        "@cache 是 Python 中的一个装饰器"
      ],
      "metadata": {
        "id": "7rh2eWRhJ9bY"
      }
    },
    {
      "cell_type": "code",
      "source": [
        "from functools import cache"
      ],
      "metadata": {
        "id": "2Mu-r14pKKa6"
      },
      "execution_count": 57,
      "outputs": []
    },
    {
      "cell_type": "code",
      "source": [
        "def climbStairs2(n: int) -> int:\n",
        "\n",
        "  # 装饰器是 Python 中一种强大而灵活的函数式编程工具，它允许你在不改变函数代码的情况下，\n",
        "  # 对函数的行为进行修改或增强。\n",
        "  # 在 Python 中，装饰器本质上是一个函数，它接受一个函数作为参数，并返回一个新的函数。\n",
        "  # 这个新的函数通常会在原始函数的基础上做一些额外的操作，或者改变原始函数的行为。\n",
        "\n",
        "  # cache 是 Python 中的一个装饰器，用于缓存函数的计算结果，以避免重复计算\n",
        "  # 当一个函数被 @cache 装饰器修饰时，Python 会自动为这个函数添加缓存功能。\n",
        "  # 这意味着，当函数被调用时，Python 会先检查缓存中是否已经有了相应的计算结果。\n",
        "  # 如果有，它会直接从缓存中返回结果，而不是重新计算；\n",
        "  # 如果没有，它会执行函数的计算过程，并将结果存储到缓存中。\n",
        "  # 使用 @cache 装饰器可以大大提高函数的执行效率，特别是对于那些计算量较大、结果不变的函数。\n",
        "  # 它适用于递归函数等可能会产生大量重复计算的情况。\n",
        "  @cache # 缓存装饰器，避免重复计算 dfs 的结果\n",
        "\n",
        "  # 在 limbStairs1 函数内部定义了一个辅助函数 dfs，用来实现递归求解\n",
        "  # dfs(i: int) -> int：接受一个整数参数 i，表示当前要爬的阶数，返回爬到第 i 阶的不同方式数量\n",
        "  def dfs(i: int) -> int:\n",
        "\n",
        "    # 如果 i 小于等于 1，即到达地面或第一阶台阶，返回 1，表示只有一种爬法\n",
        "    if i <= 1: return 1\n",
        "\n",
        "    # 否则，递归地调用 dfs(i - 1) 和 dfs(i - 2)，\n",
        "    # 分别表示从第 i - 1 阶和第 i - 2 阶爬到第 i 阶的方式数量。\n",
        "    # 最后返回这两种方式数量的和\n",
        "    return dfs(i - 1) + dfs(i - 2)\n",
        "\n",
        "  # 函数 climbStairs1 则调用了递归函数 dfs(n)，\n",
        "  # 传入参数 n，即要爬的总阶数，返回爬到第 n 阶的不同方式数量\n",
        "  return dfs(n)"
      ],
      "metadata": {
        "id": "IDJPFfM-KFwa"
      },
      "execution_count": 58,
      "outputs": []
    },
    {
      "cell_type": "markdown",
      "source": [
        "# Test 3"
      ],
      "metadata": {
        "id": "ZD_r3bKLXPU2"
      }
    },
    {
      "cell_type": "code",
      "source": [
        "n = 0\n",
        "climbStairs2(n)"
      ],
      "metadata": {
        "colab": {
          "base_uri": "https://localhost:8080/"
        },
        "outputId": "4106f999-e96c-47c4-e3bd-301488f8acdd",
        "id": "KtaMuBE8XPVN"
      },
      "execution_count": 59,
      "outputs": [
        {
          "output_type": "execute_result",
          "data": {
            "text/plain": [
              "1"
            ]
          },
          "metadata": {},
          "execution_count": 59
        }
      ]
    },
    {
      "cell_type": "code",
      "source": [
        "n = 1\n",
        "climbStairs2(n)"
      ],
      "metadata": {
        "colab": {
          "base_uri": "https://localhost:8080/"
        },
        "outputId": "5ee5f5f1-f2fd-40b7-f4ba-d4590107968d",
        "id": "3gWKU2SaXPVO"
      },
      "execution_count": 60,
      "outputs": [
        {
          "output_type": "execute_result",
          "data": {
            "text/plain": [
              "1"
            ]
          },
          "metadata": {},
          "execution_count": 60
        }
      ]
    },
    {
      "cell_type": "code",
      "source": [
        "n = 2\n",
        "climbStairs2(n)"
      ],
      "metadata": {
        "colab": {
          "base_uri": "https://localhost:8080/"
        },
        "outputId": "ea229718-34c2-4286-dca5-a190d94ec385",
        "id": "1uGUninNXPVP"
      },
      "execution_count": 61,
      "outputs": [
        {
          "output_type": "execute_result",
          "data": {
            "text/plain": [
              "2"
            ]
          },
          "metadata": {},
          "execution_count": 61
        }
      ]
    },
    {
      "cell_type": "code",
      "source": [
        "n = 3\n",
        "climbStairs2(n)"
      ],
      "metadata": {
        "colab": {
          "base_uri": "https://localhost:8080/"
        },
        "outputId": "3f8d43a7-122d-4a8d-a314-c3bc55081783",
        "id": "GW3yNdvXXPVP"
      },
      "execution_count": 62,
      "outputs": [
        {
          "output_type": "execute_result",
          "data": {
            "text/plain": [
              "3"
            ]
          },
          "metadata": {},
          "execution_count": 62
        }
      ]
    },
    {
      "cell_type": "code",
      "source": [
        "n = 4\n",
        "climbStairs2(n)"
      ],
      "metadata": {
        "colab": {
          "base_uri": "https://localhost:8080/"
        },
        "outputId": "30599729-c5bc-4de2-9631-9401b4055aa3",
        "id": "zlywDZ0ZXPVP"
      },
      "execution_count": 63,
      "outputs": [
        {
          "output_type": "execute_result",
          "data": {
            "text/plain": [
              "5"
            ]
          },
          "metadata": {},
          "execution_count": 63
        }
      ]
    },
    {
      "cell_type": "code",
      "source": [
        "n = 5\n",
        "climbStairs2(n)"
      ],
      "metadata": {
        "colab": {
          "base_uri": "https://localhost:8080/"
        },
        "outputId": "d9515d08-3c14-46c7-b923-6d93ba0e207d",
        "id": "t4fOrMgSXPVQ"
      },
      "execution_count": 64,
      "outputs": [
        {
          "output_type": "execute_result",
          "data": {
            "text/plain": [
              "8"
            ]
          },
          "metadata": {},
          "execution_count": 64
        }
      ]
    }
  ]
}