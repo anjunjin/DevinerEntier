{
  "nbformat": 4,
  "nbformat_minor": 0,
  "metadata": {
    "colab": {
      "provenance": [],
      "authorship_tag": "ABX9TyP3RMjZxJMb/TgB2/GDxlIM",
      "include_colab_link": true
    },
    "kernelspec": {
      "name": "python3",
      "display_name": "Python 3"
    },
    "language_info": {
      "name": "python"
    }
  },
  "cells": [
    {
      "cell_type": "markdown",
      "metadata": {
        "id": "view-in-github",
        "colab_type": "text"
      },
      "source": [
        "<a href=\"https://colab.research.google.com/github/anjunjin/DevinerEntier/blob/master/leetcode16_383.ipynb\" target=\"_parent\"><img src=\"https://colab.research.google.com/assets/colab-badge.svg\" alt=\"Open In Colab\"/></a>"
      ]
    },
    {
      "cell_type": "markdown",
      "source": [
        "给你两个字符串：ransomNote 和 magazine ，判断 ransomNote 能不能由 magazine 里面的字符构成。\n",
        "\n",
        "如果可以，返回 true ；否则返回 false 。\n",
        "\n",
        "magazine 中的每个字符只能在 ransomNote 中使用一次。\n"
      ],
      "metadata": {
        "id": "lD1C-MI8QVqY"
      }
    },
    {
      "cell_type": "markdown",
      "source": [
        "# 字符统计.\n",
        "\n",
        "题目要求使用字符串 magazine 中的字符来构建新的字符串 ransomNote，\n",
        "\n",
        "且ransomNote 中的每个字符只能使用一次，\n",
        "\n",
        "只需要满足字符串 magazine 中的每个英文字母 (’a’-’z’) 的统计次数都大于等于 ransomNote 中相同字母的统计次数即可。\n",
        "\n",
        "如果字符串 magazine 的长度小于字符串 ransomNote 的长度，\n",
        "\n",
        "则我们可以肯定 magazine 无法构成 ransomNote，此时直接返回 false\n",
        "\n",
        "\n",
        "首先统计 magazine中每个英文字母 a 的次数 cnt[a]，\n",
        "\n",
        "再遍历统计 ransomNote 中每个英文字母的次数，\n",
        "\n",
        "如果发现 ransomNote 中存在某个英文字母 c 的统计次数大于 magazine中该字母统计次数 cnt[c]，则此时我们直接返回 false\n",
        "\n"
      ],
      "metadata": {
        "id": "BVj6y0R7TBjC"
      }
    },
    {
      "cell_type": "markdown",
      "source": [
        "复杂度分析\n",
        "\n",
        "时间复杂度：O(m+n)，\n",
        "\n",
        "其中 m 是字符串 ransomNote 的长度，\n",
        "n 是字符串 magazine 的长度，我们只需要遍历两个字符一次即可。\n",
        "\n",
        "空间复杂度：O(∣S∣)，S 是字符集，这道题中 S 为全部小写英语字母，因此 ∣S∣=26"
      ],
      "metadata": {
        "id": "gZZwPTMRSeRC"
      }
    },
    {
      "cell_type": "markdown",
      "source": [
        "[赎金信](https://leetcode.cn/problems/ransom-note/solutions/1135839/shu-jin-xin-by-leetcode-solution-ji8a/)\n",
        "\n",
        "[Python collections.Counter()函数](https://blog.csdn.net/rocking_struggling/article/details/104851741)\n",
        "\n",
        "[collections python counter](https://docs.python.org/3.10/library/collections.html#collections.Counter)"
      ],
      "metadata": {
        "id": "KWbFbGuZSxSY"
      }
    },
    {
      "cell_type": "code",
      "source": [
        "import collections"
      ],
      "metadata": {
        "id": "3-t93lB_WIeh"
      },
      "execution_count": 41,
      "outputs": []
    },
    {
      "cell_type": "code",
      "execution_count": 42,
      "metadata": {
        "id": "f63PICTl0_e4"
      },
      "outputs": [],
      "source": [
        "def canConstruct(ransomNote: str, magazine: str) -> bool:\n",
        "  # 如果字符串 magazine 的长度小于字符串 ransomNote 的长度，\n",
        "  # 则 magazine 无法构成 ransomNote，此时直接返回 false\n",
        "  if len(magazine) < len(ransomNote): return False\n",
        "\n",
        "  # collections.Counter(ransomNote) : 创建了一个 Counter 对象，用于统计 ransomNote 中每个字符出现的次数\n",
        "  # collections.Counter(magazine) : 创建了一个 Counter 对象，用于统计 magazine 中每个字符出现的次数\n",
        "  # not collections.Counter(ransomNote) - collections.Counter(magazine) :\n",
        "  # 执行了两个 Counter 对象的减法操作\n",
        "  # Counter 对象之间的减法操作会删除相同的键并减去对应的值，\n",
        "  # 如果结果 Counter 对象为空（即没有剩余的字符需要构造），则返回 True，否则返回 False\n",
        "  # not 操作符将结果取反，确保当可以构造时返回 True，不能构造时返回 False\n",
        "  #return collections.Counter(ransomNote) - collections.Counter(magazine)\n",
        "  return not (collections.Counter(ransomNote) - collections.Counter(magazine))"
      ]
    },
    {
      "cell_type": "markdown",
      "source": [
        "# Test 1"
      ],
      "metadata": {
        "id": "KAdewMSAT8Tg"
      }
    },
    {
      "cell_type": "code",
      "source": [
        "ransomNote = \"a\"\n",
        "magazine = \"b\""
      ],
      "metadata": {
        "id": "S-xxm02UT-c2"
      },
      "execution_count": 43,
      "outputs": []
    },
    {
      "cell_type": "code",
      "source": [
        "collections.Counter(ransomNote) - collections.Counter(magazine)"
      ],
      "metadata": {
        "colab": {
          "base_uri": "https://localhost:8080/"
        },
        "id": "iiIfhVAPX9px",
        "outputId": "1219c398-9613-4fec-ff8d-a9f6c4eacdc6"
      },
      "execution_count": 44,
      "outputs": [
        {
          "output_type": "execute_result",
          "data": {
            "text/plain": [
              "Counter({'a': 1})"
            ]
          },
          "metadata": {},
          "execution_count": 44
        }
      ]
    },
    {
      "cell_type": "code",
      "source": [
        "canConstruct(ransomNote, magazine)"
      ],
      "metadata": {
        "colab": {
          "base_uri": "https://localhost:8080/"
        },
        "id": "KD-0EzcXVwem",
        "outputId": "0d412070-141b-4017-dea8-3889ce329ca8"
      },
      "execution_count": 45,
      "outputs": [
        {
          "output_type": "execute_result",
          "data": {
            "text/plain": [
              "False"
            ]
          },
          "metadata": {},
          "execution_count": 45
        }
      ]
    },
    {
      "cell_type": "markdown",
      "source": [
        "# Test 2"
      ],
      "metadata": {
        "id": "Zm7cnRTQYVOr"
      }
    },
    {
      "cell_type": "code",
      "source": [
        "ransomNote = \"aa\"\n",
        "magazine = \"ab\""
      ],
      "metadata": {
        "id": "qs8oSGjAYVPN"
      },
      "execution_count": 46,
      "outputs": []
    },
    {
      "cell_type": "code",
      "source": [
        "collections.Counter(ransomNote) - collections.Counter(magazine)"
      ],
      "metadata": {
        "colab": {
          "base_uri": "https://localhost:8080/"
        },
        "outputId": "d869ca48-1bd2-436e-fd40-695aba821f1d",
        "id": "uvVxwxyKYVPO"
      },
      "execution_count": 47,
      "outputs": [
        {
          "output_type": "execute_result",
          "data": {
            "text/plain": [
              "Counter({'a': 1})"
            ]
          },
          "metadata": {},
          "execution_count": 47
        }
      ]
    },
    {
      "cell_type": "code",
      "source": [
        "canConstruct(ransomNote, magazine)"
      ],
      "metadata": {
        "colab": {
          "base_uri": "https://localhost:8080/"
        },
        "outputId": "1d4eed74-425e-4343-cea0-ee76101d54d1",
        "id": "KrFy2Zu_YVPP"
      },
      "execution_count": 48,
      "outputs": [
        {
          "output_type": "execute_result",
          "data": {
            "text/plain": [
              "False"
            ]
          },
          "metadata": {},
          "execution_count": 48
        }
      ]
    },
    {
      "cell_type": "markdown",
      "source": [
        "# Test 3"
      ],
      "metadata": {
        "id": "bL-l8qDoYVjd"
      }
    },
    {
      "cell_type": "code",
      "source": [
        "ransomNote = \"aa\"\n",
        "magazine = \"aab\""
      ],
      "metadata": {
        "id": "NjBKOzAUYVje"
      },
      "execution_count": 49,
      "outputs": []
    },
    {
      "cell_type": "code",
      "source": [
        "collections.Counter(ransomNote) - collections.Counter(magazine)"
      ],
      "metadata": {
        "colab": {
          "base_uri": "https://localhost:8080/"
        },
        "outputId": "6ef1f15f-37fd-42ee-c644-5d46c3b7fa18",
        "id": "i_f5LUsXYVjg"
      },
      "execution_count": 50,
      "outputs": [
        {
          "output_type": "execute_result",
          "data": {
            "text/plain": [
              "Counter()"
            ]
          },
          "metadata": {},
          "execution_count": 50
        }
      ]
    },
    {
      "cell_type": "code",
      "source": [
        "canConstruct(ransomNote, magazine)"
      ],
      "metadata": {
        "colab": {
          "base_uri": "https://localhost:8080/"
        },
        "outputId": "25dde785-7f87-4a3b-8414-e2b5eac37d3f",
        "id": "F4utfmQIYVjh"
      },
      "execution_count": 51,
      "outputs": [
        {
          "output_type": "execute_result",
          "data": {
            "text/plain": [
              "True"
            ]
          },
          "metadata": {},
          "execution_count": 51
        }
      ]
    }
  ]
}