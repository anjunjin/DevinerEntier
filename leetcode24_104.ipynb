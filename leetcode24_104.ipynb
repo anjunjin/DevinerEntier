{
  "nbformat": 4,
  "nbformat_minor": 0,
  "metadata": {
    "colab": {
      "provenance": [],
      "authorship_tag": "ABX9TyPOmNvtDZrCbeUhIG/bKBat",
      "include_colab_link": true
    },
    "kernelspec": {
      "name": "python3",
      "display_name": "Python 3"
    },
    "language_info": {
      "name": "python"
    }
  },
  "cells": [
    {
      "cell_type": "markdown",
      "metadata": {
        "id": "view-in-github",
        "colab_type": "text"
      },
      "source": [
        "<a href=\"https://colab.research.google.com/github/anjunjin/DevinerEntier/blob/master/leetcode24_104.ipynb\" target=\"_parent\"><img src=\"https://colab.research.google.com/assets/colab-badge.svg\" alt=\"Open In Colab\"/></a>"
      ]
    },
    {
      "cell_type": "markdown",
      "source": [
        "# 二叉树的最大深度\n",
        "\n",
        "给定一个二叉树 root ，返回其最大深度。\n",
        "\n",
        "二叉树的 最大深度 是指从根节点到最远叶子节点的最长路径上的节点数。\n"
      ],
      "metadata": {
        "id": "IPQdnqGKjLx6"
      }
    },
    {
      "cell_type": "code",
      "execution_count": 1,
      "metadata": {
        "id": "pniNXzk_iVDb"
      },
      "outputs": [],
      "source": [
        "class TreeNode:\n",
        "  def __init__(self, val=0, left=None, right=None):\n",
        "    self.val = val\n",
        "    self.left = left\n",
        "    self.right = right"
      ]
    },
    {
      "cell_type": "markdown",
      "source": [
        "# 深度优先搜索\n",
        "\n",
        "\n",
        "[深度优先搜索 leetcode](https://leetcode.cn/problems/maximum-depth-of-binary-tree/solutions/349250/er-cha-shu-de-zui-da-shen-du-by-leetcode-solution/)\n",
        "\n",
        "\n",
        "[二叉树的最大深度（后序或层序遍历，清晰图解）](https://leetcode.cn/problems/maximum-depth-of-binary-tree/solutions/2361697/104-er-cha-shu-de-zui-da-shen-du-hou-xu-txzrx/)\n",
        "\n",
        "[ACM 选手图解 LeetCode 二叉树的最大深度（递归 + 非递归）](https://leetcode.cn/problems/maximum-depth-of-binary-tree/solutions/1323631/acm-xuan-shou-tu-jie-leetcode-er-cha-shu-ckf4/)\n",
        "\n",
        "\n",
        "思路与算法\n",
        "\n",
        "**如果我们知道了左子树和右子树的最大深度 l 和 r，那么该二叉树的最大深度即为**\n",
        "\n",
        "** max⁡(l,r)+1 **\n",
        "\n",
        "而左子树和右子树的最大深度又可以以同样的方式进行计算。\n",
        "\n",
        "因此我们可以用「深度优先搜索」的方法来计算二叉树的最大深度。\n",
        "\n",
        "具体而言，在计算当前二叉树的最大深度时，可以先递归计算出其左子树和右子树的最大深度，然后在 O(1)时间内计算出当前二叉树的最大深度。\n",
        "\n",
        "递归在访问到空节点时退出。\n",
        "\n",
        "\n",
        "复杂度分析\n",
        "\n",
        "时间复杂度：O(n)，其中 n 为二叉树节点的个数。每个节点在递归中只被遍历一次。\n",
        "\n",
        "空间复杂度：O(height)，其中 height 表示二叉树的高度。\n",
        "\n",
        "递归函数需要栈空间，而栈空间取决于递归的深度，因此空间复杂度等价于二叉树的高度。"
      ],
      "metadata": {
        "id": "zDI7hy5Cd8ko"
      }
    },
    {
      "cell_type": "code",
      "source": [
        "# 二叉树深度计算的递归算法,接受一个参数 root，表示当前子树的根节点\n",
        "def maxDepth(root: TreeNode) -> int:\n",
        "  # 如果当前节点为空（即树为空），那么深度为 0，直接返回 0\n",
        "  if root is None: return 0\n",
        "\n",
        "  # 如果当前节点不为空，则继续递归地计算左子树和右子树的深度\n",
        "  else:\n",
        "    # 在递归的过程中，每个节点的深度等于其左子树的深度和右子树的深度中的较大值加上 1。\n",
        "    # 因为每个节点都比其子树的深度多 1\n",
        "    left_height = maxDepth(root.left)\n",
        "\n",
        "    if root.left:\n",
        "      print(\"TreeNode(left) : \", root.left.val, \" left_height : \", left_height)\n",
        "\n",
        "    right_height = maxDepth(root.right)\n",
        "    if root.right:\n",
        "      print(\"TreeNode(right) : \", root.right.val, \" right_height : \", right_height)\n",
        "\n",
        "    print(\"\\nleft_height : \", left_height, \" right_height : \", right_height, \"\\nmax(left_height, right_height) + 1 : \", max(left_height, right_height) + 1)\n",
        "    # 最后，返回左子树和右子树深度的较大值加上 1，即为整个二叉树的最大深度。\n",
        "    return max(left_height, right_height) + 1\n"
      ],
      "metadata": {
        "id": "zA3hKTfhd8JO"
      },
      "execution_count": 2,
      "outputs": []
    },
    {
      "cell_type": "markdown",
      "source": [
        "# Test"
      ],
      "metadata": {
        "id": "588PYLWTd_QF"
      }
    },
    {
      "cell_type": "code",
      "source": [
        "#root = [3,9,20,null,null,15,7]\n",
        "root = TreeNode(3)\n",
        "root.left = TreeNode(9)\n",
        "root.right = TreeNode(20)\n",
        "root.right.left = TreeNode(15)\n",
        "root.right.right = TreeNode(7)\n",
        "\n",
        "maxDepth(root)"
      ],
      "metadata": {
        "colab": {
          "base_uri": "https://localhost:8080/"
        },
        "id": "XepV7ItseA9C",
        "outputId": "b3fde7bf-6fdd-4e33-e6d9-5c36c3005372"
      },
      "execution_count": 3,
      "outputs": [
        {
          "output_type": "stream",
          "name": "stdout",
          "text": [
            "\n",
            "left_height :  0  right_height :  0 \n",
            "max(left_height, right_height) + 1 :  1\n",
            "TreeNode(left) :  9  left_height :  1\n",
            "\n",
            "left_height :  0  right_height :  0 \n",
            "max(left_height, right_height) + 1 :  1\n",
            "TreeNode(left) :  15  left_height :  1\n",
            "\n",
            "left_height :  0  right_height :  0 \n",
            "max(left_height, right_height) + 1 :  1\n",
            "TreeNode(right) :  7  right_height :  1\n",
            "\n",
            "left_height :  1  right_height :  1 \n",
            "max(left_height, right_height) + 1 :  2\n",
            "TreeNode(right) :  20  right_height :  2\n",
            "\n",
            "left_height :  1  right_height :  2 \n",
            "max(left_height, right_height) + 1 :  3\n"
          ]
        },
        {
          "output_type": "execute_result",
          "data": {
            "text/plain": [
              "3"
            ]
          },
          "metadata": {},
          "execution_count": 3
        }
      ]
    },
    {
      "cell_type": "code",
      "source": [
        "#root = [1,null,2]\n",
        "root = TreeNode(1)\n",
        "root.right = TreeNode(2)\n",
        "\n",
        "maxDepth(root)"
      ],
      "metadata": {
        "colab": {
          "base_uri": "https://localhost:8080/"
        },
        "id": "PBwxowUyeDW0",
        "outputId": "70232aa8-c74a-4013-840e-cd774d5d7e2c"
      },
      "execution_count": 4,
      "outputs": [
        {
          "output_type": "stream",
          "name": "stdout",
          "text": [
            "\n",
            "left_height :  0  right_height :  0 \n",
            "max(left_height, right_height) + 1 :  1\n",
            "TreeNode(right) :  2  right_height :  1\n",
            "\n",
            "left_height :  0  right_height :  1 \n",
            "max(left_height, right_height) + 1 :  2\n"
          ]
        },
        {
          "output_type": "execute_result",
          "data": {
            "text/plain": [
              "2"
            ]
          },
          "metadata": {},
          "execution_count": 4
        }
      ]
    },
    {
      "cell_type": "markdown",
      "source": [
        "# 广度优先搜索  层序遍历（BFS） !!!!!!! (NO complet print part)\n",
        "\n",
        "[层序遍历（BFS）](https://leetcode.cn/problems/maximum-depth-of-binary-tree/solutions/2361697/104-er-cha-shu-de-zui-da-shen-du-hou-xu-txzrx/)\n",
        "\n",
        "树的层序遍历 / 广度优先搜索往往利用 队列 实现。\n",
        "\n",
        "关键点： 每遍历一层，则计数器 +1，直到遍历完成，则可得到树的深度。\n",
        "\n",
        "算法解析：\n",
        "\n",
        "特例处理： 当 root​ 为空，直接返回 深度 0 。\n",
        "\n",
        "初始化： 队列 queue （加入根节点 root ），计数器 res = 0。\n",
        "\n",
        "循环遍历： 当 queue 为空时跳出。\n",
        "\n",
        "初始化一个空列表 tmp ，用于临时存储下一层节点。\n",
        "\n",
        "遍历队列： 遍历 queue 中的各节点 node ，并将其左子节点和右子节点加入 tmp。\n",
        "\n",
        "更新队列： 执行 queue = tmp ，将下一层节点赋值给 queue。\n",
        "\n",
        "统计层数： 执行 res += 1 ，代表层数加 1。\n",
        "\n",
        "返回值： 返回 res 即可。"
      ],
      "metadata": {
        "id": "I5eik3WinYdf"
      }
    },
    {
      "cell_type": "code",
      "source": [
        "# 计算二叉树的最大深度, 广度优先搜索（BFS）的方法来遍历二叉树\n",
        "def maxDepth1(root: TreeNode) -> int:\n",
        "  # 如果根节点 root 为空，则直接返回 0，表示空树的深度为 0\n",
        "  if not root: return 0\n",
        "\n",
        "  # 如果根节点 root 不为空，则定义一个队列 queue，并将根节点 root 加入队列中。\n",
        "  # 同时初始化变量 depth 为 0，用于记录树的深度\n",
        "  queue, depth = [root], 0\n",
        "\n",
        "  # 使用一个 while 循环，当队列不为空时，执行以下操作\n",
        "  while queue:\n",
        "    # 定义一个临时列表 tmp，用于存储下一层的节点\n",
        "    tmp = []\n",
        "\n",
        "    # 遍历 当前队列 中的所有节点\n",
        "    for node in queue:\n",
        "      # 对于每个节点，如果它有左子节点，则将左子节点加入到临时列表 tmp 中\n",
        "      if node.left: tmp.append(node.left)\n",
        "\n",
        "      # 如果它有右子节点，则将右子节点加入到临时列表 tmp 中\n",
        "      if node.right: tmp.append(node.right)\n",
        "\n",
        "\n",
        "\n",
        "    # 更新队列 queue 为临时列表 tmp\n",
        "    queue = tmp\n",
        "\n",
        "\n",
        "    # 每完成一层的遍历，深度 depth 加 1\n",
        "    depth += 1\n",
        "\n",
        "    print(\"depth : \", depth)\n",
        "\n",
        "  # 返回计算得到的最大深度 depth\n",
        "  return depth\n"
      ],
      "metadata": {
        "id": "c39vcA6WouMa"
      },
      "execution_count": 5,
      "outputs": []
    },
    {
      "cell_type": "markdown",
      "source": [
        "# Test 1"
      ],
      "metadata": {
        "id": "bU1-zerDp3Ob"
      }
    },
    {
      "cell_type": "code",
      "source": [
        "#root = [3,9,20,null,null,15,7]\n",
        "root = TreeNode(3)\n",
        "root.left = TreeNode(9)\n",
        "root.right = TreeNode(20)\n",
        "root.right.left = TreeNode(15)\n",
        "root.right.right = TreeNode(7)\n",
        "\n",
        "maxDepth1(root)"
      ],
      "metadata": {
        "colab": {
          "base_uri": "https://localhost:8080/"
        },
        "outputId": "900c3bb1-9c25-409e-a1f6-e2147ec25e53",
        "id": "kgo6DbKwp3Ox"
      },
      "execution_count": 6,
      "outputs": [
        {
          "output_type": "stream",
          "name": "stdout",
          "text": [
            "depth :  1\n",
            "depth :  2\n",
            "depth :  3\n"
          ]
        },
        {
          "output_type": "execute_result",
          "data": {
            "text/plain": [
              "3"
            ]
          },
          "metadata": {},
          "execution_count": 6
        }
      ]
    },
    {
      "cell_type": "code",
      "source": [
        "#root = [1,null,2]\n",
        "root = TreeNode(1)\n",
        "root.right = TreeNode(2)\n",
        "\n",
        "maxDepth1(root)"
      ],
      "metadata": {
        "colab": {
          "base_uri": "https://localhost:8080/"
        },
        "id": "IgVlsnyLp3Oy",
        "outputId": "8d4448d7-c77c-46cc-efc7-65a70f41115f"
      },
      "execution_count": 7,
      "outputs": [
        {
          "output_type": "stream",
          "name": "stdout",
          "text": [
            "depth :  1\n",
            "depth :  2\n"
          ]
        },
        {
          "output_type": "execute_result",
          "data": {
            "text/plain": [
              "2"
            ]
          },
          "metadata": {},
          "execution_count": 7
        }
      ]
    }
  ]
}