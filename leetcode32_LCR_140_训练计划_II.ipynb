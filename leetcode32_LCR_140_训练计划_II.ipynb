{
  "nbformat": 4,
  "nbformat_minor": 0,
  "metadata": {
    "colab": {
      "provenance": [],
      "authorship_tag": "ABX9TyOg7U6CFeeAKAMY6LlBRYka",
      "include_colab_link": true
    },
    "kernelspec": {
      "name": "python3",
      "display_name": "Python 3"
    },
    "language_info": {
      "name": "python"
    }
  },
  "cells": [
    {
      "cell_type": "markdown",
      "metadata": {
        "id": "view-in-github",
        "colab_type": "text"
      },
      "source": [
        "<a href=\"https://colab.research.google.com/github/anjunjin/DevinerEntier/blob/master/leetcode32_LCR_140_%E8%AE%AD%E7%BB%83%E8%AE%A1%E5%88%92_II.ipynb\" target=\"_parent\"><img src=\"https://colab.research.google.com/assets/colab-badge.svg\" alt=\"Open In Colab\"/></a>"
      ]
    },
    {
      "cell_type": "markdown",
      "source": [
        "#LCR 140. 训练计划 II\n",
        "\n",
        "给定一个头节点为 head 的链表用于记录一系列核心肌群训练项目编号，请查找并返回倒数第 cnt 个训练项目编号。\n"
      ],
      "metadata": {
        "id": "HdigM6jsnSxu"
      }
    },
    {
      "cell_type": "code",
      "execution_count": 1,
      "metadata": {
        "id": "8PkoiXWAnRv3"
      },
      "outputs": [],
      "source": [
        "class ListNode:\n",
        "  def __init__(self, val=0, next=None):\n",
        "    self.val = val\n",
        "    self.next = next"
      ]
    },
    {
      "cell_type": "markdown",
      "source": [
        "[训练计划 IIleetcode](https://leetcode.cn/problems/lian-biao-zhong-dao-shu-di-kge-jie-dian-lcof/solutions/972458/lian-biao-zhong-dao-shu-di-kge-jie-dian-1pz9l/?company_slug=michelin)\n",
        "\n",
        "[LCR 140. 训练计划 II（双指针，清晰图解）](https://leetcode.cn/problems/lian-biao-zhong-dao-shu-di-kge-jie-dian-lcof/solutions/117507/mian-shi-ti-22-lian-biao-zhong-dao-shu-di-kge-j-11/?company_slug=michelin)"
      ],
      "metadata": {
        "id": "H3q8OqG04MoW"
      }
    },
    {
      "cell_type": "markdown",
      "source": [
        "# 方法一：顺序查找\n",
        "思路与算法\n",
        "\n",
        "最简单直接的方法即为顺序查找，假设当前链表的长度为 n，则我们知道链表的倒数第 cnt 个节点即为正数第 n−cnt 个节点，此时我们只需要顺序遍历到链表的第 n−cnt 个节点即为倒数第 cnt 个节点。\n",
        "\n",
        "我们首先求出链表的长度 n，然后顺序遍历到链表的第 n−cnt 个节点返回即可。\n"
      ],
      "metadata": {
        "id": "14LG_iPFoX87"
      }
    },
    {
      "cell_type": "markdown",
      "source": [
        "# 复杂度分析\n",
        "\n",
        "时间复杂度：O(n)，其中 n 为链表的长度。需要两次遍历。\n",
        "\n",
        "空间复杂度：O(1)。"
      ],
      "metadata": {
        "id": "JvJfKlv2vk53"
      }
    },
    {
      "cell_type": "code",
      "source": [
        "n = 5\n",
        "\n",
        "for i in range(n):\n",
        "  print(f\"i : {i}\")"
      ],
      "metadata": {
        "colab": {
          "base_uri": "https://localhost:8080/"
        },
        "id": "n8O6P_Phqxfm",
        "outputId": "fb6ff74f-39c7-4793-a5a8-ac4b6ade4614"
      },
      "execution_count": 2,
      "outputs": [
        {
          "output_type": "stream",
          "name": "stdout",
          "text": [
            "i : 0\n",
            "i : 1\n",
            "i : 2\n",
            "i : 3\n",
            "i : 4\n"
          ]
        }
      ]
    },
    {
      "cell_type": "code",
      "source": [
        "n = 5\n",
        "cnt = 2\n",
        "for i in range(n - cnt):\n",
        "  print(f\"i : {i}\")"
      ],
      "metadata": {
        "colab": {
          "base_uri": "https://localhost:8080/"
        },
        "id": "0rO5_GvOq87M",
        "outputId": "63681e74-2056-4369-b953-36d42b74ca46"
      },
      "execution_count": 3,
      "outputs": [
        {
          "output_type": "stream",
          "name": "stdout",
          "text": [
            "i : 0\n",
            "i : 1\n",
            "i : 2\n"
          ]
        }
      ]
    },
    {
      "cell_type": "code",
      "source": [
        "def print_linked_list(head: ListNode) -> None:\n",
        "  current = head\n",
        "\n",
        "  print(f\"Linked list :\")\n",
        "  while current:\n",
        "    print(f\"{current.val}\", end=\" -> \")\n",
        "\n",
        "    current = current.next\n",
        "  print(\"None\")"
      ],
      "metadata": {
        "id": "kRkY2MSAsxNb"
      },
      "execution_count": 4,
      "outputs": []
    },
    {
      "cell_type": "code",
      "source": [
        "# 定义一个 Solution 类，其中包含 trainningPlan 方法\n",
        "class Solution:\n",
        "  # trainningPlan 的方法，用于找到链表中倒数第 cnt 个节点，并返回该节点\n",
        "  def trainningPLan_sequentialSearch(self, head: ListNode, cnt: int) -> ListNode:\n",
        "    # 定义两个变量 node 和 n，分别用于遍历链表和记录链表的长度。\n",
        "    # 初始时，将 node 设为链表头节点 head，n 设为 0。\n",
        "    node, n = head, 0\n",
        "\n",
        "    # 使用 while 循环遍历链表，每次将 node 向后移动一个节点，直到 node 为空\n",
        "    while node:\n",
        "      node = node.next\n",
        "      # 在循环中，每次遍历都将 n 的值加 1，以统计链表的长度\n",
        "      n += 1\n",
        "\n",
        "    print(f\"\\nSize of ListNode : {n}\")\n",
        "\n",
        "    # 将 node 重新指向链表的头节点 head\n",
        "    node = head\n",
        "\n",
        "    # 再次遍历链表，这次是为了找到倒数第 cnt 个节点。\n",
        "    # 通过循环 for _ in range(n - cnt) 将 node 向后移动 n - cnt 次，即找到倒数第 cnt 个节点。\n",
        "    for _ in range(n - cnt):\n",
        "      node = node.next\n",
        "\n",
        "    print(f\"\\n倒数第 {cnt} 个节点 : LinkedList[{n - cnt}] = {node.val}\")\n",
        "\n",
        "    return node\n",
        "\n",
        "    # 算法能够在一次遍历的时间复杂度内完成查找，因此时间复杂度为 O(n)，其中 n 为链表的长度\n",
        "\n",
        "\n",
        "\n",
        "  def trainningPLan_doublePointer(self, head: ListNode, cnt: int) -> ListNode:\n",
        "    # 定义了两个指针 fast 和 slow，初始时都指向链表的头节点 head\n",
        "    fast, slow = head, head\n",
        "    step = cnt\n",
        "\n",
        "    # 第一个 while 循环用于将 fast 指针向前移动 cnt 步，\n",
        "    # 即先让 fast 指针移动 cnt 步，从而使得 fast 指针处于比 slow 指针提前 cnt 步的位置\n",
        "    print(f\"\\n我们首先将 fast 指向链表的头节点,然后向后走 {cnt} 步\")\n",
        "    print(f\"\\n此时 fast 指针刚好指向链表的第 {cnt + 1} 个节点。\")\n",
        "    #for _ in range(step or cnt):\n",
        "    while fast and step > 0:\n",
        "      # fast = fast.next\n",
        "      # cnt = cnt - 1\n",
        "      fast, step = fast.next, step - 1\n",
        "\n",
        "\n",
        "\n",
        "    print(f\"\\nPointer fast : LinkedList[{cnt + 1}] : {fast.val}\")\n",
        "\n",
        "    # 第二个 while 循环中，同时移动 fast 和 slow 指针，直到 fast 指针达到链表的末尾，\n",
        "    # 此时 slow 指针就指向了倒数第 cnt 个节点。\n",
        "    while fast:\n",
        "      #fast = fast.next\n",
        "      #slow = slow.next\n",
        "      fast, slow = fast.next, slow.next\n",
        "\n",
        "    print(f\"\\nPointer slow : 倒数第 {cnt} 个节点 : LinkedList[n - {cnt}] : {slow.val}\")\n",
        "    #print(f\"\\nPointer slow : {slow.val}\")\n",
        "\n",
        "    return slow\n"
      ],
      "metadata": {
        "id": "GWbPjPKMonyi"
      },
      "execution_count": 5,
      "outputs": []
    },
    {
      "cell_type": "markdown",
      "source": [
        "# 方法二：双指针\n",
        "\n",
        "思路与算法\n",
        "\n",
        "快慢指针的思想。\n",
        "\n",
        "我们将第一个指针 fast 指向链表的第 cnt+1 个节点，第二个指针 slow 指向链表的第一个节点，此时指针 fast 与 slow 二者之间刚好间隔 cnt 个节点。\n",
        "\n",
        "此时两个指针同步向后走，当第一个指针 fast 走到链表的尾部空节点时，则此时 slow 指针刚好指向链表的倒数第 cnt 个节点。\n",
        "\n",
        "\n",
        "\n",
        "*   我们首先将 fast 指向链表的头节点，然后向后走 cnt 步，则此时fast 指针刚好指向链表的第 cnt+1 个节点。\n",
        "*   我们首先将 slow 指向链表的头节点，同时 slow 与 fast 同步向后走，当 fast 指针指向链表的尾部空节点时，则此时返回 slow 所指向的节点即可。\n",
        "\n",
        "\n"
      ],
      "metadata": {
        "id": "1fPZitJOvvxs"
      }
    },
    {
      "cell_type": "markdown",
      "source": [
        "# 复杂度分析\n",
        "\n",
        "时间复杂度：O(n)，其中 n 为链表的长度。\n",
        "我们使用快慢指针，只需要一次遍历即可，复杂度为 O(n)。\n",
        "\n",
        "空间复杂度：O(1)。"
      ],
      "metadata": {
        "id": "ra5tqcf3yRmm"
      }
    },
    {
      "cell_type": "markdown",
      "source": [
        "# Test"
      ],
      "metadata": {
        "id": "hdoCGWPqnuN5"
      }
    },
    {
      "cell_type": "code",
      "source": [
        "#head = [2,4,7,8], cnt = 1\n",
        "head = ListNode(2)\n",
        "head.next = ListNode(4)\n",
        "head.next.next = ListNode(7)\n",
        "head.next.next.next = ListNode(8)\n",
        "print_linked_list(head)\n",
        "\n",
        "cnt = 1\n",
        "print(f\"\\ncnt : {cnt}\")\n",
        "\n",
        "solution_instance = Solution()\n",
        "result = solution_instance.trainningPLan_sequentialSearch(head, cnt)\n",
        "print(result.val)"
      ],
      "metadata": {
        "colab": {
          "base_uri": "https://localhost:8080/"
        },
        "id": "yEchyWCEnv7R",
        "outputId": "87bc3ac6-ebe1-4b1d-f4f4-faeb45ec15d9"
      },
      "execution_count": 6,
      "outputs": [
        {
          "output_type": "stream",
          "name": "stdout",
          "text": [
            "Linked list :\n",
            "2 -> 4 -> 7 -> 8 -> None\n",
            "\n",
            "cnt : 1\n",
            "\n",
            "Size of ListNode : 4\n",
            "\n",
            "倒数第 1 个节点 : LinkedList[3] = 8\n",
            "8\n"
          ]
        }
      ]
    },
    {
      "cell_type": "code",
      "source": [
        "#head = [2,4,7,8], cnt = 1\n",
        "head = ListNode(2)\n",
        "head.next = ListNode(4)\n",
        "head.next.next = ListNode(7)\n",
        "head.next.next.next = ListNode(8)\n",
        "print_linked_list(head)\n",
        "\n",
        "cnt = 3\n",
        "print(f\"\\ncnt : {cnt}\")\n",
        "\n",
        "solution_instance = Solution()\n",
        "result = solution_instance.trainningPLan_doublePointer(head, cnt)\n",
        "print(result.val)"
      ],
      "metadata": {
        "colab": {
          "base_uri": "https://localhost:8080/"
        },
        "id": "3Ark-9Khy71B",
        "outputId": "5b8ef09d-c07d-40e1-d21c-887ac72fddb1"
      },
      "execution_count": 7,
      "outputs": [
        {
          "output_type": "stream",
          "name": "stdout",
          "text": [
            "Linked list :\n",
            "2 -> 4 -> 7 -> 8 -> None\n",
            "\n",
            "cnt : 3\n",
            "\n",
            "我们首先将 fast 指向链表的头节点,然后向后走 3 步\n",
            "\n",
            "此时 fast 指针刚好指向链表的第 4 个节点。\n",
            "\n",
            "Pointer fast : LinkedList[4] : 8\n",
            "\n",
            "Pointer slow : 倒数第 3 个节点 : LinkedList[n - 3] : 4\n",
            "4\n"
          ]
        }
      ]
    }
  ]
}